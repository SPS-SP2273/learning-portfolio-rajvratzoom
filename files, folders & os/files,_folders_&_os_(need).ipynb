{
 "cells": [
  {
   "attachments": {},
   "cell_type": "markdown",
   "id": "123456",
   "metadata": {},
   "source": [
    "<div style=\"text-align:left;font-size:2em\"><span style=\"font-weight:bolder;font-size:1.25em\">SP2273 | Learning Portfolio</span><br><br><span style=\"font-weight:bold;color:darkred\">Files, Folders & OS (Need)</span></div>"
   ]
  },
  {
   "attachments": {},
   "cell_type": "markdown",
   "id": "1daa4867",
   "metadata": {},
   "source": [
    "# What to expect in this chapter"
   ]
  },
  {
   "cell_type": "markdown",
   "id": "b555ee77-a447-42a7-96b2-6b31735e7e7e",
   "metadata": {},
   "source": [
    "This chapter will cover python modules that will be used in order to communicate with our operating system(OS). This allows one to create,modify,move,copy,and delete files and dictionaries."
   ]
  },
  {
   "attachments": {},
   "cell_type": "markdown",
   "id": "e0cd9a1d",
   "metadata": {},
   "source": [
    "# 1 Important concepts"
   ]
  },
  {
   "cell_type": "markdown",
   "id": "d2d2066e-0f48-44e9-a07f-9e8090ecd117",
   "metadata": {},
   "source": [
    "This part will cover how to navigate the OS efficiently. The words folder and directory are interchangeable"
   ]
  },
  {
   "attachments": {},
   "cell_type": "markdown",
   "id": "55b5c28d",
   "metadata": {},
   "source": [
    "## 1.1 Path"
   ]
  },
  {
   "cell_type": "markdown",
   "id": "7224db66-c6f7-44f3-b58c-7ec79eddb482",
   "metadata": {},
   "source": [
    "The \"path\" specifies a location on the computer. It acts as an address for your file or folder.\n",
    "\n",
    "You can specify paths relatively or absolutely. An absolute path is like specifying ones's full address e.g. 28 bukit merah road, #19-20. A realtive path is like when you are already at 28 bukit merah road, and all you have to do is take the lift to the correct level and walk to the unit.(the job of going to the block is already done) "
   ]
  },
  {
   "cell_type": "code",
   "execution_count": null,
   "id": "5ef4f2ec-7a0f-4a0a-a263-97498741d628",
   "metadata": {},
   "outputs": [],
   "source": [
    "C:\\\\Users\\Chammika\\Desktop\\data-01.txt  #an example of an absolute path"
   ]
  },
  {
   "attachments": {},
   "cell_type": "markdown",
   "id": "79007017",
   "metadata": {},
   "source": [
    "## 1.2 More about relative paths"
   ]
  },
  {
   "cell_type": "markdown",
   "id": "f81cd310-03aa-45ac-942f-e0c2a5423f08",
   "metadata": {},
   "source": [
    "| Notation | Meaning            |\n",
    "|----------|--------------------|\n",
    "| `.`      | 'this folder'      |\n",
    "| `..`     | 'one folder above' |\n"
   ]
  },
  {
   "cell_type": "markdown",
   "id": "bcf97a0c-0c9b-427a-9575-13eb7cf2a02d",
   "metadata": {},
   "source": [
    "```.\\data-files\\data-01.txt``` means the file ```data-01.txt``` in the folder ```data-files``` in the current folder."
   ]
  },
  {
   "cell_type": "markdown",
   "id": "aabf3c24-9458-4f91-8c7d-20ff5f67ead3",
   "metadata": {},
   "source": [
    "```..\\data-files\\data-01.txt``` means the file ```data-01.txt``` in the folder ```data-files``` located in the folder above."
   ]
  },
  {
   "attachments": {},
   "cell_type": "markdown",
   "id": "d10f39c5",
   "metadata": {},
   "source": [
    "### macOS or Linux"
   ]
  },
  {
   "cell_type": "code",
   "execution_count": null,
   "id": "ec52b3de",
   "metadata": {},
   "outputs": [],
   "source": []
  },
  {
   "attachments": {},
   "cell_type": "markdown",
   "id": "9e3e05d1",
   "metadata": {},
   "source": [
    "## 1.3 Path separator"
   ]
  },
  {
   "cell_type": "markdown",
   "id": "7a421ae4-726d-4b0b-90a3-d95d73c4a180",
   "metadata": {},
   "source": [
    "The biggest difference between windows and macOS(or linux) is the path seperator.\n",
    "Windows uses the \\ as the path seperator while linux uses the /. Below is an example of code referring to the same file on different systems."
   ]
  },
  {
   "cell_type": "markdown",
   "id": "fd5404d7-cc3d-47bc-9298-f3ac009cbc33",
   "metadata": {},
   "source": [
    "| Operating System | Path                                   |\n",
    "|------------------|----------------------------------------|\n",
    "| Windows          | `C:\\Users\\chammika\\Desktop\\data-01.txt`|\n",
    "| macOS (or Linux) | `/Users/chammika/Desktop/data-01.txt`  |\n"
   ]
  },
  {
   "cell_type": "markdown",
   "id": "96148f79-8f42-4745-8871-e570e2085a76",
   "metadata": {},
   "source": [
    "if you want to share code that can be used on both systems, we cannot hardcode the path seperator. We will go through how to overcome this issue using the python OS package later on."
   ]
  },
  {
   "attachments": {},
   "cell_type": "markdown",
   "id": "057204a9",
   "metadata": {},
   "source": [
    "## 1.4 Text files vs. Binary files"
   ]
  },
  {
   "cell_type": "markdown",
   "id": "b2edacb9-88b6-482d-8c61-b6fc2c8339a9",
   "metadata": {},
   "source": [
    "Files are either text files or binary files. Text files are generally simple and can be opened using most softwares. Some text file formats are: ```.txt```,```.md```,```.csv```\n",
    "\n",
    "Instead, binary files require some processing to understand the contents. e.g. looking at the raw data in a ```.png``` file, will only show gibberish. Moreover some binary files can only be run on specific OSs. The ```Excel.app``` on a mac will not run on windows and the ```Excel.exe``` file will not run on maxOS(or linux). Some reasosn for having binary files are speed and size while text files can be demanding in terms of space."
   ]
  },
  {
   "attachments": {},
   "cell_type": "markdown",
   "id": "10f2620d",
   "metadata": {},
   "source": [
    "## 1.5 Extensions"
   ]
  },
  {
   "cell_type": "markdown",
   "id": "403924b6-7ebc-4854-b5b6-91794ab9d95c",
   "metadata": {},
   "source": [
    "Files are usually named to end with an extention separated from the name by a ```.``` like\n",
    "```name.extension```. This ```extension``` lets the OS know what software or app to use to extract the details in a file. For example, a ```.xlsx``` means use Excel or ```.pptx``` means use PowerPoint. Be careful about changing the extension of a file, as it will make your OS angry! To demonstrate, try changing a ```.xlsx``` to ```.txt``` and double-click"
   ]
  },
  {
   "attachments": {},
   "cell_type": "markdown",
   "id": "f096d976",
   "metadata": {},
   "source": [
    "# 2 Opening and closing files"
   ]
  },
  {
   "cell_type": "markdown",
   "id": "2f170551-380d-4ee0-83f9-4f408daa2fbc",
   "metadata": {},
   "source": [
    "Now,let's look at how we an open a file for reading and writing. We can do this using the ```with``` statement(called a context manager). First, download ```spectrum-01.txt``` into the current folder in your Learning Portfolio"
   ]
  },
  {
   "attachments": {},
   "cell_type": "markdown",
   "id": "019e6baf",
   "metadata": {},
   "source": [
    "## 2.1 Reading data"
   ]
  },
  {
   "cell_type": "code",
   "execution_count": 3,
   "id": "0ebfa9e1-d927-4f0d-a4bd-3f4a43ecdc6a",
   "metadata": {},
   "outputs": [
    {
     "name": "stdout",
     "output_type": "stream",
     "text": [
      "Light Intensity, Ch A vs Actual Angular Position, Run #4\n",
      "Actual Angular Position (  )\tLight Intensity, Ch A ( % max )\n",
      "0.000\t-0.2\n",
      "0.000\t-0.1\n",
      "0.000\t-0.1\n",
      "0.000\t-0.1\n",
      "0.000\t-0.1\n",
      "0.000\t-0.2\n",
      "0.000\t-0.1\n",
      "0.000\t-0.1\n",
      "0.000\t-0.1\n",
      "0.000\t-0.2\n",
      "0.000\t-0.1\n",
      "0.000\t-0.1\n",
      "0.000\t-0.2\n",
      "0.000\t-0.3\n",
      "0.000\t-0.2\n",
      "0.000\t-0.2\n",
      "0.001\t-0.1\n",
      "0.001\t-0.1\n",
      "0.001\t-0.1\n",
      "0.001\t-0.1\n",
      "0.001\t-0.1\n",
      "0.001\t-0.1\n",
      "0.004\t-0.1\n",
      "0.010\t-0.2\n",
      "0.018\t-0.2\n",
      "0.024\t-0.3\n",
      "0.029\t-0.3\n",
      "0.033\t-0.3\n",
      "0.036\t-0.2\n",
      "0.039\t-0.1\n",
      "0.043\t-0.1\n",
      "0.047\t-0.1\n",
      "0.053\t-0.1\n",
      "0.060\t-0.1\n",
      "0.066\t-0.1\n",
      "0.069\t-0.1\n",
      "0.073\t-0.1\n",
      "0.076\t-0.1\n",
      "0.079\t-0.1\n",
      "0.081\t-0.1\n",
      "0.082\t-0.1\n",
      "0.083\t-0.2\n",
      "0.083\t-0.2\n",
      "0.086\t-0.2\n",
      "0.090\t-0.2\n",
      "0.095\t-0.2\n",
      "0.100\t-0.3\n",
      "0.103\t-0.3\n",
      "0.104\t-0.2\n",
      "0.105\t-0.3\n",
      "0.107\t-0.2\n",
      "0.110\t-0.2\n",
      "0.115\t-0.1\n",
      "0.122\t-0.2\n",
      "0.128\t-0.1\n",
      "0.134\t-0.2\n",
      "0.139\t-0.1\n",
      "0.144\t-0.2\n",
      "0.150\t-0.2\n",
      "0.157\t-0.2\n",
      "0.164\t-0.2\n",
      "0.170\t-0.3\n",
      "0.175\t-0.3\n",
      "0.180\t-0.2\n",
      "0.185\t-0.2\n",
      "0.191\t-0.1\n",
      "0.195\t-0.1\n",
      "0.198\t-0.2\n",
      "0.201\t-0.1\n",
      "0.204\t-0.2\n",
      "0.206\t-0.2\n",
      "0.208\t-0.3\n",
      "0.210\t-0.3\n",
      "0.213\t-0.1\n",
      "0.217\t0.3\n",
      "0.222\t0.6\n",
      "0.226\t0.2\n",
      "0.230\t0.0\n",
      "0.233\t-0.1\n",
      "0.235\t-0.1\n",
      "0.237\t-0.1\n",
      "0.237\t-0.1\n",
      "0.238\t-0.1\n",
      "0.241\t-0.1\n",
      "0.245\t-0.1\n",
      "0.249\t-0.1\n",
      "0.252\t-0.1\n",
      "0.254\t-0.2\n",
      "0.257\t-0.2\n",
      "0.260\t-0.2\n",
      "0.263\t-0.3\n",
      "0.266\t-0.3\n",
      "0.269\t-0.2\n",
      "0.271\t-0.1\n",
      "0.274\t-0.1\n",
      "0.277\t-0.2\n",
      "0.279\t-0.1\n",
      "0.282\t-0.2\n",
      "0.285\t-0.1\n",
      "0.289\t-0.2\n",
      "0.292\t-0.2\n",
      "0.297\t-0.3\n",
      "0.300\t-0.2\n",
      "0.304\t-0.1\n",
      "0.307\t-0.1\n",
      "0.310\t-0.2\n",
      "0.312\t-0.1\n",
      "0.316\t-0.1\n",
      "0.320\t-0.2\n",
      "0.325\t-0.3\n",
      "0.330\t-0.2\n",
      "0.334\t-0.1\n",
      "0.336\t-0.1\n",
      "0.338\t-0.1\n",
      "0.340\t-0.1\n",
      "0.343\t-0.1\n",
      "0.346\t-0.2\n",
      "0.349\t-0.3\n",
      "0.353\t-0.1\n",
      "0.357\t-0.1\n",
      "0.362\t-0.1\n",
      "0.367\t-0.2\n",
      "0.369\t-0.1\n",
      "0.371\t-0.2\n",
      "0.371\t-0.1\n",
      "0.372\t-0.2\n",
      "0.372\t-0.2\n",
      "0.372\t-0.1\n",
      "0.373\t-0.2\n",
      "0.374\t-0.1\n",
      "0.376\t-0.2\n",
      "0.378\t-0.1\n",
      "0.380\t-0.2\n",
      "0.382\t-0.2\n",
      "0.384\t-0.2\n",
      "0.385\t-0.2\n",
      "0.386\t-0.2\n",
      "0.387\t-0.2\n",
      "0.389\t-0.3\n",
      "0.391\t-0.3\n",
      "0.394\t-0.2\n",
      "0.398\t-0.1\n",
      "0.401\t-0.1\n",
      "0.404\t-0.1\n",
      "0.405\t-0.1\n",
      "0.406\t-0.1\n",
      "0.408\t-0.1\n",
      "0.411\t-0.1\n",
      "0.414\t-0.2\n",
      "0.417\t-0.1\n",
      "0.420\t-0.2\n",
      "0.423\t-0.1\n",
      "0.425\t-0.2\n",
      "0.427\t-0.1\n",
      "0.430\t-0.1\n",
      "0.433\t-0.1\n",
      "0.437\t-0.2\n",
      "0.440\t-0.2\n",
      "0.443\t-0.1\n",
      "0.446\t-0.1\n",
      "0.449\t-0.1\n",
      "0.453\t-0.1\n",
      "0.458\t-0.1\n",
      "0.462\t-0.2\n",
      "0.466\t-0.2\n",
      "0.469\t-0.2\n",
      "0.472\t-0.3\n",
      "0.474\t-0.3\n",
      "0.477\t-0.2\n",
      "0.481\t-0.1\n",
      "0.486\t-0.1\n",
      "0.490\t-0.1\n",
      "0.493\t-0.1\n",
      "0.496\t0.0\n",
      "0.498\t0.0\n",
      "0.501\t-0.1\n",
      "0.503\t-0.1\n",
      "0.505\t-0.2\n",
      "0.507\t-0.3\n",
      "0.510\t-0.1\n",
      "0.513\t-0.1\n",
      "0.516\t-0.1\n",
      "0.519\t-0.1\n",
      "0.523\t-0.1\n",
      "0.526\t-0.1\n",
      "0.529\t-0.1\n",
      "0.533\t-0.1\n",
      "0.537\t-0.1\n",
      "0.541\t-0.2\n",
      "0.544\t-0.1\n",
      "0.547\t-0.1\n",
      "0.549\t-0.1\n",
      "0.551\t-0.1\n",
      "0.554\t-0.1\n",
      "0.557\t-0.1\n",
      "0.561\t-0.1\n",
      "0.564\t-0.1\n",
      "0.568\t-0.2\n",
      "0.572\t-0.2\n",
      "0.577\t-0.2\n",
      "0.581\t-0.1\n",
      "0.586\t0.0\n",
      "0.588\t0.0\n",
      "0.590\t-0.1\n",
      "0.592\t-0.1\n",
      "0.593\t-0.2\n",
      "0.596\t-0.2\n",
      "0.599\t-0.2\n",
      "0.602\t-0.2\n",
      "0.605\t-0.2\n",
      "0.606\t-0.2\n",
      "0.607\t-0.2\n",
      "0.609\t-0.1\n",
      "0.610\t-0.1\n",
      "0.613\t0.0\n",
      "0.615\t0.0\n",
      "0.617\t-0.1\n",
      "0.619\t-0.1\n",
      "0.622\t-0.2\n",
      "0.624\t-0.1\n",
      "0.626\t0.0\n",
      "0.629\t0.1\n",
      "0.632\t0.1\n",
      "0.634\t0.0\n",
      "0.637\t0.0\n",
      "0.639\t0.0\n",
      "0.641\t0.0\n",
      "0.643\t0.0\n",
      "0.645\t0.0\n",
      "0.648\t0.0\n",
      "0.650\t0.0\n",
      "0.653\t0.0\n",
      "0.656\t0.0\n",
      "0.658\t-0.1\n",
      "0.661\t-0.2\n",
      "0.663\t0.0\n",
      "0.666\t0.0\n",
      "0.670\t0.0\n",
      "0.676\t0.0\n",
      "0.680\t0.0\n",
      "0.684\t0.0\n",
      "0.686\t0.1\n",
      "0.686\t0.1\n",
      "0.687\t0.0\n",
      "0.689\t0.0\n",
      "0.693\t0.1\n",
      "0.697\t0.3\n",
      "0.701\t0.5\n",
      "0.703\t1.2\n",
      "0.705\t7.1\n",
      "0.707\t23.7\n",
      "0.709\t51.4\n",
      "0.710\t61.3\n",
      "0.712\t48.9\n",
      "0.714\t25.8\n",
      "0.715\t12.1\n",
      "0.717\t4.6\n",
      "0.718\t1.8\n",
      "0.721\t0.7\n",
      "0.723\t0.5\n",
      "0.724\t0.4\n",
      "0.726\t0.4\n",
      "0.727\t0.4\n",
      "0.728\t0.3\n",
      "0.730\t0.2\n",
      "0.732\t0.2\n",
      "0.735\t0.1\n",
      "0.737\t0.2\n",
      "0.740\t0.2\n",
      "0.742\t0.2\n",
      "0.744\t0.1\n",
      "0.746\t0.1\n",
      "0.748\t0.1\n",
      "0.749\t0.1\n",
      "0.750\t0.0\n",
      "0.752\t0.0\n",
      "0.754\t0.1\n",
      "0.756\t0.1\n",
      "0.758\t0.1\n",
      "0.761\t0.1\n",
      "0.764\t0.0\n",
      "0.766\t-0.1\n",
      "0.768\t-0.1\n",
      "0.770\t-0.1\n",
      "0.772\t0.0\n",
      "0.774\t0.0\n",
      "0.777\t0.0\n",
      "0.779\t0.0\n",
      "0.780\t0.0\n",
      "0.782\t0.0\n",
      "0.784\t-0.1\n",
      "0.785\t0.0\n",
      "0.787\t0.0\n",
      "0.789\t0.0\n",
      "0.791\t0.0\n",
      "0.793\t0.0\n",
      "0.795\t0.0\n",
      "0.797\t-0.1\n",
      "0.800\t0.0\n",
      "0.804\t0.0\n",
      "0.806\t0.0\n",
      "0.809\t0.0\n",
      "0.811\t0.1\n",
      "0.813\t0.9\n",
      "0.815\t3.0\n",
      "0.817\t5.9\n",
      "0.819\t6.6\n",
      "0.821\t4.0\n",
      "0.823\t1.3\n",
      "0.826\t0.2\n",
      "0.828\t0.1\n",
      "0.831\t0.1\n",
      "0.833\t0.1\n",
      "0.836\t0.1\n",
      "0.838\t0.1\n",
      "0.840\t0.1\n",
      "0.843\t0.1\n",
      "0.847\t0.2\n",
      "0.850\t1.0\n",
      "0.854\t0.8\n",
      "0.856\t0.3\n",
      "0.858\t0.1\n",
      "0.860\t0.0\n",
      "0.862\t0.1\n",
      "0.864\t0.1\n",
      "0.866\t0.2\n",
      "0.869\t0.2\n",
      "0.872\t0.1\n",
      "0.875\t0.1\n",
      "0.878\t0.1\n",
      "0.881\t0.1\n",
      "0.884\t0.1\n",
      "0.887\t0.1\n",
      "0.890\t0.0\n",
      "0.893\t0.1\n",
      "0.896\t0.0\n",
      "0.898\t0.1\n",
      "0.901\t0.0\n",
      "0.903\t0.0\n",
      "0.907\t0.0\n",
      "0.910\t0.0\n",
      "0.913\t0.0\n",
      "0.916\t0.0\n",
      "0.919\t0.0\n",
      "0.922\t0.0\n",
      "0.925\t0.0\n",
      "0.929\t0.0\n",
      "0.932\t0.0\n",
      "0.935\t0.0\n",
      "0.938\t0.0\n",
      "0.940\t0.0\n",
      "0.941\t0.0\n",
      "0.942\t0.0\n",
      "0.944\t0.0\n",
      "0.947\t0.0\n",
      "0.950\t0.0\n",
      "0.951\t0.0\n",
      "0.952\t0.0\n",
      "0.953\t0.0\n",
      "0.955\t0.0\n",
      "0.957\t0.0\n",
      "0.959\t0.0\n",
      "0.961\t0.0\n",
      "0.963\t0.0\n",
      "0.965\t0.0\n",
      "0.968\t0.0\n",
      "0.971\t0.0\n",
      "0.973\t0.1\n",
      "0.976\t0.1\n",
      "0.978\t0.0\n",
      "0.980\t0.1\n",
      "0.982\t0.1\n",
      "0.983\t0.0\n",
      "0.984\t0.0\n",
      "0.986\t0.1\n",
      "0.987\t0.0\n",
      "0.989\t0.1\n",
      "0.991\t0.1\n",
      "0.993\t0.1\n",
      "0.995\t0.1\n",
      "0.998\t0.1\n",
      "1.001\t0.1\n",
      "1.004\t0.2\n",
      "1.007\t0.2\n",
      "1.010\t0.1\n",
      "1.013\t0.1\n",
      "1.015\t0.1\n",
      "1.018\t0.1\n",
      "1.021\t0.1\n",
      "1.023\t0.1\n",
      "1.026\t0.1\n",
      "1.028\t0.2\n",
      "1.030\t0.3\n",
      "1.032\t0.3\n",
      "1.034\t0.3\n",
      "1.036\t0.4\n",
      "1.038\t0.4\n",
      "1.040\t0.4\n",
      "1.042\t0.5\n",
      "1.044\t0.5\n",
      "1.047\t0.5\n",
      "1.050\t0.6\n",
      "1.053\t0.7\n",
      "1.055\t0.7\n",
      "1.057\t0.8\n",
      "1.058\t0.9\n",
      "1.060\t1.0\n",
      "1.062\t1.2\n",
      "1.065\t1.3\n",
      "1.068\t1.4\n",
      "1.070\t1.3\n",
      "1.072\t1.3\n",
      "1.074\t1.3\n",
      "1.077\t1.4\n",
      "1.079\t1.6\n",
      "1.081\t1.8\n",
      "1.084\t2.1\n",
      "1.086\t2.4\n",
      "1.088\t2.7\n",
      "1.089\t3.2\n",
      "1.091\t3.8\n",
      "1.093\t4.5\n",
      "1.096\t5.4\n",
      "1.098\t6.7\n",
      "1.101\t8.8\n",
      "1.104\t13.1\n",
      "1.107\t97.1\n",
      "1.112\t97.0\n",
      "1.117\t97.0\n",
      "1.122\t45.6\n",
      "1.125\t11.9\n",
      "1.129\t9.1\n",
      "1.131\t7.6\n",
      "1.133\t7.0\n",
      "1.134\t6.3\n",
      "1.136\t5.9\n",
      "1.138\t5.3\n",
      "1.140\t4.8\n",
      "1.142\t4.2\n",
      "1.144\t3.5\n",
      "1.147\t3.0\n",
      "1.149\t2.6\n",
      "1.152\t2.2\n",
      "1.156\t2.1\n",
      "1.159\t1.8\n",
      "1.162\t1.7\n",
      "1.165\t1.5\n",
      "1.167\t1.4\n",
      "1.170\t1.2\n",
      "1.172\t1.2\n",
      "1.174\t0.9\n",
      "1.177\t0.8\n",
      "1.179\t0.6\n",
      "1.182\t0.4\n",
      "1.184\t0.3\n",
      "1.187\t0.3\n",
      "1.190\t0.2\n",
      "1.192\t0.2\n",
      "1.193\t0.2\n",
      "1.194\t0.2\n",
      "1.194\t0.2\n",
      "1.196\t0.2\n",
      "1.198\t0.2\n",
      "1.201\t0.1\n",
      "1.204\t0.1\n",
      "1.207\t0.1\n",
      "1.211\t0.1\n",
      "1.215\t0.1\n",
      "1.218\t0.0\n",
      "1.222\t0.1\n",
      "1.226\t0.0\n",
      "1.229\t0.0\n",
      "1.231\t-0.1\n",
      "1.234\t0.0\n",
      "1.237\t-0.1\n",
      "1.240\t0.0\n",
      "1.244\t0.0\n",
      "1.247\t0.0\n",
      "1.250\t0.0\n",
      "1.253\t0.0\n",
      "1.255\t0.0\n",
      "1.257\t0.0\n",
      "1.260\t0.0\n",
      "1.263\t0.0\n",
      "1.265\t0.0\n",
      "1.266\t0.0\n",
      "1.268\t0.0\n",
      "1.269\t0.0\n",
      "1.270\t0.0\n",
      "1.271\t0.0\n",
      "1.273\t0.0\n",
      "1.275\t0.0\n",
      "1.277\t0.0\n",
      "1.278\t0.0\n",
      "1.280\t0.0\n",
      "1.281\t0.0\n",
      "1.283\t0.0\n",
      "1.285\t0.0\n",
      "1.286\t0.0\n",
      "1.287\t0.0\n",
      "1.287\t0.0\n",
      "1.288\t-0.1\n",
      "1.289\t-0.1\n",
      "1.290\t-0.1\n",
      "1.291\t-0.2\n",
      "1.292\t-0.2\n",
      "1.292\t-0.2\n",
      "1.293\t-0.1\n",
      "1.294\t0.0\n",
      "1.295\t0.0\n",
      "1.296\t-0.1\n",
      "1.297\t-0.1\n",
      "1.298\t-0.1\n",
      "1.299\t0.0\n",
      "1.300\t0.0\n",
      "1.301\t0.0\n",
      "1.302\t-0.1\n",
      "1.303\t-0.1\n",
      "1.304\t0.0\n",
      "1.306\t-0.1\n",
      "1.306\t-0.1\n",
      "1.308\t-0.1\n",
      "1.309\t-0.1\n",
      "1.311\t-0.2\n",
      "1.312\t-0.2\n",
      "1.313\t-0.2\n",
      "1.314\t-0.1\n",
      "1.316\t0.0\n",
      "1.317\t0.0\n",
      "1.318\t-0.1\n",
      "1.319\t-0.1\n",
      "1.319\t0.0\n",
      "1.320\t0.0\n",
      "1.322\t-0.1\n",
      "1.323\t-0.1\n",
      "1.325\t-0.1\n",
      "1.327\t-0.1\n",
      "1.329\t0.0\n",
      "1.332\t-0.1\n",
      "1.334\t-0.1\n",
      "1.335\t-0.1\n",
      "1.336\t-0.1\n",
      "1.338\t-0.1\n",
      "1.340\t0.0\n",
      "1.341\t-0.1\n",
      "1.343\t0.0\n",
      "1.344\t-0.1\n",
      "1.345\t-0.2\n",
      "1.347\t0.0\n",
      "1.348\t0.0\n",
      "1.349\t0.0\n",
      "1.351\t0.0\n",
      "1.352\t0.0\n",
      "1.353\t0.0\n",
      "1.354\t0.0\n",
      "1.356\t0.0\n",
      "1.358\t0.0\n",
      "1.359\t0.0\n",
      "1.361\t0.0\n",
      "1.363\t0.0\n",
      "1.366\t0.1\n",
      "1.368\t0.1\n",
      "1.369\t0.0\n",
      "1.370\t0.0\n",
      "1.371\t0.0\n",
      "1.372\t0.0\n",
      "1.373\t0.0\n",
      "1.374\t0.0\n",
      "1.376\t0.0\n",
      "1.378\t0.1\n",
      "1.380\t0.3\n",
      "1.380\t0.5\n",
      "1.380\t0.5\n",
      "1.382\t0.4\n",
      "1.384\t0.3\n",
      "1.386\t0.1\n",
      "1.386\t0.0\n",
      "1.386\t0.0\n",
      "1.388\t0.0\n",
      "1.389\t-0.1\n",
      "1.389\t0.0\n",
      "1.389\t-0.1\n",
      "1.389\t-0.1\n",
      "1.389\t-0.2\n",
      "1.390\t0.0\n",
      "1.391\t0.0\n",
      "1.393\t0.0\n",
      "1.396\t0.0\n",
      "1.398\t0.0\n",
      "1.400\t0.0\n",
      "1.401\t0.0\n",
      "1.402\t0.0\n",
      "1.404\t0.0\n",
      "1.405\t0.0\n",
      "1.406\t0.1\n",
      "1.408\t0.7\n",
      "1.409\t2.0\n",
      "1.411\t3.2\n",
      "1.413\t3.8\n",
      "1.415\t2.4\n",
      "1.418\t0.7\n",
      "1.420\t0.1\n",
      "1.423\t0.0\n",
      "1.425\t0.0\n",
      "1.428\t0.0\n",
      "1.430\t0.0\n",
      "1.432\t0.0\n",
      "1.433\t0.0\n",
      "1.435\t0.0\n",
      "1.436\t-0.1\n",
      "1.437\t-0.1\n",
      "1.439\t-0.2\n",
      "1.441\t0.0\n",
      "1.443\t0.0\n",
      "1.445\t0.0\n",
      "1.448\t0.0\n",
      "1.449\t0.0\n",
      "1.451\t0.0\n",
      "1.453\t0.0\n",
      "1.454\t0.0\n",
      "1.456\t0.0\n",
      "1.457\t0.0\n",
      "1.459\t0.0\n",
      "1.461\t0.0\n",
      "1.463\t0.0\n",
      "1.465\t-0.1\n",
      "1.467\t-0.1\n",
      "1.468\t-0.1\n",
      "1.470\t0.0\n",
      "1.472\t0.0\n",
      "1.473\t0.0\n",
      "1.476\t0.0\n",
      "1.478\t0.0\n",
      "1.480\t0.0\n",
      "1.483\t0.0\n",
      "1.486\t0.0\n",
      "1.489\t0.0\n",
      "1.492\t0.0\n",
      "1.495\t0.0\n",
      "1.499\t0.0\n",
      "1.502\t0.1\n",
      "1.507\t0.1\n",
      "1.510\t0.2\n",
      "1.513\t0.3\n",
      "1.515\t0.5\n",
      "1.518\t5.8\n",
      "1.521\t28.1\n",
      "1.525\t36.1\n",
      "1.528\t10.0\n",
      "1.531\t1.3\n",
      "1.533\t0.4\n",
      "1.535\t0.3\n",
      "1.537\t0.2\n",
      "1.540\t0.2\n",
      "1.543\t0.1\n",
      "1.546\t0.1\n",
      "1.550\t0.0\n",
      "1.553\t0.0\n",
      "1.556\t-0.1\n",
      "1.559\t-0.1\n",
      "1.562\t0.0\n",
      "1.565\t0.0\n",
      "1.569\t0.0\n",
      "1.572\t0.0\n",
      "1.575\t0.0\n",
      "1.577\t0.0\n",
      "1.581\t-0.2\n",
      "1.585\t-0.2\n",
      "1.589\t-0.1\n",
      "1.593\t0.0\n",
      "1.596\t-0.1\n",
      "1.597\t-0.1\n",
      "1.598\t-0.1\n",
      "1.599\t-0.1\n",
      "1.601\t-0.1\n",
      "1.602\t0.0\n",
      "1.603\t0.0\n",
      "1.606\t0.0\n",
      "1.611\t-0.2\n",
      "1.616\t-0.3\n",
      "1.623\t-0.2\n",
      "1.628\t-0.1\n",
      "1.633\t-0.1\n",
      "1.639\t-0.1\n",
      "1.644\t-0.1\n",
      "1.649\t-0.1\n",
      "1.654\t0.0\n",
      "1.658\t-0.1\n",
      "1.663\t-0.1\n",
      "1.667\t-0.1\n",
      "1.671\t-0.1\n",
      "1.675\t-0.1\n",
      "1.679\t-0.3\n",
      "1.684\t-0.2\n",
      "1.688\t-0.1\n",
      "1.693\t-0.1\n",
      "1.696\t-0.1\n",
      "1.700\t-0.1\n",
      "1.704\t-0.1\n",
      "1.707\t-0.1\n",
      "1.710\t-0.1\n",
      "1.712\t-0.1\n",
      "1.714\t-0.1\n",
      "1.717\t-0.1\n",
      "1.721\t-0.1\n",
      "1.726\t-0.1\n",
      "1.731\t-0.1\n",
      "1.734\t-0.1\n",
      "1.737\t-0.1\n",
      "1.739\t-0.1\n",
      "1.742\t-0.1\n",
      "1.745\t0.0\n",
      "1.749\t0.2\n",
      "1.752\t0.1\n",
      "1.756\t-0.1\n",
      "1.759\t-0.1\n",
      "1.762\t-0.1\n",
      "1.767\t-0.1\n",
      "1.772\t-0.3\n",
      "1.777\t-0.3\n",
      "1.783\t-0.2\n",
      "1.787\t-0.1\n",
      "1.792\t-0.2\n",
      "1.796\t-0.3\n",
      "1.800\t-0.2\n",
      "1.803\t-0.2\n",
      "1.808\t-0.2\n",
      "1.812\t-0.2\n",
      "1.818\t-0.1\n",
      "1.823\t-0.1\n",
      "1.828\t-0.1\n",
      "1.835\t-0.1\n",
      "1.844\t-0.1\n",
      "1.852\t-0.2\n",
      "1.859\t-0.1\n",
      "1.865\t-0.2\n",
      "1.870\t-0.1\n",
      "1.873\t-0.2\n",
      "1.874\t-0.2\n",
      "1.875\t-0.2\n",
      "1.877\t-0.2\n",
      "1.880\t-0.2\n",
      "1.883\t-0.2\n",
      "1.887\t-0.2\n",
      "1.892\t-0.3\n",
      "1.895\t-0.3\n",
      "1.898\t-0.2\n",
      "1.903\t-0.2\n",
      "1.907\t-0.2\n",
      "1.912\t-0.1\n",
      "1.918\t-0.1\n",
      "1.923\t-0.2\n",
      "1.929\t-0.2\n",
      "1.934\t-0.1\n",
      "1.940\t-0.1\n",
      "1.944\t-0.2\n",
      "1.948\t-0.2\n",
      "1.952\t-0.2\n",
      "1.955\t-0.2\n",
      "1.960\t-0.2\n",
      "1.966\t-0.2\n",
      "1.971\t-0.2\n",
      "1.975\t-0.1\n",
      "1.979\t-0.2\n",
      "1.985\t-0.3\n",
      "1.990\t-0.2\n",
      "1.997\t-0.1\n",
      "2.002\t-0.1\n",
      "2.007\t-0.2\n",
      "2.012\t-0.1\n",
      "2.017\t-0.2\n",
      "2.022\t-0.1\n",
      "2.027\t-0.2\n",
      "2.034\t-0.1\n",
      "2.041\t-0.1\n",
      "2.048\t1.1\n",
      "2.053\t1.6\n",
      "2.057\t0.7\n",
      "2.060\t0.1\n",
      "2.064\t0.0\n",
      "2.068\t-0.1\n",
      "2.073\t-0.1\n",
      "2.079\t-0.1\n",
      "2.086\t-0.1\n",
      "2.094\t-0.1\n",
      "2.100\t-0.2\n",
      "2.105\t-0.1\n",
      "2.109\t-0.1\n",
      "2.111\t-0.1\n",
      "2.115\t-0.2\n",
      "2.120\t-0.2\n",
      "2.124\t-0.1\n",
      "2.128\t-0.2\n",
      "2.131\t-0.1\n",
      "2.134\t-0.2\n",
      "2.135\t-0.1\n",
      "2.138\t-0.1\n",
      "2.140\t-0.1\n",
      "2.144\t-0.1\n",
      "2.148\t-0.1\n",
      "2.153\t-0.2\n",
      "2.158\t-0.2\n",
      "2.162\t-0.2\n",
      "2.166\t-0.2\n",
      "2.170\t-0.2\n",
      "2.175\t-0.2\n",
      "2.179\t-0.2\n",
      "2.183\t-0.1\n",
      "2.187\t-0.2\n",
      "2.191\t-0.2\n",
      "2.194\t-0.2\n",
      "2.197\t-0.2\n",
      "2.200\t-0.2\n",
      "2.203\t-0.2\n",
      "2.207\t-0.2\n",
      "2.211\t-0.1\n",
      "2.215\t-0.2\n",
      "2.219\t-0.2\n",
      "2.222\t-0.1\n",
      "2.224\t-0.2\n",
      "2.225\t-0.2\n",
      "2.225\t-0.2\n",
      "2.225\t-0.2\n",
      "2.225\t-0.3\n",
      "2.225\t-0.2\n",
      "2.225\t-0.3\n",
      "2.225\t-0.3\n",
      "2.225\t-0.3\n",
      "2.225\t-0.2\n",
      "2.225\t-0.1\n",
      "2.225\t-0.1\n",
      "2.225\t-0.1\n",
      "2.225\t-0.1\n",
      "2.225\t-0.1\n",
      "2.225\t-0.1\n",
      "2.225\t-0.2\n",
      "2.225\t-0.1\n",
      "2.225\t-0.1\n",
      "2.225\t-0.2\n",
      "2.225\t-0.1\n",
      "2.225\t-0.1\n",
      "2.225\t-0.1\n",
      "2.225\t-0.2\n",
      "2.225\t-0.2\n",
      "2.225\t-0.2\n",
      "2.225\t-0.1\n",
      "2.225\t-0.1\n",
      "2.225\t-0.2\n",
      "2.224\t-0.2\n",
      "2.224\t-0.2\n",
      "2.224\t-0.2\n",
      "2.224\t-0.2\n",
      "2.224\t-0.2\n",
      "2.224\t-0.2\n",
      "2.224\t-0.2\n",
      "2.224\t-0.3\n",
      "2.224\t-0.3\n",
      "2.224\t-0.2\n",
      "2.224\t-0.3\n",
      "2.224\t-0.3\n",
      "2.224\t-0.2\n",
      "2.224\t-0.3\n",
      "2.224\t-0.3\n",
      "2.224\t-0.3\n",
      "2.224\t-0.1\n",
      "2.224\t-0.2\n",
      "2.224\t-0.2\n",
      "2.224\t-0.2\n",
      "2.224\t-0.1\n",
      "2.224\t-0.1\n",
      "2.224\t-0.2\n",
      "2.224\t-0.2\n",
      "2.224\t-0.2\n",
      "2.224\t-0.2\n",
      "2.224\t-0.1\n",
      "2.224\t-0.1\n",
      "2.224\t-0.2\n",
      "2.224\t-0.2\n",
      "2.224\t-0.2\n",
      "2.224\t-0.2\n",
      "2.224\t-0.3\n",
      "2.224\t-0.2\n",
      "2.224\t-0.1\n",
      "2.224\t-0.1\n",
      "2.224\t-0.2\n",
      "2.224\t-0.2\n",
      "2.224\t-0.2\n",
      "2.224\t-0.2\n",
      "2.224\t-0.1\n",
      "2.224\t-0.2\n",
      "2.224\t-0.2\n",
      "2.224\t-0.2\n",
      "2.224\t-0.1\n",
      "2.224\t-0.2\n",
      "2.224\t-0.1\n",
      "2.224\t-0.2\n",
      "2.224\t-0.2\n",
      "2.224\t-0.2\n",
      "2.224\t-0.2\n",
      "2.224\t-0.2\n",
      "2.224\t-0.2\n",
      "2.224\t-0.2\n",
      "2.224\t-0.2\n",
      "2.224\t-0.2\n",
      "2.224\t-0.2\n",
      "2.224\t-0.2\n",
      "2.224\t-0.2\n",
      "2.224\t-0.2\n",
      "2.224\t-0.2\n",
      "2.224\t-0.2\n",
      "2.224\t-0.2\n",
      "2.224\t-0.3\n",
      "2.224\t-0.3\n",
      "2.224\t-0.3\n",
      "2.224\t-0.3\n",
      "2.224\t-0.3\n",
      "\n"
     ]
    }
   ],
   "source": [
    "with open('spectrum-01.txt', 'r') as file:\n",
    "    file_content = file.read()\n",
    "\n",
    "print(file_content)"
   ]
  },
  {
   "cell_type": "markdown",
   "id": "78a9fa71-cea5-4f8a-b928-a3f13ff0cd7d",
   "metadata": {},
   "source": [
    "The ```open()``` function 'opens' your file. The ```'r'``` specifies that I only want to read from the file. Using ```with``` frees you from worrying about closing the file after you are done."
   ]
  },
  {
   "attachments": {},
   "cell_type": "markdown",
   "id": "2a8b1ea8",
   "metadata": {},
   "source": [
    "## 2.2 Writing data"
   ]
  },
  {
   "cell_type": "code",
   "execution_count": 7,
   "id": "a51bf150-3cd2-48e8-8d02-ea3ab7f421ab",
   "metadata": {},
   "outputs": [],
   "source": [
    "text = 'Far out in the uncharted backwaters of the unfashionable end of the western spiral arm of the Galaxy lies a small unregarded yellow sun.\\nOrbiting this at a distance of roughly ninety-two million miles is an utterly insignificant little blue green planet whose ape-descended life forms are so amazingly primitive that they still think digital watches are a pretty neat idea.'"
   ]
  },
  {
   "cell_type": "markdown",
   "id": "4174bafb-fd03-427c-a9d1-d04a58579958",
   "metadata": {},
   "source": [
    "2 writing methods will be shown below"
   ]
  },
  {
   "attachments": {},
   "cell_type": "markdown",
   "id": "4796f507",
   "metadata": {},
   "source": [
    "### Writing to a file in one go"
   ]
  },
  {
   "cell_type": "markdown",
   "id": "4672e53d-5d5a-4d26-b1cc-cfa7abae38fb",
   "metadata": {},
   "source": [
    "First, let's write everything in one go"
   ]
  },
  {
   "cell_type": "code",
   "execution_count": 8,
   "id": "af9a3477",
   "metadata": {},
   "outputs": [],
   "source": [
    "with open('my-text-once.txt', 'w') as file:\n",
    "    file.write(text)"
   ]
  },
  {
   "cell_type": "markdown",
   "id": "9208a7d2-7524-44c6-a588-1c4785fdb01f",
   "metadata": {},
   "source": [
    "You should now have a file ```my-text-once.txt``` in your directory. You should open it to take a look. By the way, the ```'w'``` indicates that I am opening the file for writing"
   ]
  },
  {
   "attachments": {},
   "cell_type": "markdown",
   "id": "b60eb6f8",
   "metadata": {},
   "source": [
    "### Writing to a file, line by line"
   ]
  },
  {
   "cell_type": "markdown",
   "id": "2bb3d7bd-6291-4a4f-ae74-bc414f54d529",
   "metadata": {},
   "source": [
    "How to write a file line by line. This is useful when dealing with data generated on the fly. "
   ]
  },
  {
   "cell_type": "code",
   "execution_count": 9,
   "id": "554bf747-17c4-4cb6-aa1d-9de765021cb9",
   "metadata": {},
   "outputs": [],
   "source": [
    "with open('my-text-lines.txt', 'w') as file:\n",
    "    for line in text.splitlines():\n",
    "        file.writelines(line)"
   ]
  },
  {
   "attachments": {},
   "cell_type": "markdown",
   "id": "37c49094",
   "metadata": {},
   "source": [
    "# 3 Some useful packages"
   ]
  },
  {
   "cell_type": "markdown",
   "id": "c274ea46-6000-4bbd-9cf1-06de6bdc93eb",
   "metadata": {},
   "source": [
    "How to create,copy, and delete files and folders and navigate the OS. The following packages will be used"
   ]
  },
  {
   "cell_type": "markdown",
   "id": "af2fe8f7-50e9-40fa-bbdc-3c00e15fa443",
   "metadata": {},
   "source": [
    "| Package | Primarily used for                                           |\n",
    "|---------|--------------------------------------------------------------|\n",
    "| `os`    | To 'talk' to the OS to create, modify, delete folders and write OS-agnostic code. |\n",
    "| `glob`  | To search for files.                                         |\n",
    "| `shutil`| To copy files.                                               |\n"
   ]
  },
  {
   "cell_type": "code",
   "execution_count": 10,
   "id": "e90e3f90-8194-4580-b2b6-d0e9b5b94e14",
   "metadata": {},
   "outputs": [],
   "source": [
    "import os\n",
    "import glob\n",
    "import shutil"
   ]
  },
  {
   "attachments": {},
   "cell_type": "markdown",
   "id": "4b224709",
   "metadata": {},
   "source": [
    "# 4 OS safe paths"
   ]
  },
  {
   "cell_type": "markdown",
   "id": "e0991e53-6745-45b2-972f-abdfd5a7619a",
   "metadata": {},
   "source": [
    "Consider a file ```data-01.txt``` in the sub-directory ```sg-data``` of the directory ```all-data```"
   ]
  },
  {
   "cell_type": "markdown",
   "id": "0fa6e76e-1b82-4157-ac71-39c145ff6b82",
   "metadata": {},
   "source": [
    "To access ```data-01.txt``` you have to use the code below:"
   ]
  },
  {
   "cell_type": "code",
   "execution_count": 12,
   "id": "a21a708d-0eda-4ac4-bed7-b2932a0e9a07",
   "metadata": {},
   "outputs": [
    {
     "name": "stdout",
     "output_type": "stream",
     "text": [
      ".\\all-data\\sg-data\\data-01.txt\n"
     ]
    }
   ],
   "source": [
    "path = os.path.join('.', 'all-data', 'sg-data', 'data-01.txt')\n",
    "print(path)"
   ]
  },
  {
   "cell_type": "markdown",
   "id": "4877184e-fbcc-43cd-815a-245ebaa8171d",
   "metadata": {},
   "source": [
    "using ```os.path.join()``` will adjust the path with either ```\\``` or ```/``` depending on the OS, allowing it to run on any OS."
   ]
  },
  {
   "attachments": {},
   "cell_type": "markdown",
   "id": "c24df13b",
   "metadata": {},
   "source": [
    "# 5 Folders"
   ]
  },
  {
   "attachments": {},
   "cell_type": "markdown",
   "id": "daf32a9c",
   "metadata": {},
   "source": [
    "## 5.1 Creating folders"
   ]
  },
  {
   "cell_type": "markdown",
   "id": "f9b970cb-9bc5-4a3f-9f79-555e6b918ad0",
   "metadata": {},
   "source": [
    "How to create a folder using programming: It can be useful as a small amount of code can quickly oragnise one's data."
   ]
  },
  {
   "cell_type": "code",
   "execution_count": 13,
   "id": "bcae3e98-ae2c-47d6-89ac-f7fe7cd22a8c",
   "metadata": {},
   "outputs": [
    {
     "name": "stdout",
     "output_type": "stream",
     "text": [
      "Creating people\\John\n",
      "Creating people\\Paul\n",
      "Creating people\\Ringo\n"
     ]
    }
   ],
   "source": [
    "os.mkdir('people')\n",
    "\n",
    "for person in ['John', 'Paul', 'Ringo']:\n",
    "    path = os.path.join('people', person)\n",
    "    print(f'Creating {path}')\n",
    "    os.mkdir(path)"
   ]
  },
  {
   "cell_type": "markdown",
   "id": "181f3ac5-4e47-4fd8-8b0d-9448ba702d96",
   "metadata": {},
   "source": [
    "The print statement has been included to understand what is going on"
   ]
  },
  {
   "attachments": {},
   "cell_type": "markdown",
   "id": "61c1f2ed",
   "metadata": {},
   "source": [
    "## 5.2 Checking for existence"
   ]
  },
  {
   "cell_type": "markdown",
   "id": "905c2e41-c985-43e3-84b4-d03a0ede7f2b",
   "metadata": {},
   "source": [
    "Python will be angry if you run the above code 2 times as the files would already exist. Therefore one should check if something first exists. This can be done using the 2 methods shown below"
   ]
  },
  {
   "attachments": {},
   "cell_type": "markdown",
   "id": "1294ba40",
   "metadata": {},
   "source": [
    "### Using try-except"
   ]
  },
  {
   "cell_type": "code",
   "execution_count": 14,
   "id": "bf6e0f88",
   "metadata": {},
   "outputs": [
    {
     "name": "stdout",
     "output_type": "stream",
     "text": [
      "people\\John already exists; skipping creation.\n",
      "people\\Paul already exists; skipping creation.\n",
      "people\\Ringo already exists; skipping creation.\n"
     ]
    }
   ],
   "source": [
    "for person in ['John', 'Paul', 'Ringo']:\n",
    "    path = os.path.join('people', person)\n",
    "    try:\n",
    "        os.mkdir(path)\n",
    "        print(f'Creating {path}')\n",
    "    except FileExistsError:\n",
    "        print(f'{path} already exists; skipping creation.')"
   ]
  },
  {
   "attachments": {},
   "cell_type": "markdown",
   "id": "f432b0e4",
   "metadata": {},
   "source": [
    "### Using os.path.exists()"
   ]
  },
  {
   "cell_type": "code",
   "execution_count": 15,
   "id": "2dd5a1d6",
   "metadata": {},
   "outputs": [
    {
     "name": "stdout",
     "output_type": "stream",
     "text": [
      "people\\John already exists; skipping creation.\n",
      "people\\Paul already exists; skipping creation.\n",
      "people\\Ringo already exists; skipping creation.\n"
     ]
    }
   ],
   "source": [
    "for person in ['John', 'Paul', 'Ringo']:\n",
    "    path = os.path.join('people', person)\n",
    "    if os.path.exists(path):\n",
    "        print(f'{path} already exists; skipping creation.')\n",
    "    else:\n",
    "        os.mkdir(path)\n",
    "        print(f'Creating {path}')"
   ]
  },
  {
   "attachments": {},
   "cell_type": "markdown",
   "id": "d5aa4fec",
   "metadata": {},
   "source": [
    "## 5.3 Copying files"
   ]
  },
  {
   "cell_type": "markdown",
   "id": "1b82c5b8-f4fb-4907-a62e-4b0aeeca400a",
   "metadata": {},
   "source": [
    "copying the ```sp2273_logo.png``` into the files for john paul and ringo"
   ]
  },
  {
   "cell_type": "code",
   "execution_count": 17,
   "id": "34744008-4113-4b04-9166-09b204cd2421",
   "metadata": {},
   "outputs": [
    {
     "name": "stdout",
     "output_type": "stream",
     "text": [
      "Copied file to people\\John\n",
      "Copied file to people\\Paul\n",
      "Copied file to people\\Ringo\n"
     ]
    }
   ],
   "source": [
    "for person in ['John', 'Paul', 'Ringo']:\n",
    "    path_to_destination = os.path.join('people', person)\n",
    "    shutil.copy('sp2273_logo.png', path_to_destination)\n",
    "    print(f'Copied file to {path_to_destination}')"
   ]
  },
  {
   "cell_type": "markdown",
   "id": "c6c20e18-e093-4965-a7f4-a11dfbcafa5d",
   "metadata": {},
   "source": [
    "Let’s say I want all the images in a sub-folder called ```imgs``` in each person’s directory. I can do this by first creating the folders ```imgs``` and then moving the logo file into that folder."
   ]
  },
  {
   "cell_type": "code",
   "execution_count": 18,
   "id": "da2666ef-bf8e-4049-9427-84572b71b10b",
   "metadata": {},
   "outputs": [
    {
     "name": "stdout",
     "output_type": "stream",
     "text": [
      "Moved logo to people\\John\\imgs\\sp2273_logo.png\n",
      "Moved logo to people\\Paul\\imgs\\sp2273_logo.png\n",
      "Moved logo to people\\Ringo\\imgs\\sp2273_logo.png\n"
     ]
    }
   ],
   "source": [
    "for person in ['John', 'Paul', 'Ringo']:\n",
    "    # Create folder 'imgs'\n",
    "    path_to_imgs = os.path.join('people', person, 'imgs')\n",
    "    if not os.path.exists(path_to_imgs):\n",
    "        os.mkdir(path_to_imgs)\n",
    "\n",
    "    # Move logo file\n",
    "    current_path_of_logo = os.path.join('people', person, 'sp2273_logo.png')\n",
    "    new_path_of_logo = os.path.join('people', person, 'imgs', 'sp2273_logo.png')\n",
    "\n",
    "    shutil.move(current_path_of_logo, new_path_of_logo)\n",
    "    print(f'Moved logo to {new_path_of_logo}')"
   ]
  },
  {
   "attachments": {},
   "cell_type": "markdown",
   "id": "4fdef716",
   "metadata": {},
   "source": [
    "# 6 Listing and looking for files"
   ]
  },
  {
   "cell_type": "markdown",
   "id": "3675559a-c0b5-47a5-8540-245728be8a23",
   "metadata": {},
   "source": [
    "```*``` is called a wildcard and indicates 'anything'. so the code below gets all the files in the current folder"
   ]
  },
  {
   "cell_type": "code",
   "execution_count": 20,
   "id": "8f957c9b-d601-47d0-995a-764bbaffdc4e",
   "metadata": {},
   "outputs": [
    {
     "data": {
      "text/plain": [
       "['files,_folders_&_os_(need).ipynb',\n",
       " 'my-text-lines.txt',\n",
       " 'my-text-once.txt',\n",
       " 'people',\n",
       " 'sp2273_logo.png',\n",
       " 'spectrum-01.txt']"
      ]
     },
     "execution_count": 20,
     "metadata": {},
     "output_type": "execute_result"
    }
   ],
   "source": [
    "glob.glob('*')"
   ]
  },
  {
   "cell_type": "markdown",
   "id": "13f2a32d-a1bd-48d8-a988-6fd49e5c4c87",
   "metadata": {},
   "source": [
    "The code below indicates to glob that i want any file that beings with 'peo' and is followed by anything"
   ]
  },
  {
   "cell_type": "code",
   "execution_count": 22,
   "id": "7e8d70cd-4ac9-4836-8c79-9eeeb6fd6489",
   "metadata": {},
   "outputs": [
    {
     "data": {
      "text/plain": [
       "['people']"
      ]
     },
     "execution_count": 22,
     "metadata": {},
     "output_type": "execute_result"
    }
   ],
   "source": [
    "glob.glob('peo*')"
   ]
  },
  {
   "cell_type": "markdown",
   "id": "297f543b-518b-4b3e-a398-1fb1f6dc30e8",
   "metadata": {},
   "source": [
    "The code below means that I want to know what is inside the folders that start with peo"
   ]
  },
  {
   "cell_type": "code",
   "execution_count": 23,
   "id": "06bbd17d-deb7-4977-86a1-0f18d14a0c8a",
   "metadata": {},
   "outputs": [
    {
     "data": {
      "text/plain": [
       "['people\\\\John', 'people\\\\Paul', 'people\\\\Ringo']"
      ]
     },
     "execution_count": 23,
     "metadata": {},
     "output_type": "execute_result"
    }
   ],
   "source": [
    "glob.glob('peo*/*')"
   ]
  },
  {
   "cell_type": "markdown",
   "id": "3ec5271b-baf9-4631-8f8e-adbdac51d74d",
   "metadata": {},
   "source": [
    "If I want to see the structure of the folder ```people```. I will need to tell glob to search recursively by putting ```recursive=True```. I must also use two wildcards```**``` to indicate 'sub-directories'"
   ]
  },
  {
   "cell_type": "code",
   "execution_count": 24,
   "id": "c5e167ca-0bb0-458a-9e14-b35a4636c4b7",
   "metadata": {},
   "outputs": [
    {
     "data": {
      "text/plain": [
       "['people\\\\',\n",
       " 'people\\\\John',\n",
       " 'people\\\\John\\\\imgs',\n",
       " 'people\\\\John\\\\imgs\\\\sp2273_logo.png',\n",
       " 'people\\\\Paul',\n",
       " 'people\\\\Paul\\\\imgs',\n",
       " 'people\\\\Paul\\\\imgs\\\\sp2273_logo.png',\n",
       " 'people\\\\Ringo',\n",
       " 'people\\\\Ringo\\\\imgs',\n",
       " 'people\\\\Ringo\\\\imgs\\\\sp2273_logo.png']"
      ]
     },
     "execution_count": 24,
     "metadata": {},
     "output_type": "execute_result"
    }
   ],
   "source": [
    "glob.glob('people/**', recursive=True)"
   ]
  },
  {
   "cell_type": "markdown",
   "id": "00d975c4-66d9-41c7-96f1-469dfa4b078e",
   "metadata": {},
   "source": [
    "If I only want ```.png``` files: We must modify the pattern such that we ask ```glob``` to go through the structure of ```people``` and show the files with the pattern 'anything'```.png```\n"
   ]
  },
  {
   "cell_type": "code",
   "execution_count": 26,
   "id": "54d3c785-a2da-4b07-90f5-6e30fb41156c",
   "metadata": {},
   "outputs": [
    {
     "data": {
      "text/plain": [
       "['people\\\\John\\\\imgs\\\\sp2273_logo.png',\n",
       " 'people\\\\Paul\\\\imgs\\\\sp2273_logo.png',\n",
       " 'people\\\\Ringo\\\\imgs\\\\sp2273_logo.png']"
      ]
     },
     "execution_count": 26,
     "metadata": {},
     "output_type": "execute_result"
    }
   ],
   "source": [
    "glob.glob('people/**/*.png', recursive=True)"
   ]
  },
  {
   "attachments": {},
   "cell_type": "markdown",
   "id": "53210228",
   "metadata": {},
   "source": [
    "# 7 Extracting file info"
   ]
  },
  {
   "cell_type": "markdown",
   "id": "eb251621-3d50-48b1-816d-2179b11078dc",
   "metadata": {},
   "source": [
    "When dealing with files and folders, you often have to extract the filename, folder or extension. You can do this using string manipulation; for example if I want the filename and extension:"
   ]
  },
  {
   "cell_type": "code",
   "execution_count": 68,
   "id": "05c9ecc7-a745-4565-a4d0-2207bf2e324c",
   "metadata": {},
   "outputs": [
    {
     "name": "stdout",
     "output_type": "stream",
     "text": [
      "people/Ringo/imgs/sp2273_logo.png\n",
      "png\n"
     ]
    }
   ],
   "source": [
    "path = 'people/Ringo/imgs/sp2273_logo.png'\n",
    "filename = path.split(os.path.sep)[-1]\n",
    "print(filename)\n",
    "extension = filename.split('.')[-1] #split at the last dot and choose the last element after the split\n",
    "print(extension)"
   ]
  },
  {
   "cell_type": "markdown",
   "id": "74cbe3c3-649a-4f2d-bafc-012f38306338",
   "metadata": {},
   "source": [
    "```os.path.sep``` is the path separator (i.e. \\ or /) for the OS. I split the path where the separator occurred and picked the last element in the list. I use a similar strategy for the file extension by splitting at the ```.``` and chosing the last element"
   ]
  },
  {
   "cell_type": "markdown",
   "id": "783610b1-fe3b-47b6-b204-e888017cfc0e",
   "metadata": {},
   "source": [
    "```os``` also can complete this task"
   ]
  },
  {
   "cell_type": "code",
   "execution_count": 70,
   "id": "2df45075-d76e-470f-a891-5b5577dd5742",
   "metadata": {},
   "outputs": [],
   "source": [
    "path = 'people/Ringo/imgs/sp2273_logo.png'"
   ]
  },
  {
   "cell_type": "code",
   "execution_count": 71,
   "id": "8f57d00c-9e19-4102-910f-a3a180f42023",
   "metadata": {},
   "outputs": [
    {
     "data": {
      "text/plain": [
       "('people/Ringo/imgs', 'sp2273_logo.png')"
      ]
     },
     "execution_count": 71,
     "metadata": {},
     "output_type": "execute_result"
    }
   ],
   "source": [
    "os.path.split(path) #split filename from the rest"
   ]
  },
  {
   "cell_type": "code",
   "execution_count": 72,
   "id": "12a69432-8f12-497f-9d67-90c351ab99d6",
   "metadata": {},
   "outputs": [
    {
     "data": {
      "text/plain": [
       "('people/Ringo/imgs/sp2273_logo', '.png')"
      ]
     },
     "execution_count": 72,
     "metadata": {},
     "output_type": "execute_result"
    }
   ],
   "source": [
    "os.path.splitext(path) #split extension"
   ]
  },
  {
   "cell_type": "code",
   "execution_count": 73,
   "id": "3c850dbd-0fef-4f68-8bb5-2d3f4d737b01",
   "metadata": {},
   "outputs": [
    {
     "data": {
      "text/plain": [
       "'people/Ringo/imgs'"
      ]
     },
     "execution_count": 73,
     "metadata": {},
     "output_type": "execute_result"
    }
   ],
   "source": [
    "os.path.dirname(path)    # Show the directory"
   ]
  },
  {
   "attachments": {},
   "cell_type": "markdown",
   "id": "5b81127d",
   "metadata": {},
   "source": [
    "# 8 Deleting stuff"
   ]
  },
  {
   "cell_type": "markdown",
   "id": "e788a77f-bc3d-4e87-a55e-6585530244f4",
   "metadata": {},
   "source": [
    "To remove files:"
   ]
  },
  {
   "cell_type": "code",
   "execution_count": 64,
   "id": "dd23ca23-481b-4d67-ab5f-54d87fce452b",
   "metadata": {},
   "outputs": [
    {
     "ename": "FileNotFoundError",
     "evalue": "[WinError 3] The system cannot find the path specified: 'people/Ringo/imgs/sp2273_logo.png'",
     "output_type": "error",
     "traceback": [
      "\u001b[1;31m---------------------------------------------------------------------------\u001b[0m",
      "\u001b[1;31mFileNotFoundError\u001b[0m                         Traceback (most recent call last)",
      "Cell \u001b[1;32mIn[64], line 1\u001b[0m\n\u001b[1;32m----> 1\u001b[0m \u001b[43mos\u001b[49m\u001b[38;5;241;43m.\u001b[39;49m\u001b[43mremove\u001b[49m\u001b[43m(\u001b[49m\u001b[38;5;124;43m'\u001b[39;49m\u001b[38;5;124;43mpeople/Ringo/imgs/sp2273_logo.png\u001b[39;49m\u001b[38;5;124;43m'\u001b[39;49m\u001b[43m)\u001b[49m  \u001b[38;5;66;03m#in Ringo/imgs, sp2273_logo.png is deleted\u001b[39;00m\n",
      "\u001b[1;31mFileNotFoundError\u001b[0m: [WinError 3] The system cannot find the path specified: 'people/Ringo/imgs/sp2273_logo.png'"
     ]
    }
   ],
   "source": [
    "os.remove('people/Ringo/imgs/sp2273_logo.png')  #in Ringo/imgs, sp2273_logo.png is deleted"
   ]
  },
  {
   "cell_type": "code",
   "execution_count": null,
   "id": "21d8c338-e73a-4250-a2b0-bac9d1b2769d",
   "metadata": {},
   "outputs": [],
   "source": [
    "The above code does not work with directories, so we use:"
   ]
  },
  {
   "cell_type": "code",
   "execution_count": 62,
   "id": "31e22688-2e4a-4d8b-945a-f70b24b3f173",
   "metadata": {},
   "outputs": [],
   "source": [
    "os.rmdir('people/Ringo/imgs') #imgs file in Ringo is gone, DIRECTORY MUST BE EMPTY"
   ]
  },
  {
   "cell_type": "markdown",
   "id": "4d8d3f70-e8fb-4e45-bda3-5532cf954b4b",
   "metadata": {},
   "source": [
    "for a directory with files:"
   ]
  },
  {
   "cell_type": "code",
   "execution_count": 63,
   "id": "9a8cb2d5-011c-42b0-bb70-ae1c6bc430e1",
   "metadata": {},
   "outputs": [],
   "source": [
    "shutil.rmtree('people/Ringo') #Ringo file is gone"
   ]
  },
  {
   "cell_type": "markdown",
   "id": "b231f970-6a38-4dc4-8b59-ad13e8802b09",
   "metadata": {},
   "source": [
    "# USE ALL OF THE DELETE FUNCTIONS WITH GREAT CAUTION!!!"
   ]
  }
 ],
 "metadata": {
  "kernelspec": {
   "display_name": "Python 3 (ipykernel)",
   "language": "python",
   "name": "python3"
  },
  "language_info": {
   "codemirror_mode": {
    "name": "ipython",
    "version": 3
   },
   "file_extension": ".py",
   "mimetype": "text/x-python",
   "name": "python",
   "nbconvert_exporter": "python",
   "pygments_lexer": "ipython3",
   "version": "3.11.5"
  },
  "toc": {
   "base_numbering": 1,
   "nav_menu": {},
   "number_sections": true,
   "sideBar": true,
   "skip_h1_title": false,
   "title_cell": "Table of Contents",
   "title_sidebar": "Contents",
   "toc_cell": false,
   "toc_position": {},
   "toc_section_display": true,
   "toc_window_display": false
  },
  "vscode": {
   "interpreter": {
    "hash": "31f2aee4e71d21fbe5cf8b01ff0e069b9275f58929596ceb00d14d90e3e16cd6"
   }
  }
 },
 "nbformat": 4,
 "nbformat_minor": 5
}
