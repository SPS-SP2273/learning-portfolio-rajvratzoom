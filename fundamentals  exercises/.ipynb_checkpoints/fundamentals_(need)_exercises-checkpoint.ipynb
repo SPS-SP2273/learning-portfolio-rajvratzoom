{
 "cells": [
  {
   "attachments": {},
   "cell_type": "markdown",
   "id": "123456",
   "metadata": {},
   "source": [
    "<div style=\"text-align:left;font-size:2em\"><span style=\"font-weight:bolder;font-size:1.25em\">SP2273 | Learning Portfolio</span><br><br><span style=\"font-weight:bold;color:darkred\">Fundamentals (Need) Exercises</span></div>"
   ]
  },
  {
   "cell_type": "markdown",
   "id": "cfc37622-bfe0-40ba-af70-4cd777c0026d",
   "metadata": {},
   "source": [
    "# Exercise 1"
   ]
  },
  {
   "cell_type": "markdown",
   "id": "edb9a6eb-2104-45f2-bbb2-389526be6624",
   "metadata": {},
   "source": [
    "1. Functions\n",
    "2. if statements\n",
    "3. brackets for math, lists and dictionaries\n",
    "4. packages\n",
    "5. the dot to indicate ownership\n",
    "6. the '=' sign\n",
    "7. the '==' sign\n",
    "8. inverted commas\n",
    "9. The difference between stings and variables\n",
    "10. _python's sequential execusion_\n",
    "11. _python is case sensitive_\n",
    "12. _Comments_\n",
    "13. _indentation rules_"
   ]
  },
  {
   "cell_type": "markdown",
   "id": "fd07724c-2737-4e74-99ae-ff54c88307a5",
   "metadata": {},
   "source": [
    "# Exercise 2"
   ]
  },
  {
   "cell_type": "code",
   "execution_count": 6,
   "id": "aaba1090-6f52-4380-8efd-c46fb8f8e4e7",
   "metadata": {},
   "outputs": [
    {
     "name": "stdout",
     "output_type": "stream",
     "text": [
      "3 4 5\n"
     ]
    }
   ],
   "source": [
    "import math                      # needed to import math package so that .sqrt works\n",
    "x, y = 3, 4\n",
    "z = int(math.sqrt(x**2 + y**2))  # needed to add in extra * after x to indicate that power 2 and changed the datatype of the output to int\n",
    "print(x, y, z)                   # instead of float "
   ]
  },
  {
   "cell_type": "markdown",
   "id": "1c908abd-3892-4fb9-8506-e8bef4eb11fd",
   "metadata": {},
   "source": [
    "# Exercise 3"
   ]
  },
  {
   "cell_type": "markdown",
   "id": "e199069c-db03-4132-a79e-c4e724955d59",
   "metadata": {},
   "source": [
    "|  # | Term         | Description                                                                                                                        |\r\n",
    "|:--:|--------------|------------------------------------------------------------------------------------------------------------------------------------|\r\n",
    "| 1  | Function     | It is a code that will do a specific task                                                                                          |\r\n",
    "| 2  | Arguments    | It is the input for a function                                                                                                     |\r\n",
    "| 3  | Comments     | These are pieces of text that are written in the code that are ignored by the interpreter to allow the user to understand the code |\r\n",
    "| 4  | Indentations | They are spaces and indicate which code blocks are to be executed together in if statements and functions                          |\r\n",
    "| 5  | Packages     | importing a package add's to python's functionality by possibly giving it more functions that are not available in basic python    |\r\n",
    "| 6  | ```.```      | the dot indicates the ownership of a function or attribute. e.g. math.sqrt(), sqrt belongs to math                                 |\r\n",
    "| 7  | ```:```      | colons are written at the end of the conditions of if statements to tell python what to do when a condition is true or false       |\r\n",
    "| 8  | ```[]```     | This is to specify a list                                                                                                          |\r\n",
    "| 9  | ```[[[]]]``` | This is a nested list, where a list is embedded in a list which is also embedded in another list.                                  |\r\n",
    "| 10 | ```{}```     | This is to specify a dictionary in python                                                                                          |          |"
   ]
  },
  {
   "cell_type": "markdown",
   "id": "7ada5291-ca6c-4a7b-9f40-3f4b579ae432",
   "metadata": {},
   "source": [
    "# Exercise 4"
   ]
  },
  {
   "cell_type": "code",
   "execution_count": 20,
   "id": "f5b4ea7b-fffc-4639-801f-5e2fd98f9aa5",
   "metadata": {},
   "outputs": [
    {
     "data": {
      "text/plain": [
       "2.5"
      ]
     },
     "execution_count": 20,
     "metadata": {},
     "output_type": "execute_result"
    }
   ],
   "source": [
    "5/2           #divides 5 by 2 and returns a float"
   ]
  },
  {
   "cell_type": "code",
   "execution_count": 21,
   "id": "52afce31-785e-485b-98ec-bc82981698c1",
   "metadata": {},
   "outputs": [
    {
     "data": {
      "text/plain": [
       "2"
      ]
     },
     "execution_count": 21,
     "metadata": {},
     "output_type": "execute_result"
    }
   ],
   "source": [
    "5//2          #returns the value of 5 divided by 2 rounded down to the nearest whole number"
   ]
  },
  {
   "cell_type": "code",
   "execution_count": 22,
   "id": "e371bce3-141d-4d16-8edf-b20246f34201",
   "metadata": {},
   "outputs": [
    {
     "data": {
      "text/plain": [
       "1"
      ]
     },
     "execution_count": 22,
     "metadata": {},
     "output_type": "execute_result"
    }
   ],
   "source": [
    "5%2           #returns the remainder of 5 divided by 2"
   ]
  }
 ],
 "metadata": {
  "kernelspec": {
   "display_name": "Python 3 (ipykernel)",
   "language": "python",
   "name": "python3"
  },
  "language_info": {
   "codemirror_mode": {
    "name": "ipython",
    "version": 3
   },
   "file_extension": ".py",
   "mimetype": "text/x-python",
   "name": "python",
   "nbconvert_exporter": "python",
   "pygments_lexer": "ipython3",
   "version": "3.11.5"
  },
  "toc": {
   "base_numbering": 1,
   "nav_menu": {},
   "number_sections": true,
   "sideBar": true,
   "skip_h1_title": false,
   "title_cell": "Table of Contents",
   "title_sidebar": "Contents",
   "toc_cell": false,
   "toc_position": {},
   "toc_section_display": true,
   "toc_window_display": false
  },
  "vscode": {
   "interpreter": {
    "hash": "31f2aee4e71d21fbe5cf8b01ff0e069b9275f58929596ceb00d14d90e3e16cd6"
   }
  }
 },
 "nbformat": 4,
 "nbformat_minor": 5
}
