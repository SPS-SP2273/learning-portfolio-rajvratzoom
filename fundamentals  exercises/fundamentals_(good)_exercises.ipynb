{
 "cells": [
  {
   "attachments": {},
   "cell_type": "markdown",
   "id": "123456",
   "metadata": {},
   "source": [
    "<div style=\"text-align:left;font-size:2em\"><span style=\"font-weight:bolder;font-size:1.25em\">SP2273 | Learning Portfolio</span><br><br><span style=\"font-weight:bold;color:darkred\">Fundamentals (Good) Exercises</span></div>"
   ]
  },
  {
   "cell_type": "markdown",
   "id": "db177036-0499-41c0-a972-09f6a545fee7",
   "metadata": {},
   "source": [
    "# Exercise 1"
   ]
  },
  {
   "cell_type": "code",
   "execution_count": 1,
   "id": "c8a77fe3-3d91-4b37-9627-b08a10952c80",
   "metadata": {},
   "outputs": [
    {
     "name": "stdin",
     "output_type": "stream",
     "text": [
      "Give me a number? 3\n"
     ]
    },
    {
     "name": "stdout",
     "output_type": "stream",
     "text": [
      "You entered 3\n"
     ]
    }
   ],
   "source": [
    "user_input = input('Give me a number?')\n",
    "print('You entered', user_input)"
   ]
  },
  {
   "cell_type": "code",
   "execution_count": 12,
   "id": "8bc207e9-3e1a-4beb-a21f-8a8d3509b384",
   "metadata": {},
   "outputs": [
    {
     "name": "stdin",
     "output_type": "stream",
     "text": [
      "Give me an integer: 3\n"
     ]
    },
    {
     "name": "stdout",
     "output_type": "stream",
     "text": [
      "3 is odd!\n"
     ]
    }
   ],
   "source": [
    "# even number checker with user input(exploring)\n",
    "number_given = input('Give me an integer:')\n",
    "\n",
    "remainder = int(number_given)%2\n",
    "\n",
    "if remainder == 0:\n",
    "    print(f'{number_given} is even!')\n",
    "\n",
    "else:\n",
    "    print(f'{number_given} is odd!')"
   ]
  },
  {
   "cell_type": "code",
   "execution_count": 16,
   "id": "b16e69a4-670d-4f3e-a171-840c57adeda1",
   "metadata": {},
   "outputs": [
    {
     "name": "stdin",
     "output_type": "stream",
     "text": [
      "Enter the student's score: 20\n"
     ]
    },
    {
     "name": "stdout",
     "output_type": "stream",
     "text": [
      "The student's letter grade is: Fail\n"
     ]
    }
   ],
   "source": [
    "try:\n",
    "    score = int(input('Enter the student\\'s score:'))\n",
    "    \n",
    "    if 70<=score<=100:\n",
    "        grade = 'A'\n",
    "    \n",
    "    elif 50<=score<=69:\n",
    "        grade = 'B'\n",
    "    \n",
    "    elif 35<=score<=49:\n",
    "        grade = 'C'\n",
    "    \n",
    "    elif 0<=score<=34:\n",
    "        grade = 'Fail'\n",
    "    \n",
    "    print(f'The student\\'s letter grade is: {grade}')\n",
    "\n",
    "except:\n",
    "    print(\"This is not a number!\")"
   ]
  },
  {
   "cell_type": "code",
   "execution_count": null,
   "id": "cd651de9-fbd2-4e36-b8e0-791a895976d4",
   "metadata": {},
   "outputs": [],
   "source": []
  }
 ],
 "metadata": {
  "kernelspec": {
   "display_name": "Python 3 (ipykernel)",
   "language": "python",
   "name": "python3"
  },
  "language_info": {
   "codemirror_mode": {
    "name": "ipython",
    "version": 3
   },
   "file_extension": ".py",
   "mimetype": "text/x-python",
   "name": "python",
   "nbconvert_exporter": "python",
   "pygments_lexer": "ipython3",
   "version": "3.11.5"
  },
  "toc": {
   "base_numbering": 1,
   "nav_menu": {},
   "number_sections": true,
   "sideBar": true,
   "skip_h1_title": false,
   "title_cell": "Table of Contents",
   "title_sidebar": "Contents",
   "toc_cell": false,
   "toc_position": {},
   "toc_section_display": true,
   "toc_window_display": false
  },
  "vscode": {
   "interpreter": {
    "hash": "31f2aee4e71d21fbe5cf8b01ff0e069b9275f58929596ceb00d14d90e3e16cd6"
   }
  }
 },
 "nbformat": 4,
 "nbformat_minor": 5
}
