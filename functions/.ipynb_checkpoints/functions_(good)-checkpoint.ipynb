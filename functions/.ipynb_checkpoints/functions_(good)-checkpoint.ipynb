{
 "cells": [
  {
   "attachments": {},
   "cell_type": "markdown",
   "id": "123456",
   "metadata": {},
   "source": [
    "<div style=\"text-align:left;font-size:2em\"><span style=\"font-weight:bolder;font-size:1.25em\">SP2273 | Learning Portfolio</span><br><br><span style=\"font-weight:bold;color:darkred\">Functions (Good)</span></div>"
   ]
  },
  {
   "attachments": {},
   "cell_type": "markdown",
   "id": "40f4a200",
   "metadata": {},
   "source": [
    "# 1 Checks, balances, and contingencies"
   ]
  },
  {
   "attachments": {},
   "cell_type": "markdown",
   "id": "3f89acaf",
   "metadata": {},
   "source": [
    "## 1.1 assert"
   ]
  },
  {
   "cell_type": "markdown",
   "id": "7e8681f0-c02e-49cb-95db-599b22ef09eb",
   "metadata": {},
   "source": [
    "Assert allows one to check a condition and halt the execution if necessary. When the condition is False, the program is interrupted. Its syntax is written below:"
   ]
  },
  {
   "cell_type": "markdown",
   "id": "b5da1ec5-2a74-4bb6-a7ca-c2b50c999d26",
   "metadata": {},
   "source": [
    "assert condition-to-check, message"
   ]
  },
  {
   "cell_type": "code",
   "execution_count": 3,
   "id": "a0662665-5b68-4746-adbb-8f0c75495929",
   "metadata": {},
   "outputs": [],
   "source": [
    "x = 10 \n",
    "assert x >= 0, \"x is becoming negative!\"  #condition is still true"
   ]
  },
  {
   "cell_type": "code",
   "execution_count": 5,
   "id": "23c21959-ca9f-4125-b52d-1f6598a13955",
   "metadata": {},
   "outputs": [
    {
     "ename": "AssertionError",
     "evalue": "x is becoming negative!",
     "output_type": "error",
     "traceback": [
      "\u001b[1;31m---------------------------------------------------------------------------\u001b[0m",
      "\u001b[1;31mAssertionError\u001b[0m                            Traceback (most recent call last)",
      "Cell \u001b[1;32mIn[5], line 2\u001b[0m\n\u001b[0;32m      1\u001b[0m x \u001b[38;5;241m=\u001b[39m \u001b[38;5;241m-\u001b[39m\u001b[38;5;241m1\u001b[39m\n\u001b[1;32m----> 2\u001b[0m \u001b[38;5;28;01massert\u001b[39;00m x \u001b[38;5;241m>\u001b[39m\u001b[38;5;241m=\u001b[39m \u001b[38;5;241m0\u001b[39m, \u001b[38;5;124m\"\u001b[39m\u001b[38;5;124mx is becoming negative!\u001b[39m\u001b[38;5;124m\"\u001b[39m  \u001b[38;5;66;03m#condition is false, hence error\u001b[39;00m\n",
      "\u001b[1;31mAssertionError\u001b[0m: x is becoming negative!"
     ]
    }
   ],
   "source": [
    "x = -1\n",
    "assert x >= 0, \"x is becoming negative!\"  #condition is false, hence error"
   ]
  },
  {
   "attachments": {},
   "cell_type": "markdown",
   "id": "0bb19cfb",
   "metadata": {},
   "source": [
    "## 1.2 try-except"
   ]
  },
  {
   "cell_type": "markdown",
   "id": "c4e82afd-6fd9-4c51-8414-a068de26dcc1",
   "metadata": {},
   "source": [
    "Errors or \"issues\" in code are known as exceptions, for example, zerodivisionerrors. Exceptions that are not dealt with will halt the program. To deal with these exceptions, python allows one to use tr-except statements to catcht he exceptions manually"
   ]
  },
  {
   "cell_type": "code",
   "execution_count": 6,
   "id": "bdc196de-5fec-4c2c-b9fd-64eb83197edc",
   "metadata": {},
   "outputs": [
    {
     "name": "stdin",
     "output_type": "stream",
     "text": [
      "Give me a number and I will calculate its square. 2\n"
     ]
    },
    {
     "name": "stdout",
     "output_type": "stream",
     "text": [
      "The square of 2 is 4!\n"
     ]
    }
   ],
   "source": [
    "number=input(\"Give me a number and I will calculate its square.\")\n",
    "square=int(number)**2              # Convert English to number\n",
    "print(f'The square of {number} is {square}!')"
   ]
  },
  {
   "cell_type": "code",
   "execution_count": 7,
   "id": "07b7d44b-ec7a-4e60-8b49-642d8638097c",
   "metadata": {},
   "outputs": [
    {
     "name": "stdin",
     "output_type": "stream",
     "text": [
      "Give me a number and I will calculate its square. hi\n"
     ]
    },
    {
     "name": "stdout",
     "output_type": "stream",
     "text": [
      "Oh oh! I cannot square hi!\n"
     ]
    }
   ],
   "source": [
    "try:\n",
    "    number=input(\"Give me a number and I will calculate its square.\")\n",
    "    square=int(number)**2\n",
    "    print(f'The square of {number} is {square}!')\n",
    "except:\n",
    "    print(f\"Oh oh! I cannot square {number}!\")"
   ]
  },
  {
   "attachments": {},
   "cell_type": "markdown",
   "id": "a64c9bd6",
   "metadata": {},
   "source": [
    "## 1.3 A simple suggestion"
   ]
  },
  {
   "cell_type": "markdown",
   "id": "0da7b44b-b76d-47f5-9e91-253a8fd1d561",
   "metadata": {},
   "source": [
    "adding print() statements at various parts of your code could help you to understand what is going on in the code without having to guess what may be happening. It ensures that the code is working fine and identify any potential errors that the code could face"
   ]
  },
  {
   "attachments": {},
   "cell_type": "markdown",
   "id": "303cd1ed",
   "metadata": {},
   "source": [
    "# 2 Some loose ends"
   ]
  },
  {
   "attachments": {},
   "cell_type": "markdown",
   "id": "217f21ca",
   "metadata": {},
   "source": [
    "## 2.1 Positional, keyword and default arguments"
   ]
  },
  {
   "cell_type": "markdown",
   "id": "42a9823f-bf21-45ff-9d8a-095bb54cd822",
   "metadata": {},
   "source": [
    "There are 3 ways to pass a value to an argument. This will be illustrated below."
   ]
  },
  {
   "cell_type": "code",
   "execution_count": 8,
   "id": "ca299516-963b-4e7d-a0ec-1e49ca2d17c4",
   "metadata": {},
   "outputs": [],
   "source": [
    "def side_by_side(a, b, c=42):\n",
    "    return f'{a: 2d}|{b: 2d}|{c: 2d}'"
   ]
  },
  {
   "cell_type": "code",
   "execution_count": 9,
   "id": "d0e4f656-7d55-404e-8929-a6da4b37a6fc",
   "metadata": {},
   "outputs": [
    {
     "data": {
      "text/plain": [
       "' 1| 2| 3'"
      ]
     },
     "execution_count": 9,
     "metadata": {},
     "output_type": "execute_result"
    }
   ],
   "source": [
    "side_by_side(1, 2, 3) # assigning the values to the variables by their positions"
   ]
  },
  {
   "cell_type": "code",
   "execution_count": 11,
   "id": "02dfcb1f-ac29-4bb7-9c53-4006264a9dbd",
   "metadata": {},
   "outputs": [
    {
     "data": {
      "text/plain": [
       "' 1| 2| 3'"
      ]
     },
     "execution_count": 11,
     "metadata": {},
     "output_type": "execute_result"
    }
   ],
   "source": [
    "side_by_side(c=3, b=2, a=1) #assigning the values to the variables by explicitly assigning them,position does not matter now"
   ]
  },
  {
   "cell_type": "code",
   "execution_count": 13,
   "id": "8f1036d5-ee84-437e-ba20-751d49f47d80",
   "metadata": {},
   "outputs": [
    {
     "data": {
      "text/plain": [
       "' 1| 2| 42'"
      ]
     },
     "execution_count": 13,
     "metadata": {},
     "output_type": "execute_result"
    }
   ],
   "source": [
    "side_by_side(1, b=2) # c was not assigned and therefore it uses the default value 42, that was specified in the function"
   ]
  },
  {
   "cell_type": "markdown",
   "id": "545cc237-37de-4aa6-8144-8cbb31112314",
   "metadata": {},
   "source": [
    "Here are more ways to combine all the previous methods"
   ]
  },
  {
   "cell_type": "code",
   "execution_count": 14,
   "id": "aa40a42e-0021-46e5-a958-aec4a97dcaf4",
   "metadata": {},
   "outputs": [
    {
     "data": {
      "text/plain": [
       "' 1| 2| 42'"
      ]
     },
     "execution_count": 14,
     "metadata": {},
     "output_type": "execute_result"
    }
   ],
   "source": [
    "side_by_side(1, 2)           # Two positional, 1 default\n",
    "## ' 1| 2| 42'\n",
    "side_by_side(1, 2, 3)        # Three positional\n",
    "## ' 1| 2| 3'\n",
    "side_by_side(a=1, b=2)       # Two keyword, 1 default\n",
    "## ' 1| 2| 42'\n",
    "side_by_side(c=3, b=1, a=2)  # Three keyword\n",
    "## ' 2| 1| 3'\n",
    "side_by_side(1, c=3, b=2)    # One positional, 2 keyword\n",
    "## ' 1| 2| 3'\n",
    "side_by_side(1, b=2)         # One positional, 1 keyword, 1 default\n",
    "## ' 1| 2| 42'"
   ]
  },
  {
   "cell_type": "markdown",
   "id": "8694696f-eb05-4a62-9fb3-154813976ca4",
   "metadata": {},
   "source": [
    "In the code below, python would not be able to understand which argument to assign 1 to"
   ]
  },
  {
   "cell_type": "code",
   "execution_count": 15,
   "id": "12a18e07-0200-4357-ae21-87d0a4a14276",
   "metadata": {},
   "outputs": [
    {
     "ename": "SyntaxError",
     "evalue": "positional argument follows keyword argument (3855048630.py, line 3)",
     "output_type": "error",
     "traceback": [
      "\u001b[1;36m  Cell \u001b[1;32mIn[15], line 3\u001b[1;36m\u001b[0m\n\u001b[1;33m    side_by_side(a=2, 1)      # Won't work.\u001b[0m\n\u001b[1;37m                       ^\u001b[0m\n\u001b[1;31mSyntaxError\u001b[0m\u001b[1;31m:\u001b[0m positional argument follows keyword argument\n"
     ]
    }
   ],
   "source": [
    "# Keywords cannot be followed \n",
    "# by positional arguments\n",
    "side_by_side(a=2, 1)      # Won't work.                          "
   ]
  },
  {
   "attachments": {},
   "cell_type": "markdown",
   "id": "83e60936",
   "metadata": {},
   "source": [
    "## 2.2 Docstrings"
   ]
  },
  {
   "cell_type": "markdown",
   "id": "b0cd5305-42bb-470c-9b55-8244face4ec6",
   "metadata": {},
   "source": [
    "Python has a function called Docstrings which allows the user to write down what a function does within the function.The explanantion will be displayed when the ```help()``` function is used"
   ]
  },
  {
   "cell_type": "markdown",
   "id": "deea717d-9e26-4e86-bd13-594f3fa03eaf",
   "metadata": {},
   "source": [
    "the docstring explanantion needs to be written between a pair of ```'''``` or ```\"\"\"```"
   ]
  },
  {
   "cell_type": "code",
   "execution_count": 16,
   "id": "86a7cf97-3874-4595-a4dc-7a855c7fd548",
   "metadata": {},
   "outputs": [],
   "source": [
    "def side_by_side(a, b, c=42):\n",
    "    '''\n",
    "    A test function to demonstrate how \n",
    "    positional, keyword and default arguments \n",
    "    work.\n",
    "    '''\n",
    "    return f'{a: 2d}|{b: 2d}|{c: 2d}'"
   ]
  },
  {
   "cell_type": "code",
   "execution_count": 17,
   "id": "f4b9ba18-f639-485c-98c2-7b829bb3c076",
   "metadata": {},
   "outputs": [
    {
     "name": "stdout",
     "output_type": "stream",
     "text": [
      "Help on function side_by_side in module __main__:\n",
      "\n",
      "side_by_side(a, b, c=42)\n",
      "    A test function to demonstrate how \n",
      "    positional, keyword and default arguments \n",
      "    work.\n",
      "\n"
     ]
    }
   ],
   "source": [
    "help(side_by_side)"
   ]
  },
  {
   "attachments": {},
   "cell_type": "markdown",
   "id": "4ceb6161",
   "metadata": {},
   "source": [
    "## 2.3 Function are first-class citizens"
   ]
  },
  {
   "cell_type": "raw",
   "id": "cb47c46c-bca3-4b79-b436-7a30416eebe5",
   "metadata": {},
   "source": [
    "Python functions have the same privileges as variables, allowing one to pass functions as arguments in other functions"
   ]
  },
  {
   "cell_type": "code",
   "execution_count": 20,
   "id": "635712b9-8a05-423e-b619-cd3502f7c155",
   "metadata": {},
   "outputs": [],
   "source": [
    "import numpy as np"
   ]
  },
  {
   "cell_type": "code",
   "execution_count": 22,
   "id": "e2fcb792-2c19-44f8-add6-cb97d3e9a573",
   "metadata": {},
   "outputs": [
    {
     "data": {
      "text/plain": [
       "1.0"
      ]
     },
     "execution_count": 22,
     "metadata": {},
     "output_type": "execute_result"
    }
   ],
   "source": [
    "def my_function(angle, trig_function):\n",
    "        return trig_function(angle)\n",
    "\n",
    "# Let's use the function\n",
    "my_function(np.pi/2, np.sin)        \n",
    "## 1.0"
   ]
  },
  {
   "cell_type": "code",
   "execution_count": 23,
   "id": "890e9e1b-ee7b-4181-a329-b56eb93f4779",
   "metadata": {},
   "outputs": [
    {
     "data": {
      "text/plain": [
       "6.123233995736766e-17"
      ]
     },
     "execution_count": 23,
     "metadata": {},
     "output_type": "execute_result"
    }
   ],
   "source": [
    "my_function(np.pi/2, np.cos)        \n",
    "## 6.123233995736766e-17"
   ]
  },
  {
   "cell_type": "code",
   "execution_count": 24,
   "id": "b7ef17e6-487d-46c1-967f-c63a147f73f3",
   "metadata": {},
   "outputs": [
    {
     "data": {
      "text/plain": [
       "-1.0"
      ]
     },
     "execution_count": 24,
     "metadata": {},
     "output_type": "execute_result"
    }
   ],
   "source": [
    "my_function(np.pi/2, lambda x: np.cos(2*x))  \n",
    "## -1.0"
   ]
  },
  {
   "attachments": {},
   "cell_type": "markdown",
   "id": "4d234deb",
   "metadata": {},
   "source": [
    "## 2.4 More about unpacking"
   ]
  },
  {
   "cell_type": "markdown",
   "id": "db649d20-e129-4ce3-9e6c-735582f01ddc",
   "metadata": {},
   "source": [
    "More examples of how one could use unpacking:"
   ]
  },
  {
   "cell_type": "code",
   "execution_count": 27,
   "id": "8e7bb6d9-6f79-4afe-b638-c06fbf2d3ec0",
   "metadata": {},
   "outputs": [
    {
     "data": {
      "text/plain": [
       "(1, 2, 3)"
      ]
     },
     "execution_count": 27,
     "metadata": {},
     "output_type": "execute_result"
    }
   ],
   "source": [
    "x, y, z = [1, 2, 3]  #works with lists\n",
    "x, y, z"
   ]
  },
  {
   "cell_type": "code",
   "execution_count": 28,
   "id": "73e08a5b-15ce-4199-9ad4-9685f0985b29",
   "metadata": {},
   "outputs": [
    {
     "data": {
      "text/plain": [
       "(1, 2, 3)"
      ]
     },
     "execution_count": 28,
     "metadata": {},
     "output_type": "execute_result"
    }
   ],
   "source": [
    "x, y, z = np.array([1, 2, 3])  #works with arrays\n",
    "x, y, z"
   ]
  },
  {
   "cell_type": "code",
   "execution_count": 32,
   "id": "e4cb37f4-9786-42f9-b644-12aafd112415",
   "metadata": {},
   "outputs": [
    {
     "data": {
      "text/plain": [
       "(1, [2, 3, 4], 5)"
      ]
     },
     "execution_count": 32,
     "metadata": {},
     "output_type": "execute_result"
    }
   ],
   "source": [
    "x, *y, z = np.array([1, 2, 3, 4, 5]) #*y allows for 0 or more variables to be assigned to y, resulting in y taking up a list\n",
    "x, y, z                              #while x is assigned to the first variable and z is assigned to the last variable"
   ]
  },
  {
   "cell_type": "code",
   "execution_count": 33,
   "id": "ddb276b8-3552-4c7a-b5f5-561bebf8f11b",
   "metadata": {},
   "outputs": [
    {
     "data": {
      "text/plain": [
       "(1, 5)"
      ]
     },
     "execution_count": 33,
     "metadata": {},
     "output_type": "execute_result"
    }
   ],
   "source": [
    "x, *_, y = [1, 2, 3, 4, 5]    #*_indicates that all values between the last and first values are going to be ignored as x and y are assigned\n",
    "x, y                          # to 1 and 5 respectively"
   ]
  }
 ],
 "metadata": {
  "kernelspec": {
   "display_name": "Python 3 (ipykernel)",
   "language": "python",
   "name": "python3"
  },
  "language_info": {
   "codemirror_mode": {
    "name": "ipython",
    "version": 3
   },
   "file_extension": ".py",
   "mimetype": "text/x-python",
   "name": "python",
   "nbconvert_exporter": "python",
   "pygments_lexer": "ipython3",
   "version": "3.11.5"
  },
  "toc": {
   "base_numbering": 1,
   "nav_menu": {},
   "number_sections": true,
   "sideBar": true,
   "skip_h1_title": false,
   "title_cell": "Table of Contents",
   "title_sidebar": "Contents",
   "toc_cell": false,
   "toc_position": {},
   "toc_section_display": true,
   "toc_window_display": false
  },
  "vscode": {
   "interpreter": {
    "hash": "31f2aee4e71d21fbe5cf8b01ff0e069b9275f58929596ceb00d14d90e3e16cd6"
   }
  }
 },
 "nbformat": 4,
 "nbformat_minor": 5
}
