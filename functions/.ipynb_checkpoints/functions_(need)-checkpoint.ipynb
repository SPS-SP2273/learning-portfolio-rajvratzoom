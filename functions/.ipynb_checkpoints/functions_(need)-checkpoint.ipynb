{
 "cells": [
  {
   "attachments": {},
   "cell_type": "markdown",
   "id": "123456",
   "metadata": {},
   "source": [
    "<div style=\"text-align:left;font-size:2em\"><span style=\"font-weight:bolder;font-size:1.25em\">SP2273 | Learning Portfolio</span><br><br><span style=\"font-weight:bold;color:darkred\">Functions (Need)</span></div>"
   ]
  },
  {
   "attachments": {},
   "cell_type": "markdown",
   "id": "5c08cbeb",
   "metadata": {},
   "source": [
    "# 1 User-defined functions"
   ]
  },
  {
   "cell_type": "markdown",
   "id": "5c88637d-e2fb-4a0c-a11e-004a644ba8ef",
   "metadata": {},
   "source": [
    "Below we have defined a custom function using ```def```. This is unlike the internal functions like ```print()``` as print is predefined while the function ```greeting()``` below is user-defined. The ```return``` statements specify what the function outputs. There are 2 types of functions that we will be convering, named and anonymous functions."
   ]
  },
  {
   "attachments": {},
   "cell_type": "markdown",
   "id": "5cd82e20",
   "metadata": {},
   "source": [
    "## 1.1 Named Functions"
   ]
  },
  {
   "cell_type": "markdown",
   "id": "5b2a8c6b-ef34-4441-af1e-5c46b76130f7",
   "metadata": {},
   "source": [
    "One must first define the function using ```def``` and then the ```:``` colon indicates the code block of the function. ```return``` takes the return value and jumps out of the code with that value. One could assign a variable to that value or pass it directly to another function"
   ]
  },
  {
   "attachments": {},
   "cell_type": "markdown",
   "id": "13435a93",
   "metadata": {},
   "source": [
    "### Named functions that return"
   ]
  },
  {
   "cell_type": "code",
   "execution_count": 2,
   "id": "2d88ff91",
   "metadata": {},
   "outputs": [],
   "source": [
    "def greeting(name):  #name is the input\n",
    "    if name == 'Batman':\n",
    "        return 'Hello Batman! So, nice to meet you!'  #return statement\n",
    "    else:\n",
    "        return f'Hello {name}!'   #return statement"
   ]
  },
  {
   "cell_type": "code",
   "execution_count": 3,
   "id": "d3acf738-597e-43c2-80a4-bcce0d226730",
   "metadata": {},
   "outputs": [
    {
     "data": {
      "text/plain": [
       "'Hello Super Man!'"
      ]
     },
     "execution_count": 3,
     "metadata": {},
     "output_type": "execute_result"
    }
   ],
   "source": [
    "greeting(\"Super Man\")  #\"Super Man\" as input"
   ]
  },
  {
   "cell_type": "code",
   "execution_count": 4,
   "id": "680f5a39-9cf3-4985-8aa9-4bc921e53974",
   "metadata": {},
   "outputs": [
    {
     "data": {
      "text/plain": [
       "'Hello Super Man!'"
      ]
     },
     "execution_count": 4,
     "metadata": {},
     "output_type": "execute_result"
    }
   ],
   "source": [
    "greeting(name=\"Super Man\") #assigning the input directly"
   ]
  },
  {
   "cell_type": "code",
   "execution_count": 5,
   "id": "01369fd7-be46-490e-896a-3b148171a299",
   "metadata": {},
   "outputs": [
    {
     "name": "stdout",
     "output_type": "stream",
     "text": [
      "Hello Super Man!\n"
     ]
    }
   ],
   "source": [
    "greet=greeting(name='Super Man') #assigning the returned value directly to a variables\n",
    "print(greet)"
   ]
  },
  {
   "cell_type": "code",
   "execution_count": 6,
   "id": "7b9793d0-b10e-4cfd-8f71-20e29a876f4e",
   "metadata": {},
   "outputs": [
    {
     "name": "stdout",
     "output_type": "stream",
     "text": [
      "Hello Super Man!\n"
     ]
    }
   ],
   "source": [
    "print(greeting(name='Super Man'))  #printing the return value directly"
   ]
  },
  {
   "cell_type": "code",
   "execution_count": 9,
   "id": "3be0ba91-458b-4068-b0d7-ae0602546930",
   "metadata": {},
   "outputs": [],
   "source": [
    "import numpy as np"
   ]
  },
  {
   "cell_type": "code",
   "execution_count": 10,
   "id": "106dedcf-ca1e-4a43-8f46-8a15d19dcc44",
   "metadata": {},
   "outputs": [],
   "source": [
    "def basic_stats(numbers):\n",
    "    np_numbers = np.array(numbers)\n",
    "    my_min = np_numbers.min()\n",
    "    my_max = np_numbers.max()\n",
    "    my_mean = np_numbers.mean()\n",
    "    return my_max, my_min, my_mean"
   ]
  },
  {
   "cell_type": "code",
   "execution_count": 12,
   "id": "462207ae-ae6d-4b38-9d2a-3f2aed41dbc0",
   "metadata": {},
   "outputs": [
    {
     "name": "stdout",
     "output_type": "stream",
     "text": [
      "5\n",
      "1\n",
      "3.0\n"
     ]
    }
   ],
   "source": [
    "list_min, list_max, list_mean = basic_stats([1, 2, 3, 4, 5])\n",
    "print(list_min)\n",
    "print(list_max)\n",
    "print(list_mean)"
   ]
  },
  {
   "attachments": {},
   "cell_type": "markdown",
   "id": "3c65daf2",
   "metadata": {},
   "source": [
    "### Named functions that don’t return"
   ]
  },
  {
   "cell_type": "markdown",
   "id": "99531b3b-b0b1-4923-9c5b-4dd7dcd2639f",
   "metadata": {},
   "source": [
    "Functions do not necessarily have to return anything. For example a function could append a value to a list wihtout returning the list or value appended. A common function is one that saves data to a file."
   ]
  },
  {
   "attachments": {},
   "cell_type": "markdown",
   "id": "a18b41bb",
   "metadata": {},
   "source": [
    "## 1.2 Anonymous functions"
   ]
  },
  {
   "cell_type": "markdown",
   "id": "c27c58de-1855-4968-a6e6-2831fea599aa",
   "metadata": {},
   "source": [
    "-also known as lambda functions they return the value of the latter statement after the ```:```"
   ]
  },
  {
   "cell_type": "code",
   "execution_count": 19,
   "id": "3c5bc285-3449-45c7-9e06-8640e71257d2",
   "metadata": {},
   "outputs": [],
   "source": [
    "my_short_function = lambda name: f\"Hello {name}!\""
   ]
  },
  {
   "cell_type": "code",
   "execution_count": 20,
   "id": "a70b321b-b1aa-4bf0-ac1c-712b43481963",
   "metadata": {},
   "outputs": [
    {
     "data": {
      "text/plain": [
       "'Hello Super Man!'"
      ]
     },
     "execution_count": 20,
     "metadata": {},
     "output_type": "execute_result"
    }
   ],
   "source": [
    "my_short_function(name=\"Super Man\")"
   ]
  },
  {
   "cell_type": "code",
   "execution_count": 21,
   "id": "246d44df-274d-403d-ab17-805b8ee78cd4",
   "metadata": {},
   "outputs": [],
   "source": [
    "numbers=[[9, 0, -10],\n",
    "         [8, 1, -11],\n",
    "         [7, 2, -12],\n",
    "         [6, 3, -13],\n",
    "         [5, 4, -14],\n",
    "         [4, 5, -15],\n",
    "         [3, 6, -16],\n",
    "         [2, 7, -17],\n",
    "         [1, 8, -18],\n",
    "         [0, 9, -19]]"
   ]
  },
  {
   "cell_type": "code",
   "execution_count": 22,
   "id": "26567ffc-4b62-450a-8e35-9b420da0393b",
   "metadata": {},
   "outputs": [
    {
     "data": {
      "text/plain": [
       "[[0, 9, -19],\n",
       " [1, 8, -18],\n",
       " [2, 7, -17],\n",
       " [3, 6, -16],\n",
       " [4, 5, -15],\n",
       " [5, 4, -14],\n",
       " [6, 3, -13],\n",
       " [7, 2, -12],\n",
       " [8, 1, -11],\n",
       " [9, 0, -10]]"
      ]
     },
     "execution_count": 22,
     "metadata": {},
     "output_type": "execute_result"
    }
   ],
   "source": [
    "# Sort by comparing the default key\n",
    "# (i.e., the 1st element)\n",
    "sorted(numbers)"
   ]
  },
  {
   "cell_type": "code",
   "execution_count": 23,
   "id": "278bb954-e01a-42a0-800a-069073b09b8f",
   "metadata": {},
   "outputs": [
    {
     "data": {
      "text/plain": [
       "[[9, 0, -10],\n",
       " [8, 1, -11],\n",
       " [7, 2, -12],\n",
       " [6, 3, -13],\n",
       " [5, 4, -14],\n",
       " [4, 5, -15],\n",
       " [3, 6, -16],\n",
       " [2, 7, -17],\n",
       " [1, 8, -18],\n",
       " [0, 9, -19]]"
      ]
     },
     "execution_count": 23,
     "metadata": {},
     "output_type": "execute_result"
    }
   ],
   "source": [
    "# Sort by comparing a custom key\n",
    "# that uses the 2nd element (index=1)\n",
    "sorted(numbers, key=lambda x: x[1])"
   ]
  },
  {
   "cell_type": "code",
   "execution_count": 24,
   "id": "d55aa3e0-b9cb-4cb4-9a40-9e554c2b3cf1",
   "metadata": {},
   "outputs": [
    {
     "data": {
      "text/plain": [
       "[[0, 9, -19],\n",
       " [1, 8, -18],\n",
       " [2, 7, -17],\n",
       " [3, 6, -16],\n",
       " [4, 5, -15],\n",
       " [5, 4, -14],\n",
       " [6, 3, -13],\n",
       " [7, 2, -12],\n",
       " [8, 1, -11],\n",
       " [9, 0, -10]]"
      ]
     },
     "execution_count": 24,
     "metadata": {},
     "output_type": "execute_result"
    }
   ],
   "source": [
    "# Sort by comparing a custom key\n",
    "# that uses the sum of the elements.\n",
    "sorted(numbers, key=lambda x: sum(x))   "
   ]
  },
  {
   "cell_type": "markdown",
   "id": "950ec7b0-3878-4d58-82e9-5b70b56b7667",
   "metadata": {},
   "source": [
    "using the lambda function i can specify any condition by which i want the list to be sorted"
   ]
  },
  {
   "attachments": {},
   "cell_type": "markdown",
   "id": "9d75634a",
   "metadata": {},
   "source": [
    "## 1.3 Optional arguments"
   ]
  },
  {
   "cell_type": "code",
   "execution_count": 26,
   "id": "003ee669-4813-4083-985a-5b3a410c276b",
   "metadata": {},
   "outputs": [],
   "source": [
    "def greeting(name='no one'):  #default input for name will be 'no one' if nothing is passed\n",
    "    if name == 'Batman':\n",
    "        return 'Hello Batman! So, nice to meet you!'\n",
    "    else:\n",
    "        return f'Hello {name}!'"
   ]
  },
  {
   "cell_type": "code",
   "execution_count": 27,
   "id": "9c7a7bab-71f1-4309-b3c3-67cc9cd98730",
   "metadata": {},
   "outputs": [
    {
     "data": {
      "text/plain": [
       "'Hello no one!'"
      ]
     },
     "execution_count": 27,
     "metadata": {},
     "output_type": "execute_result"
    }
   ],
   "source": [
    "greeting()"
   ]
  },
  {
   "cell_type": "code",
   "execution_count": 28,
   "id": "16bce5e4-b4bd-4270-8609-df255d4d4ab6",
   "metadata": {},
   "outputs": [
    {
     "data": {
      "text/plain": [
       "\u001b[1;31mSignature:\u001b[0m \u001b[0mprint\u001b[0m\u001b[1;33m(\u001b[0m\u001b[1;33m*\u001b[0m\u001b[0margs\u001b[0m\u001b[1;33m,\u001b[0m \u001b[0msep\u001b[0m\u001b[1;33m=\u001b[0m\u001b[1;34m' '\u001b[0m\u001b[1;33m,\u001b[0m \u001b[0mend\u001b[0m\u001b[1;33m=\u001b[0m\u001b[1;34m'\\n'\u001b[0m\u001b[1;33m,\u001b[0m \u001b[0mfile\u001b[0m\u001b[1;33m=\u001b[0m\u001b[1;32mNone\u001b[0m\u001b[1;33m,\u001b[0m \u001b[0mflush\u001b[0m\u001b[1;33m=\u001b[0m\u001b[1;32mFalse\u001b[0m\u001b[1;33m)\u001b[0m\u001b[1;33m\u001b[0m\u001b[1;33m\u001b[0m\u001b[0m\n",
       "\u001b[1;31mDocstring:\u001b[0m\n",
       "Prints the values to a stream, or to sys.stdout by default.\n",
       "\n",
       "sep\n",
       "  string inserted between values, default a space.\n",
       "end\n",
       "  string appended after the last value, default a newline.\n",
       "file\n",
       "  a file-like object (stream); defaults to the current sys.stdout.\n",
       "flush\n",
       "  whether to forcibly flush the stream.\n",
       "\u001b[1;31mType:\u001b[0m      builtin_function_or_method"
      ]
     },
     "metadata": {},
     "output_type": "display_data"
    }
   ],
   "source": [
    "?print"
   ]
  },
  {
   "cell_type": "code",
   "execution_count": 30,
   "id": "6cbad1d1-3f04-4856-abad-6bac4b7a161e",
   "metadata": {},
   "outputs": [
    {
     "name": "stdout",
     "output_type": "stream",
     "text": [
      "I am Batman!\n",
      "I---am---Batman!\n"
     ]
    }
   ],
   "source": [
    "# Using default values\n",
    "print('I', 'am', 'Batman!')\n",
    "# Specifying an optional argument\n",
    "print('I', 'am', 'Batman!', sep='---') #using '---' as a seperator"
   ]
  },
  {
   "attachments": {},
   "cell_type": "markdown",
   "id": "a4feb09d",
   "metadata": {},
   "source": [
    "## 1.4 The importance of functions?"
   ]
  },
  {
   "attachments": {},
   "cell_type": "markdown",
   "id": "1b852bea",
   "metadata": {},
   "source": [
    "### An argument for functions"
   ]
  },
  {
   "cell_type": "markdown",
   "id": "420b910d-607b-4f18-b274-a7b74447f6bf",
   "metadata": {},
   "source": [
    "Why functions are a good idea:\n",
    "\n",
    "1. Allows us to break down large problems into simpler mini-problems:\n",
    "    - this makes problems easier to deal with as we will not have to deal with all the details of the problem at once\n",
    "    - Moreover, it allows for the abstraction of details, so we focus less on every tiny detail while reading the code all at once\n",
    "2. The code for the function will be reusable, allowing one to use it at different parts of their code without having to copy paste a large piece of code everytime they require the same functionality\n",
    "3. Maintainibility of code is also better as any errors or updates to the function can simply be done in the main block where it is define and will be applied to everytime it is called in the code "
   ]
  },
  {
   "attachments": {},
   "cell_type": "markdown",
   "id": "ff7685ce",
   "metadata": {},
   "source": [
    "### A word of caution"
   ]
  },
  {
   "cell_type": "markdown",
   "id": "1b9dc99c-5681-4dea-953b-e8a8e0335384",
   "metadata": {},
   "source": [
    "A balance must be struck when using functions. Functions should not be expected to have too many components such that they are abused and become too specific or have too many arguments. Moreover they can be overused and can result in code having bad readibility or increase computational load, slowing down the time for the code to execute. Functions are useful but can be easily misused and one must maintain caution when making use of them."
   ]
  }
 ],
 "metadata": {
  "kernelspec": {
   "display_name": "Python 3 (ipykernel)",
   "language": "python",
   "name": "python3"
  },
  "language_info": {
   "codemirror_mode": {
    "name": "ipython",
    "version": 3
   },
   "file_extension": ".py",
   "mimetype": "text/x-python",
   "name": "python",
   "nbconvert_exporter": "python",
   "pygments_lexer": "ipython3",
   "version": "3.11.5"
  },
  "toc": {
   "base_numbering": 1,
   "nav_menu": {},
   "number_sections": true,
   "sideBar": true,
   "skip_h1_title": false,
   "title_cell": "Table of Contents",
   "title_sidebar": "Contents",
   "toc_cell": false,
   "toc_position": {},
   "toc_section_display": true,
   "toc_window_display": false
  },
  "vscode": {
   "interpreter": {
    "hash": "31f2aee4e71d21fbe5cf8b01ff0e069b9275f58929596ceb00d14d90e3e16cd6"
   }
  }
 },
 "nbformat": 4,
 "nbformat_minor": 5
}
