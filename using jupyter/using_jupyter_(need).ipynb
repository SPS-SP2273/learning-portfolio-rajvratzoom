{
 "cells": [
  {
   "attachments": {},
   "cell_type": "markdown",
   "id": "a4ce0658",
   "metadata": {},
   "source": [
    "# Getting started with Jupyter"
   ]
  },
  {
   "cell_type": "markdown",
   "id": "575e379a-7780-483c-a176-15ff375005ff",
   "metadata": {},
   "source": [
    "# Getting ready"
   ]
  },
  {
   "attachments": {},
   "cell_type": "markdown",
   "id": "d91c0707",
   "metadata": {},
   "source": [
    "## It is all about running cells"
   ]
  },
  {
   "cell_type": "code",
   "execution_count": 1,
   "id": "e97714ff-782f-485a-9bff-da816409d0b2",
   "metadata": {},
   "outputs": [
    {
     "name": "stdout",
     "output_type": "stream",
     "text": [
      "6\n"
     ]
    }
   ],
   "source": [
    "a = 4\n",
    "b = 2\n",
    "c = a + b\n",
    "print(c)"
   ]
  },
  {
   "attachments": {},
   "cell_type": "markdown",
   "id": "5fefa850",
   "metadata": {},
   "source": [
    "## A traditional start"
   ]
  },
  {
   "cell_type": "code",
   "execution_count": 2,
   "id": "3a9a4aae-8b59-478d-8753-e5b80de47012",
   "metadata": {},
   "outputs": [
    {
     "name": "stdout",
     "output_type": "stream",
     "text": [
      "Hello World\n"
     ]
    }
   ],
   "source": [
    "print('Hello World')"
   ]
  },
  {
   "attachments": {},
   "cell_type": "markdown",
   "id": "47f8e046",
   "metadata": {},
   "source": [
    "# All about Markdown"
   ]
  },
  {
   "attachments": {},
   "cell_type": "markdown",
   "id": "015788cd",
   "metadata": {},
   "source": [
    "## Rendering Markdown cells"
   ]
  },
  {
   "cell_type": "markdown",
   "id": "d1b3a9b8-ddbc-4511-a955-02f2e544d035",
   "metadata": {},
   "source": [
    "HELLO THIS IS A MARKDOWN CELL"
   ]
  },
  {
   "cell_type": "markdown",
   "id": "02d365f1-4750-4d4b-8131-78c804019795",
   "metadata": {},
   "source": [
    "## Some basic syntax\n"
   ]
  },
  {
   "cell_type": "markdown",
   "id": "b58527ff-38a4-4bec-899a-d72fda51ed10",
   "metadata": {},
   "source": [
    "The ships *hung in the sky* in much the same way that **bricks don’t.**<sub>1</sub><sub>QUOTE</sub>\n",
    "\n"
   ]
  },
  {
   "cell_type": "markdown",
   "id": "6d9b0f9d-097c-4227-89fd-ab4ad90316e6",
   "metadata": {},
   "source": [
    "## Headings"
   ]
  },
  {
   "cell_type": "markdown",
   "id": "f9b3d4be-811d-440e-9753-3d7e562dac1e",
   "metadata": {},
   "source": [
    "# The largest heading\n",
    "\n",
    "## The second-largest heading\n",
    "\n",
    "### The third-largest heading\n",
    "\n",
    "#### The smallest heading shown on the sp2273 website\n",
    "\n",
    "##### smaller heading\n",
    "\n",
    "###### even smaller\n",
    "\n",
    "####### even smaller\n",
    "\n",
    "This shows that the smallest possible heading uses 6'#' while the largest will use 1'#'."
   ]
  },
  {
   "attachments": {},
   "cell_type": "markdown",
   "id": "ccd83a97",
   "metadata": {},
   "source": [
    "## Displaying Code"
   ]
  },
  {
   "cell_type": "markdown",
   "id": "c274c061-4086-40cf-bfe5-7c9c41bcb41e",
   "metadata": {},
   "source": [
    "``This is code``\n",
    "\n",
    "```python\n",
    "print('hello world')\n",
    "```"
   ]
  },
  {
   "attachments": {},
   "cell_type": "markdown",
   "id": "fec97a2a",
   "metadata": {},
   "source": [
    "## 4.5 Links"
   ]
  },
  {
   "cell_type": "markdown",
   "id": "2a181dbd-3749-4d02-a2b5-7faafb7465ed",
   "metadata": {},
   "source": [
    "[THIS IS LINK TEXT](https://sps.nus.edu.sg/sp2273/docs/python_basics/01_using_jupyter/1_using-jupyter_need.html)"
   ]
  },
  {
   "attachments": {},
   "cell_type": "markdown",
   "id": "22236d25",
   "metadata": {},
   "source": [
    "## 4.6 Images"
   ]
  },
  {
   "cell_type": "markdown",
   "id": "1d6407e2-87c5-4b71-aa9c-cd2b30cc1100",
   "metadata": {},
   "source": [
    "![](https://nus.edu.sg/images/default-source/base/logo.png)"
   ]
  },
  {
   "attachments": {},
   "cell_type": "markdown",
   "id": "4d7e8e30",
   "metadata": {},
   "source": [
    "## 4.7 Tables"
   ]
  },
  {
   "cell_type": "markdown",
   "id": "cfaf1fcd-534f-4216-b9a1-95311441573b",
   "metadata": {},
   "source": [
    "| A    |  B   |    C |\n",
    "| :--- | :--: | ---: |\n",
    "| a1   |  b1  |   c1 |\n",
    "| a2   |  b2  |   c2 |\n",
    "| a3   |  b3  |   c3 |"
   ]
  },
  {
   "attachments": {},
   "cell_type": "markdown",
   "id": "5272e51d",
   "metadata": {},
   "source": [
    "## 4.8 Lists"
   ]
  },
  {
   "cell_type": "markdown",
   "id": "c7c4487e-887a-4323-8b40-51aa749776d1",
   "metadata": {},
   "source": [
    "1. AAA\n",
    "2. BBB\n",
    "3. CCC\n",
    "\n",
    "- AAA\n",
    "- BBB\n",
    "- CCC\n",
    "\n",
    "1. MASTER YODA\n",
    "   1. GREEN\n",
    "2. LUKE SKYWALKER\n",
    "    1. JEDI"
   ]
  },
  {
   "attachments": {},
   "cell_type": "markdown",
   "id": "e7749daa",
   "metadata": {},
   "source": [
    "## 4.9 Equations"
   ]
  },
  {
   "cell_type": "markdown",
   "id": "afc1d69d-4b38-4b90-b4b3-5152e4f3a6ec",
   "metadata": {},
   "source": [
    "This is a square $\\int x^2$"
   ]
  },
  {
   "cell_type": "markdown",
   "id": "60509c2b-03c2-47ad-b2e6-f1cc70008468",
   "metadata": {},
   "source": [
    "$$\n",
    "x = \\dfrac{-b \\pm \\sqrt{b^2-4ac}}{2a}\n",
    "$$"
   ]
  },
  {
   "cell_type": "markdown",
   "id": "77f650db-6393-4f9d-825d-b3337153a057",
   "metadata": {},
   "source": [
    "## Footnotes"
   ]
  },
  {
   "cell_type": "markdown",
   "id": "e139af77-8505-41b0-b7b0-c990dbcf40cc",
   "metadata": {},
   "source": [
    "This is a ^[footnote]"
   ]
  }
 ],
 "metadata": {
  "kernelspec": {
   "display_name": "Python 3 (ipykernel)",
   "language": "python",
   "name": "python3"
  },
  "language_info": {
   "codemirror_mode": {
    "name": "ipython",
    "version": 3
   },
   "file_extension": ".py",
   "mimetype": "text/x-python",
   "name": "python",
   "nbconvert_exporter": "python",
   "pygments_lexer": "ipython3",
   "version": "3.11.5"
  },
  "toc": {
   "base_numbering": 1,
   "nav_menu": {},
   "number_sections": true,
   "sideBar": true,
   "skip_h1_title": false,
   "title_cell": "Table of Contents",
   "title_sidebar": "Contents",
   "toc_cell": false,
   "toc_position": {},
   "toc_section_display": true,
   "toc_window_display": false
  },
  "vscode": {
   "interpreter": {
    "hash": "31f2aee4e71d21fbe5cf8b01ff0e069b9275f58929596ceb00d14d90e3e16cd6"
   }
  }
 },
 "nbformat": 4,
 "nbformat_minor": 5
}
