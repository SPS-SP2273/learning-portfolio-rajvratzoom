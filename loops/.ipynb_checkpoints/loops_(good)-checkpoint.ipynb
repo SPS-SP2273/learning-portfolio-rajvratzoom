{
 "cells": [
  {
   "attachments": {},
   "cell_type": "markdown",
   "id": "123456",
   "metadata": {},
   "source": [
    "<div style=\"text-align:left;font-size:2em\"><span style=\"font-weight:bolder;font-size:1.25em\">SP2273 | Learning Portfolio</span><br><br><span style=\"font-weight:bold;color:darkred\">Loops (Good)</span></div>"
   ]
  },
  {
   "attachments": {},
   "cell_type": "markdown",
   "id": "1fb9d834",
   "metadata": {},
   "source": [
    "# Interrupting the flow"
   ]
  },
  {
   "cell_type": "markdown",
   "id": "e3270d77-9986-4c8b-9dd1-b20a5a58fb38",
   "metadata": {},
   "source": [
    "To change the flow of the loop within, we can use break or continue, the use of their functions are shown below."
   ]
  },
  {
   "cell_type": "markdown",
   "id": "2c853d7d-94ca-4ce1-9dd2-844fd682de68",
   "metadata": {},
   "source": [
    "BREAK: used to exit a loop and terminate it. This will work on a while loop as well. Below, as soon as numbers are above 5000, ```break``` exits the loop "
   ]
  },
  {
   "cell_type": "code",
   "execution_count": 1,
   "id": "9d3f01de-02e1-4b62-94f6-5bc24f4fcefb",
   "metadata": {},
   "outputs": [
    {
     "name": "stdout",
     "output_type": "stream",
     "text": [
      "0 1\n",
      "1 10\n",
      "2 100\n",
      "3 1000\n"
     ]
    }
   ],
   "source": [
    "for power in range(5):\n",
    "    number = 10**power\n",
    "    if number > 5000:\n",
    "        break\n",
    "    print(power, number)"
   ]
  },
  {
   "cell_type": "markdown",
   "id": "2e2d04b4-be9a-422e-8129-b393e5f4080e",
   "metadata": {},
   "source": [
    "CONTINUE: to skip the current iteration and move to the next one. Everything after the ```continue``` command is skipped. This will also work in a while loop. Below, the power == 3 is skipped, but the loop is not terminated"
   ]
  },
  {
   "cell_type": "code",
   "execution_count": 2,
   "id": "b9be1c8f-bcbe-47db-a2ef-efe171e0b600",
   "metadata": {},
   "outputs": [
    {
     "name": "stdout",
     "output_type": "stream",
     "text": [
      "0 1\n",
      "1 10\n",
      "2 100\n",
      "4 10000\n"
     ]
    }
   ],
   "source": [
    "for power in range(5):\n",
    "    if power == 3:\n",
    "        continue        # Don't proceed further\n",
    "                        # IN THE CURRENT LOOP\n",
    "                        # if i == 3\n",
    "    number = 10**power\n",
    "    print(power, number)"
   ]
  },
  {
   "cell_type": "markdown",
   "id": "8ce43b49-796c-4ea1-aef9-67984e84e922",
   "metadata": {},
   "source": [
    "Below, continue is used to prevent even numbers from being printed, however the number variable is still being changed"
   ]
  },
  {
   "cell_type": "code",
   "execution_count": 3,
   "id": "6d5239ff-f0e3-4a18-bb3c-bf75d33d6b04",
   "metadata": {},
   "outputs": [
    {
     "name": "stdout",
     "output_type": "stream",
     "text": [
      "1\n",
      "3\n",
      "5\n",
      "7\n",
      "9\n"
     ]
    }
   ],
   "source": [
    "for number in range(10):\n",
    "    # Don't proceed if the remainder is zero\n",
    "    # I.e. if the number is even\n",
    "    if number % 2 == 0:\n",
    "        continue\n",
    "    print(number)"
   ]
  },
  {
   "cell_type": "markdown",
   "id": "cd868ddc-80b7-4395-ac7c-081dffb384ab",
   "metadata": {},
   "source": [
    "Below, we exit the loop when the ```number``` variable is greater than 4"
   ]
  },
  {
   "cell_type": "code",
   "execution_count": 5,
   "id": "d7170e19-3c2c-4bc7-83f4-7e8f16dc023a",
   "metadata": {},
   "outputs": [
    {
     "name": "stdout",
     "output_type": "stream",
     "text": [
      "0\n",
      "1\n",
      "2\n",
      "3\n",
      "4\n"
     ]
    }
   ],
   "source": [
    "number=0\n",
    "\n",
    "while True:\n",
    "    print(number)\n",
    "    number += 1\n",
    "    if number > 4: break"
   ]
  },
  {
   "attachments": {},
   "cell_type": "markdown",
   "id": "5f200ab3",
   "metadata": {},
   "source": [
    "# List comprehension!"
   ]
  },
  {
   "attachments": {},
   "cell_type": "markdown",
   "id": "507abd2e",
   "metadata": {},
   "source": [
    "## Basic syntax"
   ]
  },
  {
   "cell_type": "markdown",
   "id": "cbef1a59-27df-41eb-81a9-d11f96e0843e",
   "metadata": {},
   "source": [
    "Methods to create quick lists:"
   ]
  },
  {
   "cell_type": "code",
   "execution_count": 6,
   "id": "75e3a0a3-94d5-45ab-a7eb-517b3b2b423e",
   "metadata": {},
   "outputs": [
    {
     "data": {
      "text/plain": [
       "[0, 1, 2, 3, 4]"
      ]
     },
     "execution_count": 6,
     "metadata": {},
     "output_type": "execute_result"
    }
   ],
   "source": [
    "[number for number in range(5)] #list of numbers"
   ]
  },
  {
   "cell_type": "code",
   "execution_count": 8,
   "id": "a8fe4875-b7ea-4be4-bc04-c5144cf7f304",
   "metadata": {},
   "outputs": [
    {
     "data": {
      "text/plain": [
       "[0, 1, 4, 9, 16]"
      ]
     },
     "execution_count": 8,
     "metadata": {},
     "output_type": "execute_result"
    }
   ],
   "source": [
    "[number**2 for number in range(5)] #list of powers"
   ]
  },
  {
   "cell_type": "markdown",
   "id": "bf6f95d2-a057-4a43-bae8-b3700fe04330",
   "metadata": {},
   "source": [
    "Essentially just put what you want as the output at the front of the list"
   ]
  },
  {
   "attachments": {},
   "cell_type": "markdown",
   "id": "f4b15ca5",
   "metadata": {},
   "source": [
    "## List comprehension with conditions"
   ]
  },
  {
   "cell_type": "markdown",
   "id": "abd4d026-f3f7-4958-91d3-d8c4e7b5bec5",
   "metadata": {},
   "source": [
    "We can create lists quickly and add conditions to create more specific lists"
   ]
  },
  {
   "cell_type": "code",
   "execution_count": 10,
   "id": "71ed7034-1546-4b66-b399-8f21d48d5031",
   "metadata": {},
   "outputs": [
    {
     "data": {
      "text/plain": [
       "[0, 2, 4, 6, 8]"
      ]
     },
     "execution_count": 10,
     "metadata": {},
     "output_type": "execute_result"
    }
   ],
   "source": [
    "[number for number in range(10) if number % 2 ==0]  #creates a list that only outputs even numbers"
   ]
  },
  {
   "attachments": {},
   "cell_type": "markdown",
   "id": "02e3d804",
   "metadata": {},
   "source": [
    "# Other useful stuff"
   ]
  },
  {
   "attachments": {},
   "cell_type": "markdown",
   "id": "02398308",
   "metadata": {},
   "source": [
    "## for with unpacking"
   ]
  },
  {
   "cell_type": "markdown",
   "id": "256905ae-15d3-4dcc-aaf3-032c31952d3e",
   "metadata": {},
   "source": [
    "We can assign different values to different variables within the same line of code. This is called unpacking"
   ]
  },
  {
   "cell_type": "code",
   "execution_count": 11,
   "id": "6d6db695-741e-45d2-926d-d86f4bfcabc0",
   "metadata": {},
   "outputs": [
    {
     "name": "stdout",
     "output_type": "stream",
     "text": [
      "x = 1, y = 2, z = 3\n"
     ]
    }
   ],
   "source": [
    "x, y, z=[1, 2, 3]\n",
    "print(f'x = {x}, y = {y}, z = {z}')"
   ]
  },
  {
   "cell_type": "markdown",
   "id": "8e152a4b-7d5d-4c89-ae7d-392040caefcd",
   "metadata": {},
   "source": [
    "This functionality can also be applied to a for loop as shown below, assigning the values within the different sublists to the variables as the loops iterates through ```py_superhero_info```"
   ]
  },
  {
   "cell_type": "code",
   "execution_count": 13,
   "id": "23776f97-19c9-489b-a9db-601101265d56",
   "metadata": {},
   "outputs": [
    {
     "name": "stdout",
     "output_type": "stream",
     "text": [
      "Natasha Romanoff is Marvel's Black Widow!\n",
      "Tony Stark is Marvel's Iron Man!\n",
      "Stephen Strange is Marvel's Doctor Strange!\n"
     ]
    }
   ],
   "source": [
    "py_superhero_info = [['Natasha Romanoff', 'Black Widow'],\n",
    "                     ['Tony Stark', 'Iron Man'],\n",
    "                     ['Stephen Strange', 'Doctor Strange']]\n",
    "\n",
    "for real_name, super_name in py_superhero_info:\n",
    "    print(f\"{real_name} is Marvel's {super_name}!\")"
   ]
  },
  {
   "attachments": {},
   "cell_type": "markdown",
   "id": "dc5821c9",
   "metadata": {},
   "source": [
    "## for with zip()"
   ]
  },
  {
   "cell_type": "markdown",
   "id": "09db94d4-bc2b-4bf1-8df9-790f1bd7a9cf",
   "metadata": {},
   "source": [
    "Zip allows us to parse through both lists simultaneously and assign their values to the variables in the for loop"
   ]
  },
  {
   "cell_type": "code",
   "execution_count": 14,
   "id": "52087360-f01a-4fc5-b752-703c4661e5f3",
   "metadata": {},
   "outputs": [
    {
     "name": "stdout",
     "output_type": "stream",
     "text": [
      "Natasha Romanoff is Marvel's Black Widow!\n",
      "Tony Stark is Marvel's Iron Man!\n",
      "Stephen Strange is Marvel's Doctor Strange!\n"
     ]
    }
   ],
   "source": [
    "super_names = [\"Black Widow\", \"Iron Man\", \"Doctor Strange\"]\n",
    "real_names = [\"Natasha Romanoff\", \"Tony Stark\", \"Stephen Strange\"]\n",
    "\n",
    "for real_name, super_name in zip(real_names,super_names):\n",
    "    print(f\"{real_name} is Marvel's {super_name}!\")"
   ]
  },
  {
   "attachments": {},
   "cell_type": "markdown",
   "id": "13371699",
   "metadata": {},
   "source": [
    "## for with dictionaries"
   ]
  },
  {
   "cell_type": "markdown",
   "id": "954b5f87-d3aa-4305-a187-0248cf67b946",
   "metadata": {},
   "source": [
    "Here are 2 ways one could parse through a dictionary and extract both the key and the value while parsing:"
   ]
  },
  {
   "cell_type": "markdown",
   "id": "9d22ea26-07fa-4eb3-af40-29e8e5406c3a",
   "metadata": {},
   "source": [
    "Over here, .items() would allow one to access all the key value pairs in the dictionary without having to use the key to access the dictionary manually. It is something like using the zip() function on both the keys and values in the dictionary and parsing through the simultaneously."
   ]
  },
  {
   "cell_type": "code",
   "execution_count": 15,
   "id": "69663999-3f55-4ec4-a6c0-6ccc6be7ae96",
   "metadata": {},
   "outputs": [
    {
     "name": "stdout",
     "output_type": "stream",
     "text": [
      "Natasha Romanoff is Marvel's Black Widow!\n",
      "Tony Stark is Marvel's Iron Man!\n",
      "Stephen Strange is Marvel's Doctor Strange!\n"
     ]
    }
   ],
   "source": [
    "superhero_info={\"Natasha Romanoff\": \"Black Widow\",\n",
    "                \"Tony Stark\": \"Iron Man\",\n",
    "                \"Stephen Strange\": \"Doctor Strange\"}\n",
    "\n",
    "for key, value in superhero_info.items():  \n",
    "    print(f\"{key} is Marvel's {value}!\")"
   ]
  },
  {
   "cell_type": "markdown",
   "id": "382f7b51-752b-4db3-9f6e-1996239598e0",
   "metadata": {},
   "source": [
    "The method below is a way of using the keys in the dictionary to directly acces the corresponding value in the dictionary"
   ]
  },
  {
   "cell_type": "code",
   "execution_count": 16,
   "id": "b8ffe92f-bded-43d2-9e9c-d29c2f8f3a76",
   "metadata": {},
   "outputs": [
    {
     "name": "stdout",
     "output_type": "stream",
     "text": [
      "Natasha Romanoff is Marvel's Black Widow!\n",
      "Tony Stark is Marvel's Iron Man!\n",
      "Stephen Strange is Marvel's Doctor Strange!\n"
     ]
    }
   ],
   "source": [
    "for key in superhero_info.keys():\n",
    "    value=superhero_info[key]\n",
    "    print(f\"{key} is Marvel's {value}!\")"
   ]
  }
 ],
 "metadata": {
  "kernelspec": {
   "display_name": "Python 3 (ipykernel)",
   "language": "python",
   "name": "python3"
  },
  "language_info": {
   "codemirror_mode": {
    "name": "ipython",
    "version": 3
   },
   "file_extension": ".py",
   "mimetype": "text/x-python",
   "name": "python",
   "nbconvert_exporter": "python",
   "pygments_lexer": "ipython3",
   "version": "3.11.5"
  },
  "toc": {
   "base_numbering": 1,
   "nav_menu": {},
   "number_sections": true,
   "sideBar": true,
   "skip_h1_title": false,
   "title_cell": "Table of Contents",
   "title_sidebar": "Contents",
   "toc_cell": false,
   "toc_position": {},
   "toc_section_display": true,
   "toc_window_display": false
  },
  "vscode": {
   "interpreter": {
    "hash": "31f2aee4e71d21fbe5cf8b01ff0e069b9275f58929596ceb00d14d90e3e16cd6"
   }
  }
 },
 "nbformat": 4,
 "nbformat_minor": 5
}
