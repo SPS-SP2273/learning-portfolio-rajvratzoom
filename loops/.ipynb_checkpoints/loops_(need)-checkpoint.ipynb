{
 "cells": [
  {
   "attachments": {},
   "cell_type": "markdown",
   "id": "123456",
   "metadata": {},
   "source": [
    "<div style=\"text-align:left;font-size:2em\"><span style=\"font-weight:bolder;font-size:1.25em\">SP2273 | Learning Portfolio</span><br><br><span style=\"font-weight:bold;color:darkred\">Loops (Need)</span></div>"
   ]
  },
  {
   "attachments": {},
   "cell_type": "markdown",
   "id": "7197e024",
   "metadata": {},
   "source": [
    "# What to expect in this chapter"
   ]
  },
  {
   "attachments": {},
   "cell_type": "markdown",
   "id": "67461a77",
   "metadata": {},
   "source": [
    "# 1 The for iterator"
   ]
  },
  {
   "cell_type": "markdown",
   "id": "896368e9-2fb9-4f5a-ab72-42a58b05a174",
   "metadata": {},
   "source": [
    "For and while loops allow the user to complete repetetive tasks in python"
   ]
  },
  {
   "cell_type": "code",
   "execution_count": 2,
   "id": "f5f504d6-e252-41b8-a137-6a536eb57846",
   "metadata": {},
   "outputs": [],
   "source": [
    "real_names = [\"Natasha Romanoff\", \"Tony Stark\", \"Stephen Strange\"]"
   ]
  },
  {
   "cell_type": "code",
   "execution_count": 4,
   "id": "cfd56504-4621-4542-92f4-0079749985bb",
   "metadata": {},
   "outputs": [
    {
     "name": "stdout",
     "output_type": "stream",
     "text": [
      "Natasha Romanoff is a Marvel superhero!\n",
      "Tony Stark is a Marvel superhero!\n",
      "Stephen Strange is a Marvel superhero!\n"
     ]
    }
   ],
   "source": [
    "#POOR EXAMPLE OF PRINTING MESSAGES WITH EACH LIST ELEMENT\n",
    "name=real_names[0]\n",
    "print(f\"{name} is a Marvel superhero!\")\n",
    "\n",
    "name=real_names[1]\n",
    "print(f\"{name} is a Marvel superhero!\")\n",
    "\n",
    "name=real_names[2]\n",
    "print(f\"{name} is a Marvel superhero!\")"
   ]
  },
  {
   "cell_type": "markdown",
   "id": "3e82faaf-e350-4db5-9df2-62fb74bf2731",
   "metadata": {},
   "source": [
    "This example is poor because:\n",
    "1. If you were to have 100+ names you would have to manually type out the same code the same number of times in order to print each unique message\n",
    "2. To make any changes to the code you would have to do it over each piece of code that was written\n",
    "3. It is hihgly error prone as writing long lines of code repeatedly could give rise to human error, even if most parts are being copy and pasted"
   ]
  },
  {
   "attachments": {},
   "cell_type": "markdown",
   "id": "7cedc904",
   "metadata": {},
   "source": [
    "## 1.1 for with a list"
   ]
  },
  {
   "cell_type": "code",
   "execution_count": 6,
   "id": "36c09522-34e4-4c67-91f2-197c1c611a61",
   "metadata": {},
   "outputs": [
    {
     "name": "stdout",
     "output_type": "stream",
     "text": [
      "Natasha Romanoff is a Marvel superhero!\n",
      "Tony Stark is a Marvel superhero!\n",
      "Stephen Strange is a Marvel superhero!\n"
     ]
    }
   ],
   "source": [
    "for name in real_names:      #iterates through the elements in real_names\n",
    "    print(f\"{name} is a Marvel superhero!\")    #code block to be executed each time the loops is executed with the respective element"
   ]
  },
  {
   "cell_type": "code",
   "execution_count": 8,
   "id": "df8ff6c0-e77a-4942-836d-3f500dcb5c79",
   "metadata": {},
   "outputs": [
    {
     "name": "stdout",
     "output_type": "stream",
     "text": [
      "Natasha Romanoff is a Marvel superhero!\n",
      "Tony Stark is a Marvel superhero!\n",
      "Stephen Strange is a Marvel superhero!\n"
     ]
    }
   ],
   "source": [
    "for x in real_names:                       # x is used to represent the element selected in the list at each loop instead of name\n",
    "    print(f\"{x} is a Marvel superhero!\")   # x still can work as it is just a variable to represent the element selected"
   ]
  },
  {
   "attachments": {},
   "cell_type": "markdown",
   "id": "3585af78",
   "metadata": {},
   "source": [
    "## 1.2 for with enumerate"
   ]
  },
  {
   "cell_type": "code",
   "execution_count": 9,
   "id": "18938ff6-6296-4396-a0b3-1155745aa63c",
   "metadata": {},
   "outputs": [],
   "source": [
    "super_names = [\"Black Widow\", \"Iron Man\", \"Doctor Strange\"]\n",
    "real_names = [\"Natasha Romanoff\", \"Tony Stark\", \"Stephen Strange\"]"
   ]
  },
  {
   "cell_type": "markdown",
   "id": "974fa7e8-efc7-44b2-9af7-ad04671f4e53",
   "metadata": {},
   "source": [
    "The for loop will only access data in one list. However to access data in both lists we would want to use enumerate() in order to access both data simultaneously "
   ]
  },
  {
   "cell_type": "code",
   "execution_count": 12,
   "id": "5eacef5e-b842-4627-a75d-8c24195d386d",
   "metadata": {},
   "outputs": [
    {
     "name": "stdout",
     "output_type": "stream",
     "text": [
      "0: Natasha Romanoff is a Marvel superhero!\n",
      "1: Tony Stark is a Marvel superhero!\n",
      "2: Stephen Strange is a Marvel superhero!\n"
     ]
    }
   ],
   "source": [
    "#demostration of how enumerate works\n",
    "for count, name in enumerate(real_names):            #enumerate returns the index of the element that is accessed and the element itself\n",
    "    print(f'{count}: {name} is a Marvel superhero!')"
   ]
  },
  {
   "cell_type": "code",
   "execution_count": 13,
   "id": "12aca432-7380-43fd-8cbe-5e0a568de3c3",
   "metadata": {},
   "outputs": [
    {
     "name": "stdout",
     "output_type": "stream",
     "text": [
      "Natasha Romanoff is Black Widow!\n",
      "Tony Stark is Iron Man!\n",
      "Stephen Strange is Doctor Strange!\n"
     ]
    }
   ],
   "source": [
    "for index, name in enumerate(real_names):\n",
    "    superhero_name = super_names[index]     \n",
    "    print(f'{name} is {superhero_name}!')"
   ]
  },
  {
   "cell_type": "markdown",
   "id": "f831a5ee-64ed-47a5-a242-8b62430985d7",
   "metadata": {},
   "source": [
    "Using enumerate we can access not only the selected element in the real_names list but we can also use the index of the element, that is obtained from enumerate, in order to access the corressponding element in another list. For this example, it is in the super_names list. Therefore the 1st element that is accessed in the real_ames list, whose index is 0 given by enumerate will allow the code block to access the first element of the super_names list using indexing"
   ]
  },
  {
   "cell_type": "code",
   "execution_count": 15,
   "id": "89942f50-3ff8-4403-9db4-bd24f8f26c46",
   "metadata": {},
   "outputs": [
    {
     "name": "stdout",
     "output_type": "stream",
     "text": [
      "100: Natasha Romanoff is a Marvel superhero!\n",
      "101: Tony Stark is a Marvel superhero!\n",
      "102: Stephen Strange is a Marvel superhero!\n"
     ]
    }
   ],
   "source": [
    "for count, name in enumerate(real_names, 100):   # by adding ,100 here we prompt enumerate to begin counting from 100\n",
    "    print(f'{count}: {name} is a Marvel superhero!')"
   ]
  },
  {
   "attachments": {},
   "cell_type": "markdown",
   "id": "b74c1ce2",
   "metadata": {},
   "source": [
    "## 1.3 for with range"
   ]
  },
  {
   "cell_type": "code",
   "execution_count": 17,
   "id": "5b955c3c-e9d9-4290-ab66-28cd82b25278",
   "metadata": {},
   "outputs": [
    {
     "name": "stdout",
     "output_type": "stream",
     "text": [
      "0\n",
      "1\n",
      "2\n",
      "3\n",
      "4\n"
     ]
    }
   ],
   "source": [
    "for i in range(5):   #range can specify the number of times we want the loop to run\n",
    "    print(i)"
   ]
  },
  {
   "cell_type": "code",
   "execution_count": 19,
   "id": "7c9508ca-db5c-42a9-b918-fe46589a6da4",
   "metadata": {},
   "outputs": [
    {
     "name": "stdout",
     "output_type": "stream",
     "text": [
      "5\n",
      "6\n",
      "7\n",
      "8\n",
      "9\n"
     ]
    }
   ],
   "source": [
    "for i in range(5, 10):   #start from 5 end at 9, tailoring the start and end values\n",
    "    print(i)"
   ]
  },
  {
   "cell_type": "code",
   "execution_count": 21,
   "id": "5972b34f-f4f5-42e1-8372-588e5d6ea600",
   "metadata": {},
   "outputs": [
    {
     "name": "stdout",
     "output_type": "stream",
     "text": [
      "1\n",
      "4\n",
      "7\n"
     ]
    }
   ],
   "source": [
    "for i in range(1, 10, 3):  #similar to slicing, the format is range(start,stop,step)\n",
    "    print(i)                #range will stop one short of the stop value!"
   ]
  },
  {
   "cell_type": "markdown",
   "id": "5b8dda0a-52f1-434c-8009-cea1fbad43c9",
   "metadata": {},
   "source": [
    "Superhero names example"
   ]
  },
  {
   "cell_type": "code",
   "execution_count": 23,
   "id": "e60bf90b-64e1-4840-ab8b-9a81e1d7d74d",
   "metadata": {
    "scrolled": true
   },
   "outputs": [
    {
     "name": "stdout",
     "output_type": "stream",
     "text": [
      "Natasha Romanoff is Marvel's Black Widow!\n",
      "Tony Stark is Marvel's Iron Man!\n",
      "Stephen Strange is Marvel's Doctor Strange!\n"
     ]
    }
   ],
   "source": [
    "for i in range(len(real_names)):             #len(real_names) checks for how many times the loop has to run, depending on the number of elements in the real_names list\n",
    "    real_name = real_names[i]                #for each loop, i increments by 1 and the value in i allows us to access corressponding values in\n",
    "    super_name = super_names[i]              #real_name and super_name simultaneously\n",
    "    print(f\"{real_name} is Marvel's {super_name}!\")"
   ]
  },
  {
   "attachments": {},
   "cell_type": "markdown",
   "id": "6697f245",
   "metadata": {},
   "source": [
    "# 2 while"
   ]
  },
  {
   "cell_type": "code",
   "execution_count": 26,
   "id": "04822b49-c86a-4f0a-8cda-d3b688010251",
   "metadata": {},
   "outputs": [
    {
     "name": "stdout",
     "output_type": "stream",
     "text": [
      "0\n",
      "1\n",
      "2\n",
      "3\n",
      "4\n"
     ]
    }
   ],
   "source": [
    "number = 0\n",
    "\n",
    "while number < 5:   #as long as number is less than 5, the condition is True. Therefore it will repeat until number = 5 then stop\n",
    "    print(number)\n",
    "    number += 1"
   ]
  },
  {
   "cell_type": "markdown",
   "id": "09bfdc0a-5226-4907-b000-904455446b5c",
   "metadata": {},
   "source": [
    "No knowledge of how many iterations are needed. This is because the loop will keep repeating as long as the condition in the while line (number<5) is True. "
   ]
  }
 ],
 "metadata": {
  "kernelspec": {
   "display_name": "Python 3 (ipykernel)",
   "language": "python",
   "name": "python3"
  },
  "language_info": {
   "codemirror_mode": {
    "name": "ipython",
    "version": 3
   },
   "file_extension": ".py",
   "mimetype": "text/x-python",
   "name": "python",
   "nbconvert_exporter": "python",
   "pygments_lexer": "ipython3",
   "version": "3.11.5"
  },
  "toc": {
   "base_numbering": 1,
   "nav_menu": {},
   "number_sections": true,
   "sideBar": true,
   "skip_h1_title": false,
   "title_cell": "Table of Contents",
   "title_sidebar": "Contents",
   "toc_cell": false,
   "toc_position": {},
   "toc_section_display": true,
   "toc_window_display": false
  },
  "vscode": {
   "interpreter": {
    "hash": "31f2aee4e71d21fbe5cf8b01ff0e069b9275f58929596ceb00d14d90e3e16cd6"
   }
  }
 },
 "nbformat": 4,
 "nbformat_minor": 5
}
