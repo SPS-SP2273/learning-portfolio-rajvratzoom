{
 "cells": [
  {
   "attachments": {},
   "cell_type": "markdown",
   "id": "123456",
   "metadata": {},
   "source": [
    "<div style=\"text-align:left;font-size:2em\"><span style=\"font-weight:bolder;font-size:1.25em\">SP2273 | Learning Portfolio</span><br><br><span style=\"font-weight:bold;color:darkred\">Storing Data (Need) Exercises</span></div>"
   ]
  },
  {
   "cell_type": "markdown",
   "id": "5d719493-35da-48f8-8b43-5adcbce96297",
   "metadata": {},
   "source": [
    "# Exercise 1"
   ]
  },
  {
   "cell_type": "markdown",
   "id": "3a6cacba-9bc0-41ea-bb67-e2696121cc97",
   "metadata": {},
   "source": [
    "Similarities\n",
    "1. Lists and arrays are enclosed in  ```[]``` brackets\n",
    "2. Lists and arrays both have the same indexing convention, both of their first elements begin with index 0\n",
    "\n",
    "Differences\n",
    "1. Multiplying a list with a number will concatenate that list by the number while in an array, the number will be multiplied to every element\n",
    "2. Adding 2 lists together will simply concatenate the lists while adding 2 arrays together will produce an array with the sum of the numbers at the same indexes\n",
    "\n",
    "Dictrionary:\n",
    "A dictionary is a data structure where there keys are assigned to values. When we pass the key into a dictionary, the output will be the value that was assigned to that key\n",
    "\n",
    "\n",
    "\n"
   ]
  },
  {
   "cell_type": "markdown",
   "id": "3fb80050-f37d-4142-8592-bd06f8581c45",
   "metadata": {},
   "source": [
    "# Exercise 2\n"
   ]
  },
  {
   "cell_type": "code",
   "execution_count": 3,
   "id": "15d36474-0e76-4567-a236-9a174f21f697",
   "metadata": {},
   "outputs": [
    {
     "name": "stdout",
     "output_type": "stream",
     "text": [
      "a1\n",
      "c3\n",
      "e5\n",
      "g7\n",
      "i9\n"
     ]
    }
   ],
   "source": [
    "py_list = [\"a1\", \"b2\", \"c3\", \"d4\", \"e5\", \"f6\", \"g7\", \"h8\", \"i9\", \"j10\"]\n",
    "print(py_list[0])                     # Prints 'a1'\n",
    "print(py_list[2])                     # Prints 'c3'\n",
    "print(py_list[4])                     # Prints 'e5'\n",
    "print(py_list[6])                     # Prints 'g7'\n",
    "print(py_list[8])                     # Prints 'i9'"
   ]
  },
  {
   "cell_type": "markdown",
   "id": "78eb8c5b-e041-42d2-a678-828a6840ce53",
   "metadata": {},
   "source": [
    "# Exercise 3"
   ]
  },
  {
   "cell_type": "code",
   "execution_count": 4,
   "id": "83149690-1a1d-447d-9cf4-0966fa4a64e0",
   "metadata": {},
   "outputs": [],
   "source": [
    "elements = ['Hydrogen',\n",
    "            'Helium', 'Lithium',\n",
    "            'Beryllium', 'Boron', 'Carbon',\n",
    "            'Nitrogen', 'Oxygen',\n",
    "            'Fluorine',\n",
    "            'Neon']"
   ]
  },
  {
   "cell_type": "code",
   "execution_count": 10,
   "id": "3e284832-c9fd-4c98-8a3d-76383ac52a35",
   "metadata": {},
   "outputs": [
    {
     "name": "stdout",
     "output_type": "stream",
     "text": [
      "Boron\n",
      "Boron\n"
     ]
    }
   ],
   "source": [
    "# Forward indexing\n",
    "print(elements[4])  # I want to clarify here that the question asked the 4th INDEX, therefore I will print the element at index 4\n",
    "print(elements[-6])  "
   ]
  },
  {
   "cell_type": "code",
   "execution_count": 12,
   "id": "e8eb5763-64db-45d8-84c4-7c40fdb98fd3",
   "metadata": {},
   "outputs": [],
   "source": [
    "import numpy as np"
   ]
  },
  {
   "cell_type": "code",
   "execution_count": 26,
   "id": "a471f0b2-dc54-4d83-855c-ea28543987f7",
   "metadata": {},
   "outputs": [
    {
     "data": {
      "text/plain": [
       "9"
      ]
     },
     "execution_count": 26,
     "metadata": {},
     "output_type": "execute_result"
    }
   ],
   "source": [
    "numbers=[45, 60, 1, 30, 96, 1, 96, 57, 16, 1,\n",
    "        99, 62, 86, 43, 42, 60, 59, 1, 1, 35,\n",
    "        83, 47, 34, 28, 68, 23, 22, 92, 1, 79,\n",
    "        1, 29, 94, 72, 46, 47, 1, 74, 32, 20,\n",
    "        8, 37, 35, 1, 89, 29, 86, 19, 43, 61]\n",
    "\n",
    "\n",
    "arr1 = np.array(numbers)\n",
    "np.sum(arr1 == 1)"
   ]
  }
 ],
 "metadata": {
  "kernelspec": {
   "display_name": "Python 3 (ipykernel)",
   "language": "python",
   "name": "python3"
  },
  "language_info": {
   "codemirror_mode": {
    "name": "ipython",
    "version": 3
   },
   "file_extension": ".py",
   "mimetype": "text/x-python",
   "name": "python",
   "nbconvert_exporter": "python",
   "pygments_lexer": "ipython3",
   "version": "3.11.5"
  },
  "toc": {
   "base_numbering": 1,
   "nav_menu": {},
   "number_sections": true,
   "sideBar": true,
   "skip_h1_title": false,
   "title_cell": "Table of Contents",
   "title_sidebar": "Contents",
   "toc_cell": false,
   "toc_position": {},
   "toc_section_display": true,
   "toc_window_display": false
  },
  "vscode": {
   "interpreter": {
    "hash": "31f2aee4e71d21fbe5cf8b01ff0e069b9275f58929596ceb00d14d90e3e16cd6"
   }
  }
 },
 "nbformat": 4,
 "nbformat_minor": 5
}
