{
 "cells": [
  {
   "attachments": {},
   "cell_type": "markdown",
   "id": "123456",
   "metadata": {},
   "source": [
    "<div style=\"text-align:left;font-size:2em\"><span style=\"font-weight:bolder;font-size:1.25em\">SP2273 | Learning Portfolio</span><br><br><span style=\"font-weight:bold;color:darkred\">Using Jupyter (Need), Exercises</span></div>"
   ]
  },
  {
   "cell_type": "markdown",
   "id": "df8e5d77-4e9f-48ff-b829-e4b990b6c10b",
   "metadata": {},
   "source": [
    "# Quadratic Equations\n",
    "\n",
    "## Introduction\n",
    "\n",
    "![Quadratic Equation Graph](https://upload.wikimedia.org/wikipedia/commons/thumb/f/f8/Polynomialdeg2.svg/1920px-Polynomialdeg2.svg.png)\n",
    "\n",
    "(_Image from the [Wikipedia page on Quadratic equations](https://en.wikipedia.org/wiki/Quadratic_equation)_)\n",
    "\n",
    "The general form of a quadratic equation is:\n",
    "$$\n",
    "ax^{2}+bx+c = 0\n",
    "$$"
   ]
  },
  {
   "cell_type": "markdown",
   "id": "8c911193-d2ed-490f-b0d7-84430fdd1674",
   "metadata": {},
   "source": [
    "## Solutions\n",
    "Provided $ a \\ne 0$, we can use an elementary algebraic method called [completing the square](https://en.wikipedia.org/wiki/Completing_the_square) to show that a quadratic equation has the following solution:\n",
    "$$\n",
    "x = \\dfrac{-b \\pm \\sqrt{b^2-4ac}}{2a}\n",
    "$$"
   ]
  },
  {
   "cell_type": "markdown",
   "id": "041cf726-bc2a-417d-9713-d4d2869bac4a",
   "metadata": {},
   "source": [
    "## Discriminant \n",
    "The quantity $\\lambda = b^{2}-4ac$ is called the **discriminant** of the equation and decides the nature of its solutions. The table below shows the various possibilities.\n",
    "\n",
    "|       Discriminant      | Roots                               |\r\n",
    "|:-----------------------:|-------------------------------------|\r\n",
    "| $\\lambda = b^{2}-4ac=0$ | A single solution of -b/(2a)      |\r\n",
    "| $\\lambda = b^{2}-4ac>0$ | Two distinct solutions              |\r\n",
    "| $\\lambda = b^{2}-4ac<0$ | No real solutions;both are complex. |\n"
   ]
  },
  {
   "cell_type": "markdown",
   "id": "a72496c8-a136-4449-9118-fc38c9d2b44a",
   "metadata": {},
   "source": [
    "# Exercise 2 \n",
    "\n",
    "1. It is a collection of all our files that are stored online on Github or locally, accessed through github desktop\n",
    "\n",
    "2. Changes\n",
    "\n",
    "3. A commit tells git which file changes you want to be tracked\n",
    "\n",
    "4. A push is when the changes in the code, that are initially locally stored as commits, are implemented onto the github server\n",
    "\n",
    "5. A pull is an action taken to synchronise the edited code that is stored online with the local file on your machine\n",
    "\n",
    "6. GitHub is an online repository for code collaboration, while GitHub Desktop allows you to edit and manage these repositories locally by creating a copy of them on your machine. This combination streamlines development by syncing changes and reducing code conflicts in code edits."
   ]
  }
 ],
 "metadata": {
  "kernelspec": {
   "display_name": "Python 3 (ipykernel)",
   "language": "python",
   "name": "python3"
  },
  "language_info": {
   "codemirror_mode": {
    "name": "ipython",
    "version": 3
   },
   "file_extension": ".py",
   "mimetype": "text/x-python",
   "name": "python",
   "nbconvert_exporter": "python",
   "pygments_lexer": "ipython3",
   "version": "3.11.5"
  },
  "toc": {
   "base_numbering": 1,
   "nav_menu": {},
   "number_sections": true,
   "sideBar": true,
   "skip_h1_title": false,
   "title_cell": "Table of Contents",
   "title_sidebar": "Contents",
   "toc_cell": false,
   "toc_position": {},
   "toc_section_display": true,
   "toc_window_display": false
  },
  "vscode": {
   "interpreter": {
    "hash": "31f2aee4e71d21fbe5cf8b01ff0e069b9275f58929596ceb00d14d90e3e16cd6"
   }
  }
 },
 "nbformat": 4,
 "nbformat_minor": 5
}
