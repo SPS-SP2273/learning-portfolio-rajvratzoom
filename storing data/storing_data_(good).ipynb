{
 "cells": [
  {
   "attachments": {},
   "cell_type": "markdown",
   "id": "123456",
   "metadata": {},
   "source": [
    "<div style=\"text-align:left;font-size:2em\"><span style=\"font-weight:bolder;font-size:1.25em\">SP2273 | Learning Portfolio</span><br><br><span style=\"font-weight:bold;color:darkred\">Storing Data (Good)</span></div>"
   ]
  },
  {
   "attachments": {},
   "cell_type": "markdown",
   "id": "0d83835c",
   "metadata": {},
   "source": [
    "# Subsetting: Indexing and Slicing"
   ]
  },
  {
   "cell_type": "markdown",
   "id": "cf16c8ff-732c-495f-a2ae-a351a918c546",
   "metadata": {},
   "source": [
    "1. Subsetting means to select something (a subset)\n",
    "2. Indexing refers to selecting one element of an array or list\n",
    "3. Slicing refers to selecting a range of elements"
   ]
  },
  {
   "attachments": {},
   "cell_type": "markdown",
   "id": "abbad6c1",
   "metadata": {},
   "source": [
    "## Lists & Arrays in 1D | Subsetting & Indexing"
   ]
  },
  {
   "cell_type": "code",
   "execution_count": 2,
   "id": "fb816e2f-d4d3-40ce-b75a-46cf3e2c3a43",
   "metadata": {},
   "outputs": [],
   "source": [
    "import numpy as np"
   ]
  },
  {
   "cell_type": "code",
   "execution_count": 4,
   "id": "5db1d91d-c0d7-4bb4-b544-1a4ebc2d8c29",
   "metadata": {},
   "outputs": [],
   "source": [
    "py_list=[\"a1\", \"b2\", \"c3\", \"d4\", \"e5\",\n",
    "         \"f6\", \"g7\", \"h8\", \"i9\", \"j10\"]\n",
    "np_array=np.array(py_list)\n",
    "\n",
    "# Pick one\n",
    "x = py_list  #chose py list"
   ]
  },
  {
   "cell_type": "markdown",
   "id": "64b2d39c-484d-4851-a651-1a5ba9cc6587",
   "metadata": {},
   "source": [
    "| Syntax     | Result             | Note                              |\n",
    "|------------|--------------------|-----------------------------------|\n",
    "| `x[0]`     | 'a1'               | First element                     |\n",
    "| `x[-1]`    | 'j10'              | Last element                      |\n",
    "| `x[0:3]`   | ['a1', 'b2', 'c3'] | Gives 3 − 0 = 3 elements          |\n",
    "| `x[1:6]`   | ['b2', 'c3', 'd4', 'e5', 'f6'] | Gives 6 − 1 = 5 elements |\n",
    "| `x[1:6:2]` | ['b2', 'd4', 'f6'] | Gives every other of 6 − 1 = 5 elements |\n",
    "| `x[5:]`    | ['f6', 'g7', 'h8', 'i9', 'j10'] | Gives len(x) −5 = 5 elements |\n",
    "| `x[:5]`    | ['a1', 'b2', 'c3', 'd4', 'e5'] | Gives 5 − 0 = 5 elements |\n",
    "| `x[5:2:-1]`| ['f6', 'e5', 'd4'] | Gives 5 − 2 = 3 elements (i.e., in reverse) |\n",
    "| `x[::-1]`  | Reverses the list  |                                   |\n"
   ]
  },
  {
   "cell_type": "markdown",
   "id": "e6710aaa-be3c-4d88-b187-2f094e6df9b9",
   "metadata": {},
   "source": [
    "general format for slicing:\n",
    "```x[start:stop:step]```"
   ]
  },
  {
   "attachments": {},
   "cell_type": "markdown",
   "id": "4febb487",
   "metadata": {},
   "source": [
    "## 1.2 Arrays only | Subsetting by masking"
   ]
  },
  {
   "cell_type": "markdown",
   "id": "f137f361-ad71-40f2-aba1-516f0a88bf92",
   "metadata": {},
   "source": [
    "MASKING: Only works with numpy arrays"
   ]
  },
  {
   "cell_type": "code",
   "execution_count": 12,
   "id": "59425f89-f991-45d6-b5d7-ced9fd990a57",
   "metadata": {},
   "outputs": [
    {
     "data": {
      "text/plain": [
       "array([False, False, False,  True,  True,  True,  True,  True,  True,\n",
       "        True])"
      ]
     },
     "execution_count": 12,
     "metadata": {},
     "output_type": "execute_result"
    }
   ],
   "source": [
    "np_array = np.array([1, 2, 3, 4, 5, 6, 7, 8, 9, 10])\n",
    "my_mask = np_array > 3  #the mask condition\n",
    "my_mask  # list of results"
   ]
  },
  {
   "cell_type": "code",
   "execution_count": 11,
   "id": "826ad960-9912-40cc-a17a-83882d90f3c8",
   "metadata": {},
   "outputs": [
    {
     "data": {
      "text/plain": [
       "array([ 4,  5,  6,  7,  8,  9, 10])"
      ]
     },
     "execution_count": 11,
     "metadata": {},
     "output_type": "execute_result"
    }
   ],
   "source": [
    "np_array[my_mask] #The mask showing the values that fulfill the condition"
   ]
  },
  {
   "cell_type": "markdown",
   "id": "cb5019ce-5226-414e-8764-36a26a5ad3ab",
   "metadata": {},
   "source": [
    "Subsetting by masking only works with numpy arrays"
   ]
  },
  {
   "cell_type": "code",
   "execution_count": 13,
   "id": "2fea7f81-0f93-42ac-8197-90dd63125900",
   "metadata": {},
   "outputs": [
    {
     "data": {
      "text/plain": [
       "array([ 4,  5,  6,  7,  8,  9, 10])"
      ]
     },
     "execution_count": 13,
     "metadata": {},
     "output_type": "execute_result"
    }
   ],
   "source": [
    "np_array[np_array > 3]  #directly applying the mask to the array"
   ]
  },
  {
   "cell_type": "code",
   "execution_count": 16,
   "id": "6ff406ed-d64f-401e-933c-833df02d7f3c",
   "metadata": {},
   "outputs": [
    {
     "data": {
      "text/plain": [
       "array([1, 2, 3])"
      ]
     },
     "execution_count": 16,
     "metadata": {},
     "output_type": "execute_result"
    }
   ],
   "source": [
    "np_array[~(np_array > 3)]     # '~' means 'NOT' aka 'Bitwise operator', therefore output are values that dont fulfill the condition"
   ]
  },
  {
   "cell_type": "code",
   "execution_count": 18,
   "id": "a4a47cf4-883a-42e5-a3fe-bb559c0714ff",
   "metadata": {},
   "outputs": [
    {
     "data": {
      "text/plain": [
       "array([4, 5, 6, 7])"
      ]
     },
     "execution_count": 18,
     "metadata": {},
     "output_type": "execute_result"
    }
   ],
   "source": [
    "np_array[(np_array > 3) & (np_array < 8)] # '&' means 'AND', returns values that fulfill the conditions on either side of '&'"
   ]
  },
  {
   "cell_type": "code",
   "execution_count": 20,
   "id": "f4689fe3-3cfe-4325-9780-f97c7edd00b7",
   "metadata": {},
   "outputs": [
    {
     "data": {
      "text/plain": [
       "array([ 1,  2,  9, 10])"
      ]
     },
     "execution_count": 20,
     "metadata": {},
     "output_type": "execute_result"
    }
   ],
   "source": [
    "np_array[(np_array < 3) | (np_array > 8)] # '|' means 'OR', returns values that fulfill at least one condition"
   ]
  },
  {
   "attachments": {},
   "cell_type": "markdown",
   "id": "bbb8af17",
   "metadata": {},
   "source": [
    "## 1.3 Lists & Arrays in 2D | Indexing & Slicing"
   ]
  },
  {
   "cell_type": "code",
   "execution_count": null,
   "id": "9c799a43-37b5-44ad-bb89-f228ae4aa930",
   "metadata": {},
   "outputs": [],
   "source": [
    "The differences between lists and arrays become more "
   ]
  },
  {
   "cell_type": "code",
   "execution_count": 22,
   "id": "5a80a613-7c13-4695-ba74-33d5f4d1c8b4",
   "metadata": {},
   "outputs": [],
   "source": [
    "py_list_2d = [[1, \"A\"], [2, \"B\"], [3, \"C\"], [4, \"D\"],\n",
    "              [5, \"E\"], [6, \"F\"], [7, \"G\"], [8, \"H\"],\n",
    "              [9, \"I\"], [10, \"J\"]]\n",
    "\n",
    "np_array_2d = np.array(py_list_2d)"
   ]
  },
  {
   "cell_type": "code",
   "execution_count": 29,
   "id": "3540176d-76e9-4cd3-8f74-17f5c9eb864f",
   "metadata": {},
   "outputs": [
    {
     "data": {
      "text/plain": [
       "[4, 'D']"
      ]
     },
     "execution_count": 29,
     "metadata": {},
     "output_type": "execute_result"
    }
   ],
   "source": [
    "py_list_2d[3]  #access the 3rd sublist"
   ]
  },
  {
   "cell_type": "code",
   "execution_count": 25,
   "id": "2481b2dd-c4ef-4db4-bb6f-d49145c04550",
   "metadata": {},
   "outputs": [
    {
     "data": {
      "text/plain": [
       "array(['4', 'D'], dtype='<U11')"
      ]
     },
     "execution_count": 25,
     "metadata": {},
     "output_type": "execute_result"
    }
   ],
   "source": [
    "np_array_2d[3]  "
   ]
  },
  {
   "cell_type": "code",
   "execution_count": 28,
   "id": "94ba88d7-1829-4ed7-ab15-13870dfcbabc",
   "metadata": {},
   "outputs": [
    {
     "data": {
      "text/plain": [
       "4"
      ]
     },
     "execution_count": 28,
     "metadata": {},
     "output_type": "execute_result"
    }
   ],
   "source": [
    "py_list_2d[3][0]   #access 3rd sublist then access the first element of the sublist\n"
   ]
  },
  {
   "cell_type": "code",
   "execution_count": 27,
   "id": "55067a8f-b0e2-428b-91a6-5091851913fe",
   "metadata": {},
   "outputs": [
    {
     "data": {
      "text/plain": [
       "'4'"
      ]
     },
     "execution_count": 27,
     "metadata": {},
     "output_type": "execute_result"
    }
   ],
   "source": [
    "np_array_2d[3, 0] #arrays uses a single pair of square brackets"
   ]
  },
  {
   "cell_type": "code",
   "execution_count": 30,
   "id": "b81d463b-1540-4e11-ab7c-21e77cd8947a",
   "metadata": {},
   "outputs": [
    {
     "data": {
      "text/plain": [
       "[[1, 'A'], [2, 'B'], [3, 'C']]"
      ]
     },
     "execution_count": 30,
     "metadata": {},
     "output_type": "execute_result"
    }
   ],
   "source": [
    "py_list_2d[:3]\n"
   ]
  },
  {
   "cell_type": "code",
   "execution_count": 31,
   "id": "366f0e3c-ff6f-4272-b152-756fc0362c49",
   "metadata": {},
   "outputs": [
    {
     "data": {
      "text/plain": [
       "array([['1', 'A'],\n",
       "       ['2', 'B'],\n",
       "       ['3', 'C']], dtype='<U11')"
      ]
     },
     "execution_count": 31,
     "metadata": {},
     "output_type": "execute_result"
    }
   ],
   "source": [
    "np_array_2d[:3]"
   ]
  },
  {
   "cell_type": "code",
   "execution_count": 32,
   "id": "f82b14c3-90c8-4612-bc99-812a6a3a1424",
   "metadata": {},
   "outputs": [
    {
     "data": {
      "text/plain": [
       "[1, 'A']"
      ]
     },
     "execution_count": 32,
     "metadata": {},
     "output_type": "execute_result"
    }
   ],
   "source": [
    "py_list_2d[:3][0] #access the first 3 elements then acccess the first element of theat slice"
   ]
  },
  {
   "cell_type": "code",
   "execution_count": 34,
   "id": "c04bfab9-6b2e-48d0-b927-6bef9708c26d",
   "metadata": {},
   "outputs": [
    {
     "data": {
      "text/plain": [
       "array(['1', '2', '3'], dtype='<U11')"
      ]
     },
     "execution_count": 34,
     "metadata": {},
     "output_type": "execute_result"
    }
   ],
   "source": [
    "np_array_2d[:3, 0] #access the first element of the first 3 sublists"
   ]
  },
  {
   "cell_type": "code",
   "execution_count": 35,
   "id": "1c793b11-5bd2-42c2-9028-f7d945b24636",
   "metadata": {},
   "outputs": [
    {
     "data": {
      "text/plain": [
       "[4, 'D']"
      ]
     },
     "execution_count": 35,
     "metadata": {},
     "output_type": "execute_result"
    }
   ],
   "source": [
    "py_list_2d[3:6][0] #access first sublist of the slice of the 4th to 5th elements"
   ]
  },
  {
   "cell_type": "code",
   "execution_count": 36,
   "id": "8e633667-adb8-4d0b-ba10-5b52f78c71b2",
   "metadata": {},
   "outputs": [
    {
     "data": {
      "text/plain": [
       "array(['4', '5', '6'], dtype='<U11')"
      ]
     },
     "execution_count": 36,
     "metadata": {},
     "output_type": "execute_result"
    }
   ],
   "source": [
    "np_array_2d[3:6, 0]  #access the first element of the slce of the 4th to 5th elements"
   ]
  },
  {
   "cell_type": "code",
   "execution_count": 38,
   "id": "3043c50b-9fd3-42fe-9a91-0280fd3fd0f1",
   "metadata": {},
   "outputs": [
    {
     "data": {
      "text/plain": [
       "array(['1', '2', '3', '4', '5', '6', '7', '8', '9', '10'], dtype='<U11')"
      ]
     },
     "execution_count": 38,
     "metadata": {},
     "output_type": "execute_result"
    }
   ],
   "source": [
    "np_array_2d[:, 0]  #from all sublists in the array, chose the first element "
   ]
  },
  {
   "attachments": {},
   "cell_type": "markdown",
   "id": "68b8a69b",
   "metadata": {},
   "source": [
    "## 1.4 Growing lists"
   ]
  },
  {
   "cell_type": "code",
   "execution_count": 39,
   "id": "6a99489d-d36f-4ee7-b7a4-8dcb9be34d03",
   "metadata": {},
   "outputs": [
    {
     "data": {
      "text/plain": [
       "[1, 2, 1, 2, 1, 2, 1, 2, 1, 2]"
      ]
     },
     "execution_count": 39,
     "metadata": {},
     "output_type": "execute_result"
    }
   ],
   "source": [
    "x=[1, 2]*5\n",
    "x"
   ]
  },
  {
   "cell_type": "code",
   "execution_count": 40,
   "id": "69299697-11d7-4430-9514-b7195400098e",
   "metadata": {},
   "outputs": [
    {
     "data": {
      "text/plain": [
       "[1, 2, 3, 4]"
      ]
     },
     "execution_count": 40,
     "metadata": {},
     "output_type": "execute_result"
    }
   ],
   "source": [
    "x=[1]\n",
    "x= x + [2]\n",
    "x= x + [3]\n",
    "x= x + [4]\n",
    "x"
   ]
  },
  {
   "cell_type": "code",
   "execution_count": 41,
   "id": "7aa95094-651b-406a-92ef-77f189817b93",
   "metadata": {},
   "outputs": [
    {
     "data": {
      "text/plain": [
       "[1, 2, 3, 4]"
      ]
     },
     "execution_count": 41,
     "metadata": {},
     "output_type": "execute_result"
    }
   ],
   "source": [
    "x=[1]\n",
    "x+= [2]\n",
    "x+= [3]\n",
    "x+= [4]\n",
    "x"
   ]
  },
  {
   "cell_type": "code",
   "execution_count": 43,
   "id": "bfb9143c-e186-4cc7-9ce2-57e6a036ca40",
   "metadata": {},
   "outputs": [
    {
     "data": {
      "text/plain": [
       "[1, 2, 3, 4]"
      ]
     },
     "execution_count": 43,
     "metadata": {},
     "output_type": "execute_result"
    }
   ],
   "source": [
    "x=[1]\n",
    "x.append(2)\n",
    "x.append(3)\n",
    "x.append(4)\n",
    "x     #Using append is about 1.5 times faster than the other operations above"
   ]
  },
  {
   "cell_type": "code",
   "execution_count": 44,
   "id": "ac91a43c-aa9b-4091-99b2-6cb3ac62abfb",
   "metadata": {},
   "outputs": [
    {
     "data": {
      "text/plain": [
       "[1, 2, 3, 4, 5, 6]"
      ]
     },
     "execution_count": 44,
     "metadata": {},
     "output_type": "execute_result"
    }
   ],
   "source": [
    "x = [1, 2, 3]\n",
    "x += [4, 5, 6]\n",
    "x"
   ]
  },
  {
   "cell_type": "code",
   "execution_count": 45,
   "id": "b7f614c3-b364-4ddf-9504-f98e496e5c22",
   "metadata": {},
   "outputs": [
    {
     "data": {
      "text/plain": [
       "[1, 2, 3, 4, 5, 6]"
      ]
     },
     "execution_count": 45,
     "metadata": {},
     "output_type": "execute_result"
    }
   ],
   "source": [
    "x=[1, 2, 3]\n",
    "x.extend([4, 5, 6])\n",
    "x"
   ]
  },
  {
   "cell_type": "code",
   "execution_count": 46,
   "id": "411b6236-c4ad-465d-8185-cd62b47eb96b",
   "metadata": {},
   "outputs": [
    {
     "data": {
      "text/plain": [
       "[1, 2, 3, [4, 5, 6]]"
      ]
     },
     "execution_count": 46,
     "metadata": {},
     "output_type": "execute_result"
    }
   ],
   "source": [
    "x=[1, 2, 3]\n",
    "x.append([4, 5, 6])\n",
    "x  #appending adds the list to the original list as a sublist (with brackets) while the other operations remove the brackets."
   ]
  },
  {
   "attachments": {},
   "cell_type": "markdown",
   "id": "55d06c1c",
   "metadata": {},
   "source": [
    "# Some loose ends"
   ]
  },
  {
   "attachments": {},
   "cell_type": "markdown",
   "id": "d1ca69e0",
   "metadata": {},
   "source": [
    "## 1.5 Tuples"
   ]
  },
  {
   "cell_type": "markdown",
   "id": "b6e057ab-ee18-4286-8caf-3e3813c7fa09",
   "metadata": {},
   "source": [
    "A tuple is like a list and uses ```()``` brackets. However they are immutable. You can access the data but cannot change the original tuple"
   ]
  },
  {
   "cell_type": "code",
   "execution_count": 48,
   "id": "3b9d86d8-e057-48b8-a0e2-abe51421bb49",
   "metadata": {},
   "outputs": [],
   "source": [
    "a=(1, 2, 3)     # Defining a tuple"
   ]
  },
  {
   "cell_type": "code",
   "execution_count": 49,
   "id": "ba533fe2-764d-4a21-99a5-986ab9b18961",
   "metadata": {},
   "outputs": [
    {
     "name": "stdout",
     "output_type": "stream",
     "text": [
      "1\n"
     ]
    }
   ],
   "source": [
    "print(a[0])    # Access data"
   ]
  },
  {
   "cell_type": "code",
   "execution_count": 50,
   "id": "5bdda3df-088f-4f72-a532-a436aee86bf8",
   "metadata": {},
   "outputs": [
    {
     "ename": "TypeError",
     "evalue": "'tuple' object does not support item assignment",
     "output_type": "error",
     "traceback": [
      "\u001b[1;31m---------------------------------------------------------------------------\u001b[0m",
      "\u001b[1;31mTypeError\u001b[0m                                 Traceback (most recent call last)",
      "Cell \u001b[1;32mIn[50], line 2\u001b[0m\n\u001b[0;32m      1\u001b[0m \u001b[38;5;66;03m# The following will NOT work\u001b[39;00m\n\u001b[1;32m----> 2\u001b[0m \u001b[43ma\u001b[49m\u001b[43m[\u001b[49m\u001b[38;5;241;43m0\u001b[39;49m\u001b[43m]\u001b[49m\u001b[38;5;241m=\u001b[39m\u001b[38;5;241m-\u001b[39m\u001b[38;5;241m1\u001b[39m\n\u001b[0;32m      3\u001b[0m a[\u001b[38;5;241m0\u001b[39m]\u001b[38;5;241m+\u001b[39m\u001b[38;5;241m=\u001b[39m [\u001b[38;5;241m10\u001b[39m]\n",
      "\u001b[1;31mTypeError\u001b[0m: 'tuple' object does not support item assignment"
     ]
    }
   ],
   "source": [
    "# The following will NOT work\n",
    "a[0]=-1\n",
    "a[0]+= [10]"
   ]
  },
  {
   "attachments": {},
   "cell_type": "markdown",
   "id": "ab9ed9bb",
   "metadata": {},
   "source": [
    "## 1.6 Be VERY careful when copying"
   ]
  },
  {
   "cell_type": "markdown",
   "id": "67060341-951e-482d-a92c-3c9b0cfcdb87",
   "metadata": {},
   "source": [
    "In order to create a copy of the tuple"
   ]
  },
  {
   "cell_type": "code",
   "execution_count": 58,
   "id": "acdda33a-beef-4205-b5fb-d5cbd0ab68df",
   "metadata": {},
   "outputs": [],
   "source": [
    "x=[1, 2, 3]\n",
    "y=x           # DON'T do this!\n",
    "z=x           # DON'T do this!"
   ]
  },
  {
   "cell_type": "code",
   "execution_count": 59,
   "id": "9ad3a67a-de42-4b3e-8cb5-2ea42499955e",
   "metadata": {},
   "outputs": [
    {
     "data": {
      "text/plain": [
       "[1, 2, 3, 4]"
      ]
     },
     "execution_count": 59,
     "metadata": {},
     "output_type": "execute_result"
    }
   ],
   "source": [
    "y.append(4)\n",
    "y"
   ]
  },
  {
   "cell_type": "code",
   "execution_count": null,
   "id": "a795f4f7-a2d9-4188-b328-e8e0998d5934",
   "metadata": {},
   "outputs": [],
   "source": []
  },
  {
   "cell_type": "code",
   "execution_count": 3,
   "id": "cf7e1093-d593-4e23-a216-6fbae855096f",
   "metadata": {},
   "outputs": [],
   "source": [
    "x=[1, 2, 3]\n",
    "y=x.copy()    #a shallow copy of x is created\n",
    "z=x           #z points to the original list x\n",
    "\n",
    "x.append(4)"
   ]
  },
  {
   "cell_type": "code",
   "execution_count": 4,
   "id": "996cc3f8-1ce6-4e96-9a8d-ef2a0cb8eb0a",
   "metadata": {},
   "outputs": [
    {
     "name": "stdout",
     "output_type": "stream",
     "text": [
      "[1, 2, 3]\n"
     ]
    }
   ],
   "source": [
    "print(y)     #therefore the copy of x when manipulated, will not reflect in y"
   ]
  },
  {
   "cell_type": "code",
   "execution_count": 7,
   "id": "5e6caa4d-6685-446b-8776-4ff255c41bdb",
   "metadata": {},
   "outputs": [
    {
     "name": "stdout",
     "output_type": "stream",
     "text": [
      "[1, 2, 3, 4]\n"
     ]
    }
   ],
   "source": [
    "print(z)    #therefore the any changes to x will also be reflected in z"
   ]
  },
  {
   "attachments": {},
   "cell_type": "markdown",
   "id": "8e69914a",
   "metadata": {},
   "source": [
    "# Exercises & Self-Assessment"
   ]
  },
  {
   "cell_type": "code",
   "execution_count": null,
   "id": "3f222789",
   "metadata": {},
   "outputs": [],
   "source": [
    "\n",
    "\n",
    "\n",
    "# Your solution here\n",
    "\n",
    "\n"
   ]
  },
  {
   "attachments": {},
   "cell_type": "markdown",
   "id": "e9106135",
   "metadata": {},
   "source": [
    "## Footnotes"
   ]
  }
 ],
 "metadata": {
  "kernelspec": {
   "display_name": "Python 3 (ipykernel)",
   "language": "python",
   "name": "python3"
  },
  "language_info": {
   "codemirror_mode": {
    "name": "ipython",
    "version": 3
   },
   "file_extension": ".py",
   "mimetype": "text/x-python",
   "name": "python",
   "nbconvert_exporter": "python",
   "pygments_lexer": "ipython3",
   "version": "3.11.5"
  },
  "toc": {
   "base_numbering": 1,
   "nav_menu": {},
   "number_sections": true,
   "sideBar": true,
   "skip_h1_title": false,
   "title_cell": "Table of Contents",
   "title_sidebar": "Contents",
   "toc_cell": false,
   "toc_position": {},
   "toc_section_display": true,
   "toc_window_display": false
  },
  "vscode": {
   "interpreter": {
    "hash": "31f2aee4e71d21fbe5cf8b01ff0e069b9275f58929596ceb00d14d90e3e16cd6"
   }
  }
 },
 "nbformat": 4,
 "nbformat_minor": 5
}
