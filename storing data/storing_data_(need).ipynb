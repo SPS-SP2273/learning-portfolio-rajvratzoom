{
 "cells": [
  {
   "attachments": {},
   "cell_type": "markdown",
   "id": "123456",
   "metadata": {},
   "source": [
    "<div style=\"text-align:left;font-size:2em\"><span style=\"font-weight:bolder;font-size:1.25em\">SP2273 | Learning Portfolio</span><br><br><span style=\"font-weight:bold;color:darkred\">Storing Data (Need)</span></div>"
   ]
  },
  {
   "cell_type": "code",
   "execution_count": 1,
   "id": "d13d254a-7ff1-41b6-a375-b267d0db8947",
   "metadata": {},
   "outputs": [],
   "source": [
    "import numpy as np"
   ]
  },
  {
   "attachments": {},
   "cell_type": "markdown",
   "id": "d1d25867",
   "metadata": {},
   "source": [
    "# 1 Lists, Arrays & Dictionaries"
   ]
  },
  {
   "attachments": {},
   "cell_type": "markdown",
   "id": "bf61c1fc",
   "metadata": {},
   "source": [
    "## 1.1 Let’s compare"
   ]
  },
  {
   "cell_type": "markdown",
   "id": "d8cb36d2-0f7b-48c7-be97-d53908bf2771",
   "metadata": {},
   "source": [
    "lists"
   ]
  },
  {
   "cell_type": "code",
   "execution_count": 2,
   "id": "83d979bc-9ba1-4887-9b3c-d76dcc10d704",
   "metadata": {},
   "outputs": [],
   "source": [
    "py_super_names = [\"Black Widow\", \"Iron Man\", \"Doctor Strange\"]\n",
    "py_real_names = [\"Natasha Romanoff\", \"Tony Stark\", \"Stephen Strange\"]"
   ]
  },
  {
   "cell_type": "markdown",
   "id": "f001e513-2d99-4aaa-90a8-159264bb648a",
   "metadata": {},
   "source": [
    "Numpy arrays"
   ]
  },
  {
   "cell_type": "code",
   "execution_count": 3,
   "id": "d8018f74-4522-4471-b276-df4a1655533a",
   "metadata": {},
   "outputs": [],
   "source": [
    "np_super_names = np.array([\"Black Widow\", \"Iron Man\", \"Doctor Strange\"])\n",
    "np_real_names = np.array([\"Natasha Romanoff\", \"Tony Stark\", \"Stephen Strange\"])"
   ]
  },
  {
   "cell_type": "markdown",
   "id": "5a3d1453-221b-4ac7-96ed-ee76ba962002",
   "metadata": {},
   "source": [
    "Dictionaries"
   ]
  },
  {
   "cell_type": "code",
   "execution_count": 6,
   "id": "f40a3448-9ed8-42ed-9404-8a5db5453584",
   "metadata": {},
   "outputs": [],
   "source": [
    "superhero_info = {\n",
    "    \"Natasha Romanoff\": \"Black Widow\",\n",
    "    \"Tony Stark\": \"Iron Man\",\n",
    "    \"Stephen Strange\": \"Doctor Strange\"\n",
    "}"
   ]
  },
  {
   "cell_type": "markdown",
   "id": "c038fd13-62db-4ca4-b4ba-0b7b752c6cfa",
   "metadata": {},
   "source": [
    "Dictionaries:\n",
    "\n",
    "1. They use a key and an associated value separated by a ```:```\n",
    "2. The value can be accessed by making use of the key that is associated with it"
   ]
  },
  {
   "attachments": {},
   "cell_type": "markdown",
   "id": "05b1f41d",
   "metadata": {},
   "source": [
    "## 1.2 Accessing data from a list (or array)"
   ]
  },
  {
   "cell_type": "markdown",
   "id": "c535ca18-ac88-48c2-8f05-c1897284616d",
   "metadata": {},
   "source": [
    "The first element in any python list or array has the index 0. Therefore the first element is 0, the second is 1 and so on.\n"
   ]
  },
  {
   "cell_type": "code",
   "execution_count": 7,
   "id": "207a91c9-b00f-47f7-a320-78e453322ad4",
   "metadata": {},
   "outputs": [],
   "source": [
    "py_super_names = [\"Black Widow\", \"Iron Man\", \"Doctor Strange\"]\n",
    "py_real_names = [\"Natasha Romanoff\", \"Tony Stark\", \"Stephen Strange\"]"
   ]
  },
  {
   "cell_type": "code",
   "execution_count": 11,
   "id": "0abb7f5f-3ba1-4fa2-85f3-b6c3d13223c7",
   "metadata": {},
   "outputs": [
    {
     "data": {
      "text/plain": [
       "'Natasha Romanoff'"
      ]
     },
     "execution_count": 11,
     "metadata": {},
     "output_type": "execute_result"
    }
   ],
   "source": [
    "py_real_names[0] #first element of py_real_names"
   ]
  },
  {
   "cell_type": "code",
   "execution_count": 9,
   "id": "54576aa5-565f-4383-9447-062541cd8090",
   "metadata": {},
   "outputs": [
    {
     "data": {
      "text/plain": [
       "'Black Widow'"
      ]
     },
     "execution_count": 9,
     "metadata": {},
     "output_type": "execute_result"
    }
   ],
   "source": [
    "py_super_names[0]  #first element of py_super_names"
   ]
  },
  {
   "cell_type": "code",
   "execution_count": 12,
   "id": "8b38f8f9-08eb-4460-b46a-44ef737661d4",
   "metadata": {},
   "outputs": [
    {
     "data": {
      "text/plain": [
       "'Doctor Strange'"
      ]
     },
     "execution_count": 12,
     "metadata": {},
     "output_type": "execute_result"
    }
   ],
   "source": [
    "py_super_names[2] # 3rd element of py_super_names"
   ]
  },
  {
   "cell_type": "code",
   "execution_count": 13,
   "id": "6e3527f2-ad0b-4a7c-a6fb-228411afb210",
   "metadata": {},
   "outputs": [
    {
     "data": {
      "text/plain": [
       "'Doctor Strange'"
      ]
     },
     "execution_count": 13,
     "metadata": {},
     "output_type": "execute_result"
    }
   ],
   "source": [
    "py_super_names[-1]   # last element of py_super_names"
   ]
  },
  {
   "attachments": {},
   "cell_type": "markdown",
   "id": "904a02a0",
   "metadata": {},
   "source": [
    "## 1.3 Accessing data from a dictionary"
   ]
  },
  {
   "cell_type": "code",
   "execution_count": 15,
   "id": "af7d0fe8-7dcd-4625-a5f8-eb5731a10a56",
   "metadata": {},
   "outputs": [],
   "source": [
    "superhero_info = {                                # The dictionary\n",
    "    \"Natasha Romanoff\": \"Black Widow\",\n",
    "    \"Tony Stark\": \"Iron Man\",\n",
    "    \"Stephen Strange\": \"Doctor Strange\"\n",
    "}                  "
   ]
  },
  {
   "cell_type": "code",
   "execution_count": 18,
   "id": "d2c17930-f2bd-4fe7-b0b4-5886b60f40d6",
   "metadata": {},
   "outputs": [
    {
     "data": {
      "text/plain": [
       "'Black Widow'"
      ]
     },
     "execution_count": 18,
     "metadata": {},
     "output_type": "execute_result"
    }
   ],
   "source": [
    "superhero_info[\"Natasha Romanoff\"]  #pass the key into the dictionary to access the value associated with it"
   ]
  },
  {
   "cell_type": "code",
   "execution_count": 20,
   "id": "5b0f349a-ef3f-43f5-950d-fbc2b025b69b",
   "metadata": {},
   "outputs": [
    {
     "data": {
      "text/plain": [
       "dict_keys(['Natasha Romanoff', 'Tony Stark', 'Stephen Strange'])"
      ]
     },
     "execution_count": 20,
     "metadata": {},
     "output_type": "execute_result"
    }
   ],
   "source": [
    "superhero_info.keys()  #to access all the keys of the dictionary"
   ]
  },
  {
   "cell_type": "code",
   "execution_count": 21,
   "id": "671145c8-f540-4f5a-b620-e2552cc5ab89",
   "metadata": {},
   "outputs": [
    {
     "data": {
      "text/plain": [
       "dict_values(['Black Widow', 'Iron Man', 'Doctor Strange'])"
      ]
     },
     "execution_count": 21,
     "metadata": {},
     "output_type": "execute_result"
    }
   ],
   "source": [
    "superhero_info.values() #to access all the values of the dictionary"
   ]
  },
  {
   "attachments": {},
   "cell_type": "markdown",
   "id": "773ccafc",
   "metadata": {},
   "source": [
    "## 1.4 Higher dimensional lists"
   ]
  },
  {
   "cell_type": "code",
   "execution_count": 4,
   "id": "0d2f6fc3-e001-4bd0-a553-f7a0b802e868",
   "metadata": {},
   "outputs": [],
   "source": [
    "py_superhero_info = [['Natasha Romanoff', 'Black Widow'],    #2D list!\n",
    "                     ['Tony Stark', 'Iron Man'],\n",
    "                     ['Stephen Strange', 'Doctor Strange']]\n"
   ]
  },
  {
   "attachments": {},
   "cell_type": "markdown",
   "id": "36432936",
   "metadata": {},
   "source": [
    "# 2 Lists vs. Arrays"
   ]
  },
  {
   "attachments": {},
   "cell_type": "markdown",
   "id": "52acde53",
   "metadata": {},
   "source": [
    "## 2.1 Size"
   ]
  },
  {
   "cell_type": "code",
   "execution_count": 26,
   "id": "73d06735-cf82-4c3c-af4a-2b457389b992",
   "metadata": {},
   "outputs": [],
   "source": [
    "py_list_2d = [[1, \"A\"], [2, \"B\"], [3, \"C\"], [4, \"D\"],\n",
    "              [5, \"E\"], [6, \"F\"], [7, \"G\"], [8, \"H\"],\n",
    "              [9, \"I\"], [10, \"J\"]]\n",
    "\n",
    "np_array_2d = np.array(py_list_2d)      # Reusing the Python list \n",
    "                                        # to create a NEW\n",
    "                                        # NumPy array"
   ]
  },
  {
   "cell_type": "code",
   "execution_count": null,
   "id": "da33d12d-0db7-42b3-a399-209be037ae41",
   "metadata": {},
   "outputs": [],
   "source": []
  },
  {
   "cell_type": "code",
   "execution_count": 30,
   "id": "e4162442-967c-4898-9e4a-b602ac4b7a7c",
   "metadata": {},
   "outputs": [
    {
     "data": {
      "text/plain": [
       "10"
      ]
     },
     "execution_count": 30,
     "metadata": {},
     "output_type": "execute_result"
    }
   ],
   "source": [
    "len(py_list_2d) "
   ]
  },
  {
   "cell_type": "code",
   "execution_count": 33,
   "id": "472fac87-e67d-4153-98eb-6382572ac617",
   "metadata": {},
   "outputs": [
    {
     "data": {
      "text/plain": [
       "10"
      ]
     },
     "execution_count": 33,
     "metadata": {},
     "output_type": "execute_result"
    }
   ],
   "source": [
    "len(np_array_2d)"
   ]
  },
  {
   "cell_type": "code",
   "execution_count": 34,
   "id": "5759f73a-1dbe-4de4-8915-f7433152c8a4",
   "metadata": {},
   "outputs": [
    {
     "data": {
      "text/plain": [
       "(10, 2)"
      ]
     },
     "execution_count": 34,
     "metadata": {},
     "output_type": "execute_result"
    }
   ],
   "source": [
    "np_array_2d.shape # the .shape part does not have brackets as .shape is an attribute of np_array_2d"
   ]
  },
  {
   "attachments": {},
   "cell_type": "markdown",
   "id": "fe84e714",
   "metadata": {},
   "source": [
    "## 2.2 Arrays are fussy about type"
   ]
  },
  {
   "cell_type": "markdown",
   "id": "c666bc44-fc9f-4ceb-b8fc-05db04c36aff",
   "metadata": {},
   "source": [
    "lists can accomodate different datatypes as elements in itself however arrays require that all its elements be of the same datatype"
   ]
  },
  {
   "cell_type": "code",
   "execution_count": 35,
   "id": "479cf147-a14c-4a71-bfc3-74c35de6f0ee",
   "metadata": {},
   "outputs": [],
   "source": [
    "py_list = [1, 1.5, 'A']\n",
    "np_array = np.array(py_list)"
   ]
  },
  {
   "cell_type": "code",
   "execution_count": 36,
   "id": "3665c2c8-44fa-4de9-a14d-1b965cbdc27c",
   "metadata": {},
   "outputs": [
    {
     "data": {
      "text/plain": [
       "array(['1', '1.5', 'A'], dtype='<U32')"
      ]
     },
     "execution_count": 36,
     "metadata": {},
     "output_type": "execute_result"
    }
   ],
   "source": [
    "py_list\n",
    "np_array"
   ]
  },
  {
   "cell_type": "markdown",
   "id": "4aede5d6-d8d9-4aa1-9b3d-74e41aece1dd",
   "metadata": {},
   "source": [
    "There is a workaround for datasets with different datatypes. For example one could use ```astypes()``` to cast all the data to be a single datatype"
   ]
  },
  {
   "attachments": {},
   "cell_type": "markdown",
   "id": "a134801c",
   "metadata": {},
   "source": [
    "## 2.3 Adding a number"
   ]
  },
  {
   "cell_type": "code",
   "execution_count": 37,
   "id": "9f208e27-f70c-459c-841b-4ab2d80eb426",
   "metadata": {},
   "outputs": [],
   "source": [
    "py_list = [1, 2, 3, 4, 5]\n",
    "np_array = np.array(py_list)         # Reusing the Python list\n",
    "                                     # to create a NEW\n",
    "                                     # NumPy array"
   ]
  },
  {
   "cell_type": "code",
   "execution_count": 38,
   "id": "03bf5ea0-ebef-4391-b2df-66f08f85215c",
   "metadata": {},
   "outputs": [
    {
     "data": {
      "text/plain": [
       "array([11, 12, 13, 14, 15])"
      ]
     },
     "execution_count": 38,
     "metadata": {},
     "output_type": "execute_result"
    }
   ],
   "source": [
    "np_array + 10 #adds to every element of the array"
   ]
  },
  {
   "cell_type": "code",
   "execution_count": 40,
   "id": "cfdd013c-a737-4d10-872a-9cde84096840",
   "metadata": {},
   "outputs": [
    {
     "ename": "TypeError",
     "evalue": "can only concatenate list (not \"int\") to list",
     "output_type": "error",
     "traceback": [
      "\u001b[1;31m---------------------------------------------------------------------------\u001b[0m",
      "\u001b[1;31mTypeError\u001b[0m                                 Traceback (most recent call last)",
      "Cell \u001b[1;32mIn[40], line 1\u001b[0m\n\u001b[1;32m----> 1\u001b[0m \u001b[43mpy_list\u001b[49m\u001b[43m \u001b[49m\u001b[38;5;241;43m+\u001b[39;49m\u001b[43m \u001b[49m\u001b[38;5;241;43m10\u001b[39;49m        \u001b[38;5;66;03m# returns an error as this does not work\u001b[39;00m\n",
      "\u001b[1;31mTypeError\u001b[0m: can only concatenate list (not \"int\") to list"
     ]
    }
   ],
   "source": [
    "py_list + 10        # returns an error as this does not work"
   ]
  },
  {
   "attachments": {},
   "cell_type": "markdown",
   "id": "cddd88ba",
   "metadata": {},
   "source": [
    "## 2.4 Adding another list"
   ]
  },
  {
   "cell_type": "code",
   "execution_count": 41,
   "id": "20277832-c5a2-4f29-a6db-499b3ca63517",
   "metadata": {},
   "outputs": [],
   "source": [
    "py_list_1 = [1, 2, 3, 4, 5]\n",
    "py_list_2 = [10, 20, 30, 40, 50]\n",
    "\n",
    "np_array_1 = np.array(py_list_1)\n",
    "np_array_2 = np.array(py_list_2)"
   ]
  },
  {
   "cell_type": "code",
   "execution_count": 43,
   "id": "8f308354-9928-4dc2-99fd-c6c49fb7fa86",
   "metadata": {},
   "outputs": [
    {
     "data": {
      "text/plain": [
       "[1, 2, 3, 4, 5, 10, 20, 30, 40, 50]"
      ]
     },
     "execution_count": 43,
     "metadata": {},
     "output_type": "execute_result"
    }
   ],
   "source": [
    "py_list_1 + py_list_2   #both lists will be concatenated together"
   ]
  },
  {
   "cell_type": "code",
   "execution_count": 45,
   "id": "ca7aacd3-830a-4bd0-b036-26dd6dbf0a81",
   "metadata": {},
   "outputs": [
    {
     "data": {
      "text/plain": [
       "array([11, 22, 33, 44, 55])"
      ]
     },
     "execution_count": 45,
     "metadata": {},
     "output_type": "execute_result"
    }
   ],
   "source": [
    "np_array_1 + np_array_2 #each element will be added to the element from the other array for numbers at the same index"
   ]
  },
  {
   "attachments": {},
   "cell_type": "markdown",
   "id": "8df843a5",
   "metadata": {},
   "source": [
    "## 2.5 Multiplying by a Number"
   ]
  },
  {
   "cell_type": "code",
   "execution_count": 46,
   "id": "984db0fb-7b16-4cf2-8a23-0c89eb4d0643",
   "metadata": {},
   "outputs": [],
   "source": [
    "py_list = [1, 2, 3, 4, 5]\n",
    "np_array = np.array(py_list)         "
   ]
  },
  {
   "cell_type": "code",
   "execution_count": 48,
   "id": "11a49656-b5a2-41e7-b5bf-ac08bc8ac290",
   "metadata": {},
   "outputs": [
    {
     "data": {
      "text/plain": [
       "[1, 2, 3, 4, 5, 1, 2, 3, 4, 5]"
      ]
     },
     "execution_count": 48,
     "metadata": {},
     "output_type": "execute_result"
    }
   ],
   "source": [
    "py_list*2  # the same list is concatenated to itself "
   ]
  },
  {
   "cell_type": "code",
   "execution_count": 50,
   "id": "2e7b6dd1",
   "metadata": {},
   "outputs": [
    {
     "data": {
      "text/plain": [
       "array([ 2,  4,  6,  8, 10])"
      ]
     },
     "execution_count": 50,
     "metadata": {},
     "output_type": "execute_result"
    }
   ],
   "source": [
    "np_array*2 # the number is multiplied to each element of the array"
   ]
  },
  {
   "attachments": {},
   "cell_type": "markdown",
   "id": "9b8575b9",
   "metadata": {},
   "source": [
    "## 2.6 Squaring"
   ]
  },
  {
   "cell_type": "code",
   "execution_count": 51,
   "id": "e1bfddab-9379-4d06-b02f-3341e4706d3a",
   "metadata": {},
   "outputs": [],
   "source": [
    "py_list = [1, 2, 3, 4, 5]\n",
    "np_array = np.array(py_list)"
   ]
  },
  {
   "cell_type": "code",
   "execution_count": 52,
   "id": "15b1a7ef-1f7c-4007-b1db-fb82a6a05337",
   "metadata": {},
   "outputs": [
    {
     "data": {
      "text/plain": [
       "array([ 1,  4,  9, 16, 25])"
      ]
     },
     "execution_count": 52,
     "metadata": {},
     "output_type": "execute_result"
    }
   ],
   "source": [
    "np_array**2                     #each element of the array is squared"
   ]
  },
  {
   "cell_type": "code",
   "execution_count": 53,
   "id": "cbfab7ca-d1b8-4550-8553-2af224b3433a",
   "metadata": {},
   "outputs": [
    {
     "ename": "TypeError",
     "evalue": "unsupported operand type(s) for ** or pow(): 'list' and 'int'",
     "output_type": "error",
     "traceback": [
      "\u001b[1;31m---------------------------------------------------------------------------\u001b[0m",
      "\u001b[1;31mTypeError\u001b[0m                                 Traceback (most recent call last)",
      "Cell \u001b[1;32mIn[53], line 1\u001b[0m\n\u001b[1;32m----> 1\u001b[0m \u001b[43mpy_list\u001b[49m\u001b[38;5;241;43m*\u001b[39;49m\u001b[38;5;241;43m*\u001b[39;49m\u001b[38;5;241;43m2\u001b[39;49m                      \u001b[38;5;66;03m# Won't work!  \u001b[39;00m\n",
      "\u001b[1;31mTypeError\u001b[0m: unsupported operand type(s) for ** or pow(): 'list' and 'int'"
     ]
    }
   ],
   "source": [
    "py_list**2                      # doesnt work"
   ]
  },
  {
   "attachments": {},
   "cell_type": "markdown",
   "id": "2f326e4f",
   "metadata": {},
   "source": [
    "## 2.7 Asking questions"
   ]
  },
  {
   "cell_type": "code",
   "execution_count": 54,
   "id": "af4ffff3-124c-41c9-9edf-630d5938969f",
   "metadata": {},
   "outputs": [],
   "source": [
    "py_list = [1, 2, 3, 4, 5]\n",
    "np_array = np.array(py_list)         "
   ]
  },
  {
   "cell_type": "code",
   "execution_count": 55,
   "id": "4f377c84-bfdb-4a6b-80a3-a239a4a09316",
   "metadata": {},
   "outputs": [
    {
     "data": {
      "text/plain": [
       "False"
      ]
     },
     "execution_count": 55,
     "metadata": {},
     "output_type": "execute_result"
    }
   ],
   "source": [
    "py_list == 3     #it is comparing the datatypes of 3 and the list. Since they are both different so it returns False"
   ]
  },
  {
   "cell_type": "code",
   "execution_count": 60,
   "id": "16888493-a922-477d-9e6f-9b286f533cf7",
   "metadata": {},
   "outputs": [
    {
     "ename": "TypeError",
     "evalue": "'>' not supported between instances of 'list' and 'int'",
     "output_type": "error",
     "traceback": [
      "\u001b[1;31m---------------------------------------------------------------------------\u001b[0m",
      "\u001b[1;31mTypeError\u001b[0m                                 Traceback (most recent call last)",
      "Cell \u001b[1;32mIn[60], line 1\u001b[0m\n\u001b[1;32m----> 1\u001b[0m \u001b[43mpy_list\u001b[49m\u001b[43m \u001b[49m\u001b[38;5;241;43m>\u001b[39;49m\u001b[43m \u001b[49m\u001b[38;5;241;43m3\u001b[39;49m      \u001b[38;5;66;03m# Won't work!\u001b[39;00m\n",
      "\u001b[1;31mTypeError\u001b[0m: '>' not supported between instances of 'list' and 'int'"
     ]
    }
   ],
   "source": [
    "py_list > 3      # Just doesnt make sense"
   ]
  },
  {
   "cell_type": "code",
   "execution_count": 58,
   "id": "0dc5ad88-e9c5-416a-bb96-db793c0fad2d",
   "metadata": {},
   "outputs": [
    {
     "data": {
      "text/plain": [
       "array([False, False,  True, False, False])"
      ]
     },
     "execution_count": 58,
     "metadata": {},
     "output_type": "execute_result"
    }
   ],
   "source": [
    "np_array == 3  #it is checkig if every element is equal to 3"
   ]
  },
  {
   "cell_type": "code",
   "execution_count": 59,
   "id": "008fba42-7aa8-4092-9fb0-6dc16ad9ddc3",
   "metadata": {},
   "outputs": [
    {
     "data": {
      "text/plain": [
       "array([False, False, False,  True,  True])"
      ]
     },
     "execution_count": 59,
     "metadata": {},
     "output_type": "execute_result"
    }
   ],
   "source": [
    "np_array > 3  #it is checking if every element is greater than 3"
   ]
  },
  {
   "attachments": {},
   "cell_type": "markdown",
   "id": "e489d8d0",
   "metadata": {},
   "source": [
    "## 2.8 Mathematics"
   ]
  },
  {
   "cell_type": "markdown",
   "id": "3fdcfbc0-ed25-4cac-8814-a04569e539e2",
   "metadata": {},
   "source": [
    "Examples of mathematics that can be applied to lsits/arrays"
   ]
  },
  {
   "cell_type": "code",
   "execution_count": 61,
   "id": "7496c1d3-4170-4064-965f-2396f14b7179",
   "metadata": {},
   "outputs": [],
   "source": [
    "py_list = [1, 2, 3, 4, 5]\n",
    "np_array = np.array(py_list)         "
   ]
  },
  {
   "cell_type": "code",
   "execution_count": 62,
   "id": "f3dacf42-1cc9-464b-a2f1-5b39b282d439",
   "metadata": {},
   "outputs": [
    {
     "data": {
      "text/plain": [
       "15"
      ]
     },
     "execution_count": 62,
     "metadata": {},
     "output_type": "execute_result"
    }
   ],
   "source": [
    "sum(py_list)     # sum() is a base Python function\n"
   ]
  },
  {
   "cell_type": "code",
   "execution_count": 63,
   "id": "39690381-d918-49d5-a197-3b4913bdfe5d",
   "metadata": {},
   "outputs": [
    {
     "data": {
      "text/plain": [
       "5"
      ]
     },
     "execution_count": 63,
     "metadata": {},
     "output_type": "execute_result"
    }
   ],
   "source": [
    "max(py_list)     # max() is a base Python function\n"
   ]
  },
  {
   "cell_type": "code",
   "execution_count": 64,
   "id": "cb6bb577-4a6d-4551-8eb2-3239972d21b8",
   "metadata": {},
   "outputs": [
    {
     "data": {
      "text/plain": [
       "1"
      ]
     },
     "execution_count": 64,
     "metadata": {},
     "output_type": "execute_result"
    }
   ],
   "source": [
    "min(py_list)     # min() is a base Python function\n"
   ]
  },
  {
   "cell_type": "code",
   "execution_count": 65,
   "id": "a2fc267e-8a47-40d5-9171-505538f74739",
   "metadata": {},
   "outputs": [
    {
     "data": {
      "text/plain": [
       "15"
      ]
     },
     "execution_count": 65,
     "metadata": {},
     "output_type": "execute_result"
    }
   ],
   "source": [
    "np_array.sum()\n"
   ]
  },
  {
   "cell_type": "code",
   "execution_count": 66,
   "id": "5a203756-9e96-4fd4-bbbc-2af0df018b09",
   "metadata": {},
   "outputs": [
    {
     "data": {
      "text/plain": [
       "5"
      ]
     },
     "execution_count": 66,
     "metadata": {},
     "output_type": "execute_result"
    }
   ],
   "source": [
    "np_array.max()\n"
   ]
  },
  {
   "cell_type": "code",
   "execution_count": 67,
   "id": "1375fd0e-ff40-4478-bab1-3d750cfe7786",
   "metadata": {},
   "outputs": [
    {
     "data": {
      "text/plain": [
       "1"
      ]
     },
     "execution_count": 67,
     "metadata": {},
     "output_type": "execute_result"
    }
   ],
   "source": [
    "np_array.min()\n"
   ]
  },
  {
   "cell_type": "code",
   "execution_count": 68,
   "id": "a0f5083f-61a1-4728-8f9f-4175d08af239",
   "metadata": {},
   "outputs": [
    {
     "data": {
      "text/plain": [
       "3.0"
      ]
     },
     "execution_count": 68,
     "metadata": {},
     "output_type": "execute_result"
    }
   ],
   "source": [
    "np_array.mean()\n"
   ]
  },
  {
   "cell_type": "code",
   "execution_count": 69,
   "id": "7ba0cf9d-f8b1-4dad-98a3-e936c9d9dabf",
   "metadata": {},
   "outputs": [
    {
     "data": {
      "text/plain": [
       "1.4142135623730951"
      ]
     },
     "execution_count": 69,
     "metadata": {},
     "output_type": "execute_result"
    }
   ],
   "source": [
    "np_array.std()"
   ]
  },
  {
   "cell_type": "code",
   "execution_count": 70,
   "id": "baa95024-a5f0-4db7-a5c9-591244d838b1",
   "metadata": {},
   "outputs": [
    {
     "ename": "AttributeError",
     "evalue": "'list' object has no attribute 'sum'",
     "output_type": "error",
     "traceback": [
      "\u001b[1;31m---------------------------------------------------------------------------\u001b[0m",
      "\u001b[1;31mAttributeError\u001b[0m                            Traceback (most recent call last)",
      "Cell \u001b[1;32mIn[70], line 1\u001b[0m\n\u001b[1;32m----> 1\u001b[0m \u001b[43mpy_list\u001b[49m\u001b[38;5;241;43m.\u001b[39;49m\u001b[43msum\u001b[49m()   \u001b[38;5;66;03m# Won't work!\u001b[39;00m\n",
      "\u001b[1;31mAttributeError\u001b[0m: 'list' object has no attribute 'sum'"
     ]
    }
   ],
   "source": [
    "py_list.sum()   # Won't work!"
   ]
  },
  {
   "cell_type": "markdown",
   "id": "4c75af2b-32f5-46a6-85d7-c0443bb0cadb",
   "metadata": {},
   "source": [
    "As a rough guide, operations on a list work on a whole list while operations on arrays work on individual elements"
   ]
  }
 ],
 "metadata": {
  "kernelspec": {
   "display_name": "Python 3 (ipykernel)",
   "language": "python",
   "name": "python3"
  },
  "language_info": {
   "codemirror_mode": {
    "name": "ipython",
    "version": 3
   },
   "file_extension": ".py",
   "mimetype": "text/x-python",
   "name": "python",
   "nbconvert_exporter": "python",
   "pygments_lexer": "ipython3",
   "version": "3.11.5"
  },
  "toc": {
   "base_numbering": 1,
   "nav_menu": {},
   "number_sections": true,
   "sideBar": true,
   "skip_h1_title": false,
   "title_cell": "Table of Contents",
   "title_sidebar": "Contents",
   "toc_cell": false,
   "toc_position": {},
   "toc_section_display": true,
   "toc_window_display": false
  },
  "vscode": {
   "interpreter": {
    "hash": "31f2aee4e71d21fbe5cf8b01ff0e069b9275f58929596ceb00d14d90e3e16cd6"
   }
  }
 },
 "nbformat": 4,
 "nbformat_minor": 5
}
