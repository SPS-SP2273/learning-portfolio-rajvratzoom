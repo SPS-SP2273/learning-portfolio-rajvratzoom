{
 "cells": [
  {
   "attachments": {},
   "cell_type": "markdown",
   "id": "123456",
   "metadata": {},
   "source": [
    "<div style=\"text-align:left;font-size:2em\"><span style=\"font-weight:bolder;font-size:1.25em\">SP2273 | Learning Portfolio</span><br><br><span style=\"font-weight:bold;color:darkred\">Functions (Need) Exercises</span></div>"
   ]
  },
  {
   "cell_type": "markdown",
   "id": "a825d0c1-8ca9-49a4-8797-b262e0aea5e2",
   "metadata": {},
   "source": [
    "# Exercise 1"
   ]
  },
  {
   "cell_type": "code",
   "execution_count": 1,
   "id": "427ad58c-1e2b-4958-9e80-937c175712fd",
   "metadata": {},
   "outputs": [],
   "source": [
    "def greeting(name):\n",
    "    if name == 'Batman':\n",
    "        return 'Hello Batman! So, nice to meet you!'\n",
    "    return f'Hello {name}!'"
   ]
  },
  {
   "cell_type": "markdown",
   "id": "8062a2b1-543c-4208-a421-72b7607a4e79",
   "metadata": {},
   "source": [
    "This function still works because of the ```return``` statements. When the condition in the if statement is True, the function will return the string ```'Hello Batman! So, nice to meet you!'``` and break out from the function. That means the rest of the function does not run. However, if the ```if``` condition is not true, then the ```if``` code block is skipped and the ```return f'Hello {name}!'``` is run instead, returning its string. This acts something like an else statement"
   ]
  },
  {
   "cell_type": "code",
   "execution_count": 27,
   "id": "5a8679ac-0b6c-4458-87e4-3df5dab9630a",
   "metadata": {},
   "outputs": [],
   "source": [
    "def calculate_bmi(weight,height):\n",
    "    BMI = weight / (height ** 2)\n",
    "    if BMI<18.5:\n",
    "        return \"Underweight\"\n",
    "    \n",
    "    elif BMI<24.9:\n",
    "        return \"Normal weight\"\n",
    "    \n",
    "    elif BMI<29.9:\n",
    "        return \"Overweight\"\n",
    "        \n",
    "    else:\n",
    "        return \"Obesity\""
   ]
  },
  {
   "cell_type": "code",
   "execution_count": 22,
   "id": "540f4b8e-6a41-4a7f-9e51-953e52f70e39",
   "metadata": {},
   "outputs": [
    {
     "name": "stdout",
     "output_type": "stream",
     "text": [
      "24.93\n"
     ]
    },
    {
     "data": {
      "text/plain": [
       "'Overweight'"
      ]
     },
     "execution_count": 22,
     "metadata": {},
     "output_type": "execute_result"
    }
   ],
   "source": [
    "calculate_bmi(99.72,2)"
   ]
  },
  {
   "cell_type": "code",
   "execution_count": 23,
   "id": "6a65bc2d-110b-41d1-b143-d9717aa7b996",
   "metadata": {},
   "outputs": [
    {
     "name": "stdout",
     "output_type": "stream",
     "text": [
      "15.0\n"
     ]
    },
    {
     "data": {
      "text/plain": [
       "'Underweight'"
      ]
     },
     "execution_count": 23,
     "metadata": {},
     "output_type": "execute_result"
    }
   ],
   "source": [
    "calculate_bmi(60,2)"
   ]
  },
  {
   "cell_type": "code",
   "execution_count": 24,
   "id": "dff46ef7-5ba0-4022-b0e7-ccff07db7f3e",
   "metadata": {},
   "outputs": [
    {
     "name": "stdout",
     "output_type": "stream",
     "text": [
      "18.51851851851852\n"
     ]
    },
    {
     "data": {
      "text/plain": [
       "'Normal weight'"
      ]
     },
     "execution_count": 24,
     "metadata": {},
     "output_type": "execute_result"
    }
   ],
   "source": [
    "calculate_bmi(60,1.8)"
   ]
  },
  {
   "cell_type": "code",
   "execution_count": 25,
   "id": "08bcf9d4-b2f3-4369-9348-4d16c93c0181",
   "metadata": {},
   "outputs": [
    {
     "name": "stdout",
     "output_type": "stream",
     "text": [
      "26.666666666666668\n"
     ]
    },
    {
     "data": {
      "text/plain": [
       "'Overweight'"
      ]
     },
     "execution_count": 25,
     "metadata": {},
     "output_type": "execute_result"
    }
   ],
   "source": [
    "calculate_bmi(60,1.5)"
   ]
  },
  {
   "cell_type": "code",
   "execution_count": 26,
   "id": "48455bc5-f6c9-4025-b241-a9c116bd5b7e",
   "metadata": {},
   "outputs": [
    {
     "name": "stdout",
     "output_type": "stream",
     "text": [
      "60.0\n"
     ]
    },
    {
     "data": {
      "text/plain": [
       "'Obesity'"
      ]
     },
     "execution_count": 26,
     "metadata": {},
     "output_type": "execute_result"
    }
   ],
   "source": [
    "calculate_bmi(60,1)"
   ]
  }
 ],
 "metadata": {
  "kernelspec": {
   "display_name": "Python 3 (ipykernel)",
   "language": "python",
   "name": "python3"
  },
  "language_info": {
   "codemirror_mode": {
    "name": "ipython",
    "version": 3
   },
   "file_extension": ".py",
   "mimetype": "text/x-python",
   "name": "python",
   "nbconvert_exporter": "python",
   "pygments_lexer": "ipython3",
   "version": "3.11.5"
  },
  "toc": {
   "base_numbering": 1,
   "nav_menu": {},
   "number_sections": true,
   "sideBar": true,
   "skip_h1_title": false,
   "title_cell": "Table of Contents",
   "title_sidebar": "Contents",
   "toc_cell": false,
   "toc_position": {},
   "toc_section_display": true,
   "toc_window_display": false
  },
  "vscode": {
   "interpreter": {
    "hash": "31f2aee4e71d21fbe5cf8b01ff0e069b9275f58929596ceb00d14d90e3e16cd6"
   }
  }
 },
 "nbformat": 4,
 "nbformat_minor": 5
}
