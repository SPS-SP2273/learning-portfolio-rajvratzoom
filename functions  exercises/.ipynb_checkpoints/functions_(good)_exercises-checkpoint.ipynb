{
 "cells": [
  {
   "attachments": {},
   "cell_type": "markdown",
   "id": "123456",
   "metadata": {},
   "source": [
    "<div style=\"text-align:left;font-size:2em\"><span style=\"font-weight:bolder;font-size:1.25em\">SP2273 | Learning Portfolio</span><br><br><span style=\"font-weight:bold;color:darkred\">Functions (Good) Exercises</span></div>"
   ]
  },
  {
   "cell_type": "markdown",
   "id": "299349a5-85a7-4309-acfb-065ed9d417fe",
   "metadata": {},
   "source": [
    "# Exercise 1"
   ]
  },
  {
   "cell_type": "code",
   "execution_count": 67,
   "id": "f1c36f9d-a46e-4631-aba5-4b0e08392699",
   "metadata": {},
   "outputs": [],
   "source": [
    "def convert_celsius(temperature_celsius,target_scale = 'Fahrenheit'):\n",
    "    if target_scale == 'Kelvin':\n",
    "        K_temp = temperature_celsius + 273.15\n",
    "        return f\"{K_temp:.2f}K\"\n",
    "\n",
    "    if target_scale == 'Fahrenheit':\n",
    "        F_temp = (temperature_celsius*(9/5)) + 32\n",
    "        return f\"{F_temp:.2f}°F\""
   ]
  },
  {
   "cell_type": "code",
   "execution_count": 65,
   "id": "2bd82b29-ebf9-4e10-8701-3af23738f629",
   "metadata": {},
   "outputs": [
    {
     "data": {
      "text/plain": [
       "'293.15K'"
      ]
     },
     "execution_count": 65,
     "metadata": {},
     "output_type": "execute_result"
    }
   ],
   "source": [
    "convert_celsius(20,'Kelvin')"
   ]
  },
  {
   "cell_type": "code",
   "execution_count": 68,
   "id": "8e65a84c-507c-4684-b973-4484824e14de",
   "metadata": {},
   "outputs": [
    {
     "data": {
      "text/plain": [
       "'68.00°F'"
      ]
     },
     "execution_count": 68,
     "metadata": {},
     "output_type": "execute_result"
    }
   ],
   "source": [
    "convert_celsius(20,'Fahrenheit')"
   ]
  },
  {
   "cell_type": "code",
   "execution_count": 69,
   "id": "03ce5846-7aa8-4293-ba08-4bf14f1f067e",
   "metadata": {},
   "outputs": [
    {
     "data": {
      "text/plain": [
       "'68.00°F'"
      ]
     },
     "execution_count": 69,
     "metadata": {},
     "output_type": "execute_result"
    }
   ],
   "source": [
    "convert_celsius(20)"
   ]
  },
  {
   "cell_type": "markdown",
   "id": "68d7ee93-04a6-4da9-83ce-c6a25e52588f",
   "metadata": {},
   "source": [
    "# Exercise 2"
   ]
  },
  {
   "cell_type": "code",
   "execution_count": 57,
   "id": "04124147-3384-40c6-b7ab-83508443b241",
   "metadata": {},
   "outputs": [],
   "source": [
    "def convert_fahrenheit(temperature_fahrenheit,target_scale = 'Celsius'):\n",
    "    if target_scale == 'Kelvin':\n",
    "        K_temp = (temperature_fahrenheit - 32)*(5/9) + 273.15 \n",
    "        return f\"{K_temp:.2f}K\"\n",
    "\n",
    "    if target_scale == 'Celsius':\n",
    "        C_temp = (temperature_fahrenheit - 32)*(5/9)\n",
    "        return f\"{C_temp:.2f}°C\""
   ]
  },
  {
   "cell_type": "code",
   "execution_count": 58,
   "id": "012f1ad1-4320-412d-be9d-158cc0542325",
   "metadata": {},
   "outputs": [
    {
     "data": {
      "text/plain": [
       "'266.48K'"
      ]
     },
     "execution_count": 58,
     "metadata": {},
     "output_type": "execute_result"
    }
   ],
   "source": [
    "convert_fahrenheit(20,'Kelvin')"
   ]
  },
  {
   "cell_type": "code",
   "execution_count": 59,
   "id": "1a078568-e711-4618-a1ae-8338ceb38d4d",
   "metadata": {},
   "outputs": [
    {
     "data": {
      "text/plain": [
       "'-6.67°C'"
      ]
     },
     "execution_count": 59,
     "metadata": {},
     "output_type": "execute_result"
    }
   ],
   "source": [
    "convert_fahrenheit(20,'Celsius')"
   ]
  },
  {
   "cell_type": "code",
   "execution_count": 60,
   "id": "51e65c8a-b1a7-45da-84c7-6725b3ce25d6",
   "metadata": {},
   "outputs": [
    {
     "data": {
      "text/plain": [
       "'-6.67°C'"
      ]
     },
     "execution_count": 60,
     "metadata": {},
     "output_type": "execute_result"
    }
   ],
   "source": [
    "convert_fahrenheit(20)"
   ]
  },
  {
   "cell_type": "markdown",
   "id": "3f29187e-0803-48df-ac14-40c00a983e0b",
   "metadata": {},
   "source": [
    "# Exercise 3"
   ]
  },
  {
   "cell_type": "code",
   "execution_count": 78,
   "id": "8b813880-aa91-450d-b7cc-179618db2eb0",
   "metadata": {},
   "outputs": [],
   "source": [
    "def convert_temperature(temperature,source_scale,target_scale):\n",
    "    if source_scale == \"Celsius\":\n",
    "        if target_scale == \"Fahrenheit\":\n",
    "            return convert_celsius(temperature,\"Fahrenheit\")\n",
    "        elif target_scale == \"Kelvin\":\n",
    "            return convert_celsius(temperature,\"Kelvin\")\n",
    "        \n",
    "    elif source_scale == \"Fahrenheit\":\n",
    "        if target_scale == \"Kelvin\":\n",
    "            return convert_fahrenheit(temperature,\"Kelvin\")\n",
    "        elif target_scale == \"Celsius\":\n",
    "            return convert_fahrenheit(temperature,\"Celsius\")\n",
    "\n",
    "    elif source_scale == \"Kelvin\":\n",
    "        if target_scale == \"Celsius\":\n",
    "            res = temperature - 273.15\n",
    "            return f\"{res:.2f}°C\"\n",
    "        elif target_scale == \"Fahrenheit\":\n",
    "            res = (temperature - 273.15)*(9/5) + 32 \n",
    "            return f\"{res:.2f}°F\"\n",
    "\n"
   ]
  },
  {
   "cell_type": "code",
   "execution_count": 80,
   "id": "517635a7-78b0-4bc3-a714-ee5c80d44eaf",
   "metadata": {},
   "outputs": [
    {
     "name": "stdout",
     "output_type": "stream",
     "text": [
      "68.00°F\n",
      "293.15K\n",
      "-6.67°C\n",
      "266.48K\n",
      "-253.15°C\n",
      "-423.67°F\n"
     ]
    }
   ],
   "source": [
    "#checking\n",
    "source = [\"Celsius\",\"Fahrenheit\",\"Kelvin\"]\n",
    "\n",
    "for i in source:\n",
    "    filtered_list = [x for x in source if x != i]\n",
    "    for j in filtered_list:\n",
    "        print(convert_temperature(20,i,j))\n",
    "        "
   ]
  },
  {
   "cell_type": "code",
   "execution_count": null,
   "id": "6d601575-aa0f-45d8-8c31-4bba2ae8cc71",
   "metadata": {},
   "outputs": [],
   "source": []
  }
 ],
 "metadata": {
  "kernelspec": {
   "display_name": "Python 3 (ipykernel)",
   "language": "python",
   "name": "python3"
  },
  "language_info": {
   "codemirror_mode": {
    "name": "ipython",
    "version": 3
   },
   "file_extension": ".py",
   "mimetype": "text/x-python",
   "name": "python",
   "nbconvert_exporter": "python",
   "pygments_lexer": "ipython3",
   "version": "3.11.5"
  },
  "toc": {
   "base_numbering": 1,
   "nav_menu": {},
   "number_sections": true,
   "sideBar": true,
   "skip_h1_title": false,
   "title_cell": "Table of Contents",
   "title_sidebar": "Contents",
   "toc_cell": false,
   "toc_position": {},
   "toc_section_display": true,
   "toc_window_display": false
  },
  "vscode": {
   "interpreter": {
    "hash": "31f2aee4e71d21fbe5cf8b01ff0e069b9275f58929596ceb00d14d90e3e16cd6"
   }
  }
 },
 "nbformat": 4,
 "nbformat_minor": 5
}
