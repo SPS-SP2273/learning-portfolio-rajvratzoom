{
 "cells": [
  {
   "attachments": {},
   "cell_type": "markdown",
   "id": "123456",
   "metadata": {},
   "source": [
    "<div style=\"text-align:left;font-size:2em\"><span style=\"font-weight:bolder;font-size:1.25em\">SP2273 | Learning Portfolio</span><br><br><span style=\"font-weight:bold;color:darkred\">Loops (Good) Exercises</span></div>"
   ]
  },
  {
   "cell_type": "markdown",
   "id": "1746ca2f-d3b1-46cb-9452-cd638723599b",
   "metadata": {},
   "source": [
    "# Exercise 1"
   ]
  },
  {
   "cell_type": "code",
   "execution_count": 7,
   "id": "433fb92d-f569-4770-803b-7de5f0b0f530",
   "metadata": {},
   "outputs": [
    {
     "name": "stdout",
     "output_type": "stream",
     "text": [
      "[1, 9, 25, 49, 81]\n"
     ]
    }
   ],
   "source": [
    "res = []\n",
    "for number in range(10):\n",
    "    if number%2 == 0:\n",
    "        continue\n",
    "    res.append(number**2)\n",
    "print(res)"
   ]
  },
  {
   "cell_type": "markdown",
   "id": "86921403-6104-4cda-8065-9e552648c432",
   "metadata": {},
   "source": [
    "# Exercise 2"
   ]
  },
  {
   "cell_type": "code",
   "execution_count": 8,
   "id": "a9d509cf-15d7-43ab-8bbf-c37288fb939b",
   "metadata": {},
   "outputs": [
    {
     "data": {
      "text/plain": [
       "[1, 9, 25, 49, 81]"
      ]
     },
     "execution_count": 8,
     "metadata": {},
     "output_type": "execute_result"
    }
   ],
   "source": [
    "[number**2 for number in range(0,10) if number%2 != 0]"
   ]
  },
  {
   "cell_type": "markdown",
   "id": "66c079bc-6720-44e1-aed6-3b7cb91601df",
   "metadata": {},
   "source": [
    "# Exercise 3"
   ]
  },
  {
   "cell_type": "code",
   "execution_count": 9,
   "id": "833622c5-3196-4227-9adb-550fb994a810",
   "metadata": {},
   "outputs": [
    {
     "name": "stdout",
     "output_type": "stream",
     "text": [
      "1.7 µs ± 164 ns per loop (mean ± std. dev. of 7 runs, 1,000,000 loops each)\n"
     ]
    }
   ],
   "source": [
    "%%timeit\n",
    "res = []\n",
    "for number in range(10):\n",
    "    if number%2 == 0:\n",
    "        continue\n",
    "    res.append(number**2)"
   ]
  },
  {
   "cell_type": "code",
   "execution_count": 8,
   "id": "e76bff01-11b6-4aac-a30b-464a71af2e1d",
   "metadata": {},
   "outputs": [
    {
     "name": "stdout",
     "output_type": "stream",
     "text": [
      "1.69 µs ± 261 ns per loop (mean ± std. dev. of 7 runs, 1,000,000 loops each)\n"
     ]
    }
   ],
   "source": [
    "%%timeit\n",
    "[number**2 for number in range(0,10) if number%2 != 0]"
   ]
  },
  {
   "cell_type": "markdown",
   "id": "a0be52cc-74b0-4ff0-a62b-f917310f165a",
   "metadata": {},
   "source": [
    "1.7 microseconds for the loop and 1.69 microseconds for the list comprehension method. Thefore list comprehension is faster"
   ]
  },
  {
   "cell_type": "markdown",
   "id": "72e81d87-1cc3-4d23-ba3f-053ce485eb1f",
   "metadata": {},
   "source": [
    "# Exercise 4"
   ]
  },
  {
   "cell_type": "code",
   "execution_count": 13,
   "id": "e65eab3c-8d10-4c1b-8440-cd82bd9a6e8f",
   "metadata": {},
   "outputs": [
    {
     "name": "stdout",
     "output_type": "stream",
     "text": [
      "it will take 14 years\n"
     ]
    }
   ],
   "source": [
    "initial = 100\n",
    "years = 0\n",
    "\n",
    "while initial > 50:\n",
    "    initial = initial*0.95\n",
    "    years +=1\n",
    "\n",
    "print(f\"it will take {years} years\")"
   ]
  },
  {
   "cell_type": "markdown",
   "id": "616b059d-4fe6-4a65-9ad1-50659231c9fb",
   "metadata": {},
   "source": [
    "# Exercise 5"
   ]
  },
  {
   "cell_type": "code",
   "execution_count": 3,
   "id": "1f7ac5b9-0d46-46bc-9b92-e1ec93bd8a0a",
   "metadata": {},
   "outputs": [],
   "source": [
    "co2_data = [\n",
    "    (2000, 369.55), (2001, 371.14), (2002, 373.28), \n",
    "    (2003, 375.80), (2004, 377.52), (2005, 379.80), \n",
    "    (2006, 381.90), (2007, 383.79), (2008, 385.60), \n",
    "    (2009, 387.43), (2010, 389.90), (2011, 391.65), \n",
    "    (2012, 393.85), (2013, 396.52), (2014, 398.65),\n",
    "    (2015, 400.83), (2016, 404.24), (2017, 406.55), \n",
    "    (2018, 408.52), (2019, 411.44), (2020, 414.24)\n",
    "]"
   ]
  },
  {
   "cell_type": "code",
   "execution_count": 6,
   "id": "9e131235-dfa8-4836-8ffd-53b3cc5b77d9",
   "metadata": {},
   "outputs": [
    {
     "name": "stdout",
     "output_type": "stream",
     "text": [
      "2015 to 2016 : 3.41ppm\n"
     ]
    }
   ],
   "source": [
    "for idx in range(len(co2_data)-1):\n",
    "    y1_data = co2_data[idx]\n",
    "    y2_data = co2_data[idx+1]\n",
    "    conc_change = y2_data[1] - y1_data[1]\n",
    "    if conc_change>3:\n",
    "        string = f'{y1_data[0]} to {y2_data[0]} : {conc_change:.2f}ppm'\n",
    "        print(string)"
   ]
  }
 ],
 "metadata": {
  "kernelspec": {
   "display_name": "Python 3 (ipykernel)",
   "language": "python",
   "name": "python3"
  },
  "language_info": {
   "codemirror_mode": {
    "name": "ipython",
    "version": 3
   },
   "file_extension": ".py",
   "mimetype": "text/x-python",
   "name": "python",
   "nbconvert_exporter": "python",
   "pygments_lexer": "ipython3",
   "version": "3.11.5"
  },
  "toc": {
   "base_numbering": 1,
   "nav_menu": {},
   "number_sections": true,
   "sideBar": true,
   "skip_h1_title": false,
   "title_cell": "Table of Contents",
   "title_sidebar": "Contents",
   "toc_cell": false,
   "toc_position": {},
   "toc_section_display": true,
   "toc_window_display": false
  },
  "vscode": {
   "interpreter": {
    "hash": "31f2aee4e71d21fbe5cf8b01ff0e069b9275f58929596ceb00d14d90e3e16cd6"
   }
  }
 },
 "nbformat": 4,
 "nbformat_minor": 5
}
