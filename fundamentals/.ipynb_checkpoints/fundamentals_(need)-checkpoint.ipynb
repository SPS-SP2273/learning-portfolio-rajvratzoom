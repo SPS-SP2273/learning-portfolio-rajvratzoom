{
 "cells": [
  {
   "attachments": {},
   "cell_type": "markdown",
   "id": "123456",
   "metadata": {},
   "source": [
    "<div style=\"text-align:left;font-size:2em\"><span style=\"font-weight:bolder;font-size:1.25em\">SP2273 | Learning Portfolio</span><br><br><span style=\"font-weight:bold;color:darkred\">Fundamentals (Need)</span></div>"
   ]
  },
  {
   "attachments": {},
   "cell_type": "markdown",
   "id": "3e7915ed",
   "metadata": {},
   "source": [
    "# What to expect in this chapter"
   ]
  },
  {
   "attachments": {},
   "cell_type": "markdown",
   "id": "de318c5a",
   "metadata": {},
   "source": [
    "# Functions"
   ]
  },
  {
   "cell_type": "markdown",
   "id": "49dcd023-46e3-42b1-be45-1487a65976b1",
   "metadata": {},
   "source": [
    "## Print() as a function"
   ]
  },
  {
   "cell_type": "code",
   "execution_count": 2,
   "id": "004891fb-e628-479b-b332-8500ff39d2e4",
   "metadata": {},
   "outputs": [
    {
     "name": "stdout",
     "output_type": "stream",
     "text": [
      "hello world\n"
     ]
    }
   ],
   "source": [
    "print('hello world')"
   ]
  },
  {
   "cell_type": "markdown",
   "id": "81c409bd-1c47-46c4-bde7-78d15884c32d",
   "metadata": {},
   "source": [
    "1. print() is an in-built function.\n",
    "2. 'hello world' is the arugment that is passed into the function"
   ]
  },
  {
   "attachments": {},
   "cell_type": "markdown",
   "id": "7e922abd",
   "metadata": {},
   "source": [
    "# Python is interpreted"
   ]
  },
  {
   "cell_type": "code",
   "execution_count": 3,
   "id": "7d2d5059-3726-4a03-9730-3fb0b4ce26ca",
   "metadata": {},
   "outputs": [
    {
     "name": "stdout",
     "output_type": "stream",
     "text": [
      "Hello World\n",
      "Hello World again\n"
     ]
    }
   ],
   "source": [
    "print('Hello World')\n",
    "print('Hello World again')"
   ]
  },
  {
   "cell_type": "markdown",
   "id": "199b5acd-1799-465a-a7c2-449e5c08ef7e",
   "metadata": {},
   "source": [
    "The python interpreter reads and executes the code sequentially, one line at a time. Since 'Hello World' was printed first, it will appear before 'Hello World again'."
   ]
  },
  {
   "cell_type": "markdown",
   "id": "4094989f-d822-4828-8618-4aa7e3222e3d",
   "metadata": {},
   "source": [
    "# Python is sensitive"
   ]
  },
  {
   "cell_type": "code",
   "execution_count": 5,
   "id": "68c628eb-05e1-4faf-af2a-7e1c0c13047d",
   "metadata": {},
   "outputs": [
    {
     "name": "stdout",
     "output_type": "stream",
     "text": [
      "hello world\n"
     ]
    }
   ],
   "source": [
    "print('hello world')"
   ]
  },
  {
   "cell_type": "code",
   "execution_count": 6,
   "id": "b8c8bc13-bfad-42c1-920f-bb948338a6ea",
   "metadata": {},
   "outputs": [
    {
     "ename": "NameError",
     "evalue": "name 'Print' is not defined",
     "output_type": "error",
     "traceback": [
      "\u001b[1;31m---------------------------------------------------------------------------\u001b[0m",
      "\u001b[1;31mNameError\u001b[0m                                 Traceback (most recent call last)",
      "Cell \u001b[1;32mIn[6], line 1\u001b[0m\n\u001b[1;32m----> 1\u001b[0m \u001b[43mPrint\u001b[49m(\u001b[38;5;124m'\u001b[39m\u001b[38;5;124mhello world\u001b[39m\u001b[38;5;124m'\u001b[39m)\n",
      "\u001b[1;31mNameError\u001b[0m: name 'Print' is not defined"
     ]
    }
   ],
   "source": [
    "Print('hello world')"
   ]
  },
  {
   "cell_type": "markdown",
   "id": "9c2479ab-f50d-4490-8b1f-bbb545e481dc",
   "metadata": {},
   "source": [
    "Python is case-sensitve, so print() will work but Print will not work. This is because only print with a non-capitalised 'p' is defined as an in-built function in python"
   ]
  },
  {
   "cell_type": "markdown",
   "id": "aa1fddca-e0cc-4d98-8020-950bc346e8c1",
   "metadata": {},
   "source": [
    "# Comments"
   ]
  },
  {
   "cell_type": "code",
   "execution_count": 9,
   "id": "8242fdcf-a889-4132-987e-9ff09eaada62",
   "metadata": {},
   "outputs": [
    {
     "name": "stdout",
     "output_type": "stream",
     "text": [
      "hello world\n"
     ]
    }
   ],
   "source": [
    "print('hello world')   #print('hello world')"
   ]
  },
  {
   "cell_type": "markdown",
   "id": "61845750-7a3d-4525-8325-23f653d59152",
   "metadata": {},
   "source": [
    "Comments are ignored by the interpreter as shown above and below. Above only 1 'hello world' was printed and below 'hello world' was not printed"
   ]
  },
  {
   "cell_type": "code",
   "execution_count": 10,
   "id": "373509eb-58f1-46d7-8ba4-8fe056d40260",
   "metadata": {},
   "outputs": [],
   "source": [
    "#print('hello world')"
   ]
  },
  {
   "cell_type": "code",
   "execution_count": 12,
   "id": "c58dc47f-0850-4864-9112-1c4b17083d21",
   "metadata": {},
   "outputs": [],
   "source": [
    "VAR_1 = 3 #VAR_1 refers to number of oranges"
   ]
  },
  {
   "cell_type": "markdown",
   "id": "20b22009-9226-44bb-b0d5-973f3e2e9b44",
   "metadata": {},
   "source": [
    "Comments are for humans to understand the code and for others to understand your own code. As shown above to simplify naming variables, one could for example assign the number of oranges in basket as VAR_1. The comment reminds us that VAR_1 refers to the number of oranges in the basket."
   ]
  },
  {
   "cell_type": "markdown",
   "id": "5c3e366d-cfc0-4c4b-8f2c-d653d74f51a8",
   "metadata": {},
   "source": [
    "# = is not the same as =="
   ]
  },
  {
   "cell_type": "markdown",
   "id": "8462e38b-8c34-42ba-8db2-7d9260c02a11",
   "metadata": {},
   "source": [
    "= is used to assign a variable to a value while == is used to check if something is equal to something else."
   ]
  },
  {
   "cell_type": "code",
   "execution_count": 16,
   "id": "86377c40-18ef-46d5-a501-60cd30ab10c4",
   "metadata": {},
   "outputs": [
    {
     "name": "stdout",
     "output_type": "stream",
     "text": [
      "6\n"
     ]
    }
   ],
   "source": [
    "X = 6 #setting vaue of X to 6\n",
    "print(X) #python remembers that X=6"
   ]
  },
  {
   "cell_type": "code",
   "execution_count": 20,
   "id": "7eca1e49-8379-4673-9842-68412450a5b5",
   "metadata": {},
   "outputs": [
    {
     "name": "stdout",
     "output_type": "stream",
     "text": [
      "False\n",
      "True\n"
     ]
    }
   ],
   "source": [
    "print(1 == 2) #python checks if 1 and 2 are equal. Since they are not equal python prints False\n",
    "print(1 == 1) #python checks if 1 and 1 are equal. Since they are equal, python prints True"
   ]
  },
  {
   "cell_type": "markdown",
   "id": "df9911c5-b262-4e81-9d5a-9a67a8b7e9cb",
   "metadata": {},
   "source": [
    "# Use if to make decisions"
   ]
  },
  {
   "cell_type": "code",
   "execution_count": 22,
   "id": "e49e31fa-be9f-4ed9-a3d2-000dcf5f7c67",
   "metadata": {},
   "outputs": [
    {
     "name": "stdout",
     "output_type": "stream",
     "text": [
      "Hello Batman!\n"
     ]
    }
   ],
   "source": [
    "name = 'Batman'\n",
    "\n",
    "if name == 'Batman':\n",
    "    print('Hello Batman!')\n",
    "else:\n",
    "    print('Hello World!')"
   ]
  },
  {
   "cell_type": "markdown",
   "id": "d4b64b37-18f5-4a30-aa6b-9fcb90ff0daf",
   "metadata": {},
   "source": [
    "if statemesnts will test if a condition is true or false before deciding to execute its code block. If an if statement is True, it will execute its codebloc, as shown above. However if the if statement is false, since there is an else statement, the interpreter will execute the code block in the else statement, which acts like a safety net to be executed when all the other code if conditions are False. An example of a condition not being met and the else statement being executed is shown below."
   ]
  },
  {
   "cell_type": "code",
   "execution_count": 23,
   "id": "99e1c346-d8c1-4d5e-9553-9764898c8ee5",
   "metadata": {},
   "outputs": [
    {
     "name": "stdout",
     "output_type": "stream",
     "text": [
      "Hello World!\n"
     ]
    }
   ],
   "source": [
    "name = 'Batman1'\n",
    "\n",
    "if name == 'Batman':\n",
    "    print('Hello Batman!')\n",
    "else:\n",
    "    print('Hello World!')"
   ]
  },
  {
   "cell_type": "markdown",
   "id": "4ab972ab-921a-456a-8793-3164446010d7",
   "metadata": {},
   "source": [
    "# Indentations (spaces) are sooo IMPORTANT!"
   ]
  },
  {
   "cell_type": "code",
   "execution_count": 24,
   "id": "fa5e4170-0b46-48e8-b11a-a07f7d09d173",
   "metadata": {},
   "outputs": [
    {
     "name": "stdout",
     "output_type": "stream",
     "text": [
      "10\n"
     ]
    }
   ],
   "source": [
    "x = 10\n",
    "print(x)"
   ]
  },
  {
   "cell_type": "code",
   "execution_count": 25,
   "id": "f0bb40da-2ec1-49a5-91a1-be147424fd99",
   "metadata": {},
   "outputs": [
    {
     "ename": "IndentationError",
     "evalue": "unexpected indent (1537435392.py, line 2)",
     "output_type": "error",
     "traceback": [
      "\u001b[1;36m  Cell \u001b[1;32mIn[25], line 2\u001b[1;36m\u001b[0m\n\u001b[1;33m    print(x)\u001b[0m\n\u001b[1;37m    ^\u001b[0m\n\u001b[1;31mIndentationError\u001b[0m\u001b[1;31m:\u001b[0m unexpected indent\n"
     ]
    }
   ],
   "source": [
    "x = 10\n",
    " print(x)"
   ]
  },
  {
   "cell_type": "markdown",
   "id": "b242dc39-1de6-4795-9605-bbdc5e3ce64c",
   "metadata": {},
   "source": [
    "make sure that spaces are not used indiscriminately as python will interpret indentations as a means of seperating code blocks."
   ]
  },
  {
   "cell_type": "markdown",
   "id": "c61b30aa-3fac-4a26-98f8-e7d89a582e1e",
   "metadata": {},
   "source": [
    "# ‘age’ is English, age is a variable."
   ]
  },
  {
   "cell_type": "markdown",
   "id": "3c41c481-a284-4b88-afb3-0ccbae97cc4b",
   "metadata": {},
   "source": [
    "variables contain information and should be given a name that best represents that value."
   ]
  },
  {
   "cell_type": "code",
   "execution_count": 27,
   "id": "ca260897-bb70-4d3f-b98e-aa604d54440c",
   "metadata": {},
   "outputs": [
    {
     "name": "stdout",
     "output_type": "stream",
     "text": [
      "age\n"
     ]
    },
    {
     "ename": "NameError",
     "evalue": "name 'age' is not defined",
     "output_type": "error",
     "traceback": [
      "\u001b[1;31m---------------------------------------------------------------------------\u001b[0m",
      "\u001b[1;31mNameError\u001b[0m                                 Traceback (most recent call last)",
      "Cell \u001b[1;32mIn[27], line 2\u001b[0m\n\u001b[0;32m      1\u001b[0m \u001b[38;5;28mprint\u001b[39m(\u001b[38;5;124m\"\u001b[39m\u001b[38;5;124mage\u001b[39m\u001b[38;5;124m\"\u001b[39m)     \u001b[38;5;66;03m# Print the English word 'age'\u001b[39;00m\n\u001b[1;32m----> 2\u001b[0m \u001b[38;5;28mprint\u001b[39m(\u001b[43mage\u001b[49m)       \u001b[38;5;66;03m# Print the value of the variable age\u001b[39;00m\n",
      "\u001b[1;31mNameError\u001b[0m: name 'age' is not defined"
     ]
    }
   ],
   "source": [
    "print(\"age\")     # Print the English word 'age'\n",
    "print(age)       # Print the value of the variable age"
   ]
  },
  {
   "cell_type": "markdown",
   "id": "17d6ac93-3872-4bfa-a013-bb2207201612",
   "metadata": {},
   "source": [
    "python can print 'age' as it is a string. However because age is a variable that has not been defined, python returns an error as\n",
    "the variable age has no value"
   ]
  },
  {
   "cell_type": "code",
   "execution_count": 30,
   "id": "43475b89-c843-4110-88c6-69edf0411dac",
   "metadata": {},
   "outputs": [
    {
     "name": "stdout",
     "output_type": "stream",
     "text": [
      "20\n"
     ]
    }
   ],
   "source": [
    "age = 20 #assigning age to be 20\n",
    "print(age) #age can finally be printed"
   ]
  },
  {
   "cell_type": "code",
   "execution_count": 38,
   "id": "ed0f7d05-1d8b-46c7-914e-0c14774c5c64",
   "metadata": {},
   "outputs": [
    {
     "name": "stdout",
     "output_type": "stream",
     "text": [
      "hello\n",
      "hello\n",
      "they're\n"
     ]
    }
   ],
   "source": [
    "print('hello')\n",
    "print(\"hello\")\n",
    "print(\"they're\") #if apostrophies are required within the string, use \"\" to encompass the string\n"
   ]
  },
  {
   "cell_type": "code",
   "execution_count": 34,
   "id": "e1cb91ea-13d1-4ddb-bd8a-d5c6def8203e",
   "metadata": {},
   "outputs": [
    {
     "ename": "SyntaxError",
     "evalue": "unterminated string literal (detected at line 1) (2736789527.py, line 1)",
     "output_type": "error",
     "traceback": [
      "\u001b[1;36m  Cell \u001b[1;32mIn[34], line 1\u001b[1;36m\u001b[0m\n\u001b[1;33m    print('hello\")\u001b[0m\n\u001b[1;37m          ^\u001b[0m\n\u001b[1;31mSyntaxError\u001b[0m\u001b[1;31m:\u001b[0m unterminated string literal (detected at line 1)\n"
     ]
    }
   ],
   "source": [
    "print('hello\")"
   ]
  },
  {
   "cell_type": "markdown",
   "id": "531d125c-5c8d-4d49-9841-3d3fa13f2c80",
   "metadata": {},
   "source": [
    "use either '' or \"\" to indicate strings, but do not mix! "
   ]
  },
  {
   "cell_type": "markdown",
   "id": "aab819f4-8ee5-4627-9810-ab42f2d1f152",
   "metadata": {},
   "source": [
    "# Brackets"
   ]
  },
  {
   "cell_type": "markdown",
   "id": "05e73263-8598-4657-b179-64b6202aa786",
   "metadata": {},
   "source": [
    "## () to call functions"
   ]
  },
  {
   "cell_type": "code",
   "execution_count": 40,
   "id": "89dc3690-f231-483b-80b2-288e730fc111",
   "metadata": {},
   "outputs": [
    {
     "name": "stdout",
     "output_type": "stream",
     "text": [
      "Hello!\n"
     ]
    }
   ],
   "source": [
    "print('Hello!')             # In functions"
   ]
  },
  {
   "cell_type": "markdown",
   "id": "b8870f9b-35cf-4a9e-b4a4-f44582206c5f",
   "metadata": {},
   "source": [
    "## () for mathematics"
   ]
  },
  {
   "cell_type": "code",
   "execution_count": 41,
   "id": "3434244d-cd7d-4352-a385-97c91d70bfd4",
   "metadata": {},
   "outputs": [
    {
     "data": {
      "text/plain": [
       "15"
      ]
     },
     "execution_count": 41,
     "metadata": {},
     "output_type": "execute_result"
    }
   ],
   "source": [
    "(1 + 2) * 5                 # For math"
   ]
  },
  {
   "cell_type": "markdown",
   "id": "87af2c22-00cb-40f3-9167-e7438c114320",
   "metadata": {},
   "source": [
    "## [] for lists"
   ]
  },
  {
   "cell_type": "code",
   "execution_count": 43,
   "id": "a7a9d699-9154-4d03-a47f-938e2ced7db6",
   "metadata": {},
   "outputs": [],
   "source": [
    "py_list = [1, 2, 3, 4, 5]   # A 1D list\n",
    "\n",
    "py_list_2 = [               # A 2D list\n",
    "                [1, \"A\"],      \n",
    "                [2, \"B\"],\n",
    "                [3, \"C\"],\n",
    "                [4, \"D\"],\n",
    "                [5, \"E\"]\n",
    "            ]"
   ]
  },
  {
   "cell_type": "markdown",
   "id": "3707f68b-20a1-4655-ace1-dc8ed3aba116",
   "metadata": {},
   "source": [
    "## {} for dictionaries"
   ]
  },
  {
   "cell_type": "code",
   "execution_count": 48,
   "id": "15749137-b57f-427c-8a9a-083fc35f722b",
   "metadata": {},
   "outputs": [
    {
     "name": "stdout",
     "output_type": "stream",
     "text": [
      "Bruce Wayne\n"
     ]
    }
   ],
   "source": [
    "personal_info = {\n",
    "    'Names': 'Batman',\n",
    "    'Real Name': 'Bruce Wayne',\n",
    "    'Age': 55,\n",
    "    'Affiliation': 'Justice League',\n",
    "    'Universe': 'DC'\n",
    "}\n",
    "\n",
    "print(personal_info['Real Name']) #'Real Name' is the key, personal_info is the dictionary"
   ]
  },
  {
   "cell_type": "markdown",
   "id": "dc39b736-0924-4ac6-a893-a91a33d5b749",
   "metadata": {},
   "source": [
    "Dictionaries use a key to access the value (Bruce Wayne)"
   ]
  },
  {
   "cell_type": "markdown",
   "id": "83a313f6-5334-4d1a-b869-eb39d286c6fc",
   "metadata": {},
   "source": [
    "# Giving Python superpowers with Packages"
   ]
  },
  {
   "cell_type": "markdown",
   "id": "f7fdaff0-017a-4912-8d0f-900be9611386",
   "metadata": {},
   "source": [
    "## Some context"
   ]
  },
  {
   "cell_type": "code",
   "execution_count": 51,
   "id": "ea93e1f3-17ab-4b67-a82d-56f685d8f0e0",
   "metadata": {},
   "outputs": [
    {
     "data": {
      "text/plain": [
       "40.5"
      ]
     },
     "execution_count": 51,
     "metadata": {},
     "output_type": "execute_result"
    }
   ],
   "source": [
    "1 * ((2 - 3) + 4) ** 5 / 6 # can be done by python without packages"
   ]
  },
  {
   "cell_type": "code",
   "execution_count": 52,
   "id": "483989a1-b234-4774-b836-fbc37f83da85",
   "metadata": {},
   "outputs": [
    {
     "ename": "NameError",
     "evalue": "name 'sqrt' is not defined",
     "output_type": "error",
     "traceback": [
      "\u001b[1;31m---------------------------------------------------------------------------\u001b[0m",
      "\u001b[1;31mNameError\u001b[0m                                 Traceback (most recent call last)",
      "Cell \u001b[1;32mIn[52], line 1\u001b[0m\n\u001b[1;32m----> 1\u001b[0m \u001b[43msqrt\u001b[49m(\u001b[38;5;241m4\u001b[39m)      \u001b[38;5;66;03m# Will NOT work because \u001b[39;00m\n\u001b[0;32m      2\u001b[0m              \u001b[38;5;66;03m# basic Python is limited\u001b[39;00m\n",
      "\u001b[1;31mNameError\u001b[0m: name 'sqrt' is not defined"
     ]
    }
   ],
   "source": [
    "sqrt(4)      # Will NOT work because \n",
    "             # basic Python is limited"
   ]
  },
  {
   "cell_type": "markdown",
   "id": "1e385ce5-4e42-46b0-b0ff-4b58786f777e",
   "metadata": {},
   "source": [
    "## Importing Math package"
   ]
  },
  {
   "cell_type": "code",
   "execution_count": 55,
   "id": "62da2332-c721-48b7-a19b-dfa945f6bc48",
   "metadata": {},
   "outputs": [
    {
     "data": {
      "text/plain": [
       "2.0"
      ]
     },
     "execution_count": 55,
     "metadata": {},
     "output_type": "execute_result"
    }
   ],
   "source": [
    "import math         # Adding(importing) the functions\n",
    "                    # of the 'math' package    \n",
    "math.sqrt(4)"
   ]
  },
  {
   "cell_type": "markdown",
   "id": "c9129965-d1b0-48f7-b18a-73921acc5ae0",
   "metadata": {},
   "source": [
    " ## Importing the numpy package"
   ]
  },
  {
   "cell_type": "code",
   "execution_count": 56,
   "id": "28386507-0aa2-4713-8e15-3a4c063f20c0",
   "metadata": {},
   "outputs": [],
   "source": [
    "import numpy as np    # Importing Numpy and giving \n",
    "                      # it an alias np \n",
    "                      # because I am lazy"
   ]
  },
  {
   "cell_type": "code",
   "execution_count": 57,
   "id": "8c167f3c-43f1-4838-aec6-7f771b4517ae",
   "metadata": {},
   "outputs": [
    {
     "data": {
      "text/plain": [
       "2.0"
      ]
     },
     "execution_count": 57,
     "metadata": {},
     "output_type": "execute_result"
    }
   ],
   "source": [
    "np.sqrt(4) #call numpy as np and numpy contains a square root function as well"
   ]
  },
  {
   "cell_type": "markdown",
   "id": "cc4abd3c-aa50-4a59-8c61-0b8d7db19281",
   "metadata": {},
   "source": [
    "## Why so many packages?"
   ]
  },
  {
   "cell_type": "code",
   "execution_count": 58,
   "id": "6c9fdbba-5210-4b6f-b9dd-d6d52c5774ec",
   "metadata": {},
   "outputs": [
    {
     "data": {
      "text/plain": [
       "array([2., 3., 4.])"
      ]
     },
     "execution_count": 58,
     "metadata": {},
     "output_type": "execute_result"
    }
   ],
   "source": [
    "np.sqrt([4, 9, 16]) # functions from different packages have different capabilities. Numpy can sqrt list of numbers"
   ]
  },
  {
   "cell_type": "markdown",
   "id": "d068db8a-910f-4efc-be96-b2f1a7dd6962",
   "metadata": {},
   "source": [
    "You only have to import packages once until you restart the interpreter"
   ]
  },
  {
   "cell_type": "markdown",
   "id": "510f605e-7a21-4772-99fe-86cf20488fe4",
   "metadata": {},
   "source": [
    "# The dot"
   ]
  },
  {
   "cell_type": "markdown",
   "id": "c0bae551-1627-43ee-acad-afc04a84a900",
   "metadata": {},
   "source": [
    "The dot indicates ownership!"
   ]
  },
  {
   "cell_type": "code",
   "execution_count": 60,
   "id": "a0c551c2-9401-47ac-8719-24d9f31dd733",
   "metadata": {},
   "outputs": [
    {
     "data": {
      "text/plain": [
       "2.0"
      ]
     },
     "execution_count": 60,
     "metadata": {},
     "output_type": "execute_result"
    }
   ],
   "source": [
    "math.sqrt(4) #referring to the sqrt in math package\n",
    "np.sqrt(4) #rferring to the sqrt in the np package"
   ]
  },
  {
   "cell_type": "markdown",
   "id": "31854bb7-b9ef-46bf-b574-a281bb2952db",
   "metadata": {},
   "source": [
    "Everything in Python (e.g., numbers, letters) has functions and attributes that belong to them. We can access them using the dot."
   ]
  },
  {
   "cell_type": "code",
   "execution_count": 61,
   "id": "d06ba3ea-908f-404f-884a-5d67feb61e03",
   "metadata": {},
   "outputs": [
    {
     "data": {
      "text/plain": [
       "['I', 'am', 'Batman']"
      ]
     },
     "execution_count": 61,
     "metadata": {},
     "output_type": "execute_result"
    }
   ],
   "source": [
    "\"I am Batman\".split()"
   ]
  },
  {
   "cell_type": "code",
   "execution_count": 63,
   "id": "52d68af1-8a31-4004-a485-b4796772893c",
   "metadata": {},
   "outputs": [
    {
     "ename": "SyntaxError",
     "evalue": "invalid decimal literal (230242834.py, line 1)",
     "output_type": "error",
     "traceback": [
      "\u001b[1;36m  Cell \u001b[1;32mIn[63], line 1\u001b[1;36m\u001b[0m\n\u001b[1;33m    1234.split() #does not work as there is no split function/attribute for numbers\u001b[0m\n\u001b[1;37m        ^\u001b[0m\n\u001b[1;31mSyntaxError\u001b[0m\u001b[1;31m:\u001b[0m invalid decimal literal\n"
     ]
    }
   ],
   "source": [
    "1234.split() #does not work as there is no split function/attribute for numbers"
   ]
  }
 ],
 "metadata": {
  "kernelspec": {
   "display_name": "Python 3 (ipykernel)",
   "language": "python",
   "name": "python3"
  },
  "language_info": {
   "codemirror_mode": {
    "name": "ipython",
    "version": 3
   },
   "file_extension": ".py",
   "mimetype": "text/x-python",
   "name": "python",
   "nbconvert_exporter": "python",
   "pygments_lexer": "ipython3",
   "version": "3.11.5"
  },
  "toc": {
   "base_numbering": 1,
   "nav_menu": {},
   "number_sections": true,
   "sideBar": true,
   "skip_h1_title": false,
   "title_cell": "Table of Contents",
   "title_sidebar": "Contents",
   "toc_cell": false,
   "toc_position": {},
   "toc_section_display": true,
   "toc_window_display": false
  },
  "vscode": {
   "interpreter": {
    "hash": "31f2aee4e71d21fbe5cf8b01ff0e069b9275f58929596ceb00d14d90e3e16cd6"
   }
  }
 },
 "nbformat": 4,
 "nbformat_minor": 5
}
