{
 "cells": [
  {
   "attachments": {},
   "cell_type": "markdown",
   "id": "123456",
   "metadata": {},
   "source": [
    "<div style=\"text-align:left;font-size:2em\"><span style=\"font-weight:bolder;font-size:1.25em\">SP2273 | Learning Portfolio</span><br><br><span style=\"font-weight:bold;color:darkred\">Fundamentals (Good)</span></div>"
   ]
  },
  {
   "attachments": {},
   "cell_type": "markdown",
   "id": "2573c7f7",
   "metadata": {},
   "source": [
    "# There is more to if"
   ]
  },
  {
   "cell_type": "code",
   "execution_count": 1,
   "id": "131ea1ac-e704-4aa7-92f9-b16ba6e88477",
   "metadata": {},
   "outputs": [
    {
     "name": "stdout",
     "output_type": "stream",
     "text": [
      "Hello Batman!\n"
     ]
    }
   ],
   "source": [
    "name = 'Batman'\n",
    "\n",
    "if name == 'Batman':\n",
    "    print('Hello Batman!')\n",
    "elif name == 'Robin':\n",
    "    print('Hello Sidekick!')\n",
    "else:\n",
    "    print('Hello World!')"
   ]
  },
  {
   "cell_type": "code",
   "execution_count": 2,
   "id": "eba34764-5fca-4cbb-84ac-fed491ec75e9",
   "metadata": {},
   "outputs": [
    {
     "name": "stdout",
     "output_type": "stream",
     "text": [
      "Hello Sidekick!\n"
     ]
    }
   ],
   "source": [
    "name = 'Robin'\n",
    "\n",
    "if name == 'Batman':\n",
    "    print('Hello Batman!')\n",
    "elif name == 'Robin':\n",
    "    print('Hello Sidekick!')\n",
    "else:\n",
    "    print('Hello World!')"
   ]
  },
  {
   "cell_type": "code",
   "execution_count": 4,
   "id": "a557fddb-f332-4c8e-a8b0-efff8b036cae",
   "metadata": {},
   "outputs": [
    {
     "name": "stdout",
     "output_type": "stream",
     "text": [
      "Hello World!\n"
     ]
    }
   ],
   "source": [
    "name = 'Raj'\n",
    "\n",
    "if name == 'Batman':\n",
    "    print('Hello Batman!')\n",
    "elif name == 'Robin':\n",
    "    print('Hello Sidekick!')\n",
    "else:\n",
    "    print('Hello World!')"
   ]
  },
  {
   "cell_type": "markdown",
   "id": "db96315c-35d9-4ebc-ab7b-a15b48a41338",
   "metadata": {},
   "source": [
    "The first if/ elif statement whose condition is met will be executed and all other statements will be skipped.\n",
    "Else will execute when all the if and elif conditons are not met "
   ]
  },
  {
   "attachments": {},
   "cell_type": "markdown",
   "id": "f5c7d42c",
   "metadata": {},
   "source": [
    "# Asking questions"
   ]
  },
  {
   "cell_type": "code",
   "execution_count": 6,
   "id": "a2afdb93-69df-46d6-85c2-b62cb7211839",
   "metadata": {},
   "outputs": [],
   "source": [
    "fruits = ['apple', 'banana', 'pineapple', 'jackfruit']\n",
    "vegetables = ['celery', 'potato', 'broccoli', 'kale']"
   ]
  },
  {
   "cell_type": "code",
   "execution_count": 7,
   "id": "03413b0c-cd94-483b-b53d-05759b7694c1",
   "metadata": {},
   "outputs": [
    {
     "data": {
      "text/plain": [
       "True"
      ]
     },
     "execution_count": 7,
     "metadata": {},
     "output_type": "execute_result"
    }
   ],
   "source": [
    "'apple' in fruits #checks if the string 'apple' is contained in the list of fruits, therefore this statement is True"
   ]
  },
  {
   "cell_type": "code",
   "execution_count": 8,
   "id": "fa7895b8-4526-4919-9988-38f8120b1c5d",
   "metadata": {},
   "outputs": [
    {
     "data": {
      "text/plain": [
       "False"
      ]
     },
     "execution_count": 8,
     "metadata": {},
     "output_type": "execute_result"
    }
   ],
   "source": [
    "'peach' in fruits #checks if the string \"peach\" is contained in the list of fruits, therefore this statement is False as the list Fruits does not\n",
    "                    # have the string \"peach\" inside it"
   ]
  },
  {
   "cell_type": "code",
   "execution_count": 9,
   "id": "9164ea5b-4e87-49ee-b248-d5029fc41e03",
   "metadata": {},
   "outputs": [
    {
     "data": {
      "text/plain": [
       "True"
      ]
     },
     "execution_count": 9,
     "metadata": {},
     "output_type": "execute_result"
    }
   ],
   "source": [
    "'peach' not in fruits #checks if the string 'peach' is NOT in the list of fruits. Since peach is not there, the statement is True"
   ]
  },
  {
   "cell_type": "code",
   "execution_count": 10,
   "id": "93922e49-08ed-48a4-9465-0e4d631158b3",
   "metadata": {},
   "outputs": [
    {
     "data": {
      "text/plain": [
       "True"
      ]
     },
     "execution_count": 10,
     "metadata": {},
     "output_type": "execute_result"
    }
   ],
   "source": [
    "('apple' in fruits) and ('celery' in vegetables)  #this statements has the and operation. The output will be True if both\n",
    "                                                    #conditions in the and statement are True\n",
    "                                                    #if either one or both conditions are False, the output will be False\n",
    "                                "
   ]
  },
  {
   "cell_type": "code",
   "execution_count": 11,
   "id": "5945d0db-8a73-46da-b28f-efa5f00616de",
   "metadata": {},
   "outputs": [
    {
     "data": {
      "text/plain": [
       "True"
      ]
     },
     "execution_count": 11,
     "metadata": {},
     "output_type": "execute_result"
    }
   ],
   "source": [
    "('apple' in fruits) or ('celery' in vegetables)  #This statement has the or operation. The output will be True if at least\n",
    "                                                #one of the statements are True. Only if both statements are False will the output be False\n",
    "                                                #Since "
   ]
  },
  {
   "cell_type": "code",
   "execution_count": 12,
   "id": "682cf98c-b4eb-4690-8670-2c0f8fe7bb5e",
   "metadata": {},
   "outputs": [
    {
     "data": {
      "text/plain": [
       "True"
      ]
     },
     "execution_count": 12,
     "metadata": {},
     "output_type": "execute_result"
    }
   ],
   "source": [
    "'app' in 'apple'    #this statement is checking if the 'app' string is contained within the 'apple' string. Therefore this is true\n"
   ]
  },
  {
   "cell_type": "code",
   "execution_count": 13,
   "id": "a32037e0-c7b1-4940-860e-7deb0f638f4a",
   "metadata": {},
   "outputs": [
    {
     "data": {
      "text/plain": [
       "False"
      ]
     },
     "execution_count": 13,
     "metadata": {},
     "output_type": "execute_result"
    }
   ],
   "source": [
    "'apples' > 'oranges' #comparison will be done using ASCII table where string symbols are assigned to certain numbers.\n",
    "                    #These numbers will be compared when using a the inequality sign between strings"
   ]
  },
  {
   "cell_type": "markdown",
   "id": "1f009da3-6248-48f6-abff-950474ff2074",
   "metadata": {},
   "source": [
    "Take note that the comparisons can only be done between values of the same data type. Therefore an int needs to be converted to\n",
    "a string datatype in order to be comapred to another string."
   ]
  },
  {
   "attachments": {},
   "cell_type": "markdown",
   "id": "25e65ffd",
   "metadata": {},
   "source": [
    "## Asking Math questions"
   ]
  },
  {
   "cell_type": "markdown",
   "id": "d2ac8e3a-b83f-4683-9658-e9e231f20c7d",
   "metadata": {},
   "source": [
    "| Question/Condition     | Math Symbol | Python Symbols |\n",
    "|------------------------|-------------|----------------|\n",
    "| Equals?                | =           | ==             |\n",
    "| Not equal?             | ≠           | !=             |\n",
    "| Less than?             | <           | <              |\n",
    "| Greater than?          | >           | >              |\n",
    "| Less than or equal?    | ≤           | <=             |\n",
    "| Greater than or equal? | ≥           | >=             |\n"
   ]
  },
  {
   "cell_type": "markdown",
   "id": "cce75fd1-2488-4aa0-892f-b770dabcbd9e",
   "metadata": {},
   "source": [
    "Table of python math-related symbols"
   ]
  },
  {
   "cell_type": "code",
   "execution_count": 21,
   "id": "24f144f4-c6a9-480c-ae0a-d4a5f3df6217",
   "metadata": {},
   "outputs": [
    {
     "data": {
      "text/plain": [
       "True"
      ]
     },
     "execution_count": 21,
     "metadata": {},
     "output_type": "execute_result"
    }
   ],
   "source": [
    "x = 7\n",
    "x > 5 and x < 15\n",
    "(x > 5) and (x < 15)\n",
    "5 < x < 15    #all these syntax can work but the last line is the most neatest but the brackets in the 2nd statement increases\n",
    "                #the readibility of the statement"
   ]
  },
  {
   "attachments": {},
   "cell_type": "markdown",
   "id": "530a76bf",
   "metadata": {},
   "source": [
    "# Python stores information in different formats or types"
   ]
  },
  {
   "cell_type": "code",
   "execution_count": 23,
   "id": "83a9c48b-ef54-428f-8ac3-668f6e10a427",
   "metadata": {},
   "outputs": [
    {
     "name": "stdout",
     "output_type": "stream",
     "text": [
      "1 <class 'int'>\n"
     ]
    }
   ],
   "source": [
    "x = int(1.234)        #to store the number as an integer. The decimals will be lost\n",
    "print(x, type(x))     ##integer type"
   ]
  },
  {
   "cell_type": "code",
   "execution_count": 24,
   "id": "431ae644-0aa4-42df-a8a9-4b5b48874d55",
   "metadata": {},
   "outputs": [
    {
     "name": "stdout",
     "output_type": "stream",
     "text": [
      "1.234 <class 'str'>\n"
     ]
    }
   ],
   "source": [
    "x = str(1.234)        #to store the number as a string\n",
    "print(x, type(x))     #decimals will not be lost"
   ]
  },
  {
   "cell_type": "code",
   "execution_count": 25,
   "id": "bfdd6d19-1147-4354-a053-8c40b166b854",
   "metadata": {},
   "outputs": [
    {
     "name": "stdout",
     "output_type": "stream",
     "text": [
      "1.234 <class 'float'>\n"
     ]
    }
   ],
   "source": [
    "x = float(1.234)       #to store the number as a float, essentially a number with decimals\n",
    "print(x, type(x))      # the decimals will not be dropped "
   ]
  },
  {
   "cell_type": "code",
   "execution_count": 26,
   "id": "8c2d8a99-45b6-43cf-b1f2-fc88512c2d77",
   "metadata": {},
   "outputs": [
    {
     "name": "stdout",
     "output_type": "stream",
     "text": [
      "(1.234+0j) <class 'complex'>\n"
     ]
    }
   ],
   "source": [
    "x = complex(1.234)    # to store the number as a complex number\n",
    "print(x, type(x))     # will add the imaginary componnent to the number"
   ]
  },
  {
   "cell_type": "code",
   "execution_count": 27,
   "id": "58014294-bc87-475e-8b6d-3b2be8362c03",
   "metadata": {},
   "outputs": [
    {
     "name": "stdout",
     "output_type": "stream",
     "text": [
      "1.234 <class 'str'>\n"
     ]
    }
   ],
   "source": [
    "#changing datatypes\n",
    "\n",
    "x = '1.234'        # x is a string\n",
    "print(x, type(x))"
   ]
  },
  {
   "cell_type": "code",
   "execution_count": 28,
   "id": "09b8b851-c484-4316-9d36-6803d2d19dac",
   "metadata": {},
   "outputs": [
    {
     "name": "stdout",
     "output_type": "stream",
     "text": [
      "1.234 <class 'float'>\n"
     ]
    }
   ],
   "source": [
    "x = float(x)       # x is now a decimal number\n",
    "print(x, type(x))\n"
   ]
  },
  {
   "cell_type": "markdown",
   "id": "07dd38eb-2a74-4efb-87bd-853d05f3a37f",
   "metadata": {},
   "source": [
    "Changing the datatype is known as typecasting"
   ]
  },
  {
   "attachments": {},
   "cell_type": "markdown",
   "id": "7285bf76",
   "metadata": {},
   "source": [
    "# Never compare floats directly"
   ]
  },
  {
   "attachments": {},
   "cell_type": "markdown",
   "id": "525273bf",
   "metadata": {},
   "source": [
    "## The Problem(roundoff errors)"
   ]
  },
  {
   "cell_type": "code",
   "execution_count": 29,
   "id": "0c54b611-0e52-43eb-b935-c4c8ae667fd8",
   "metadata": {},
   "outputs": [
    {
     "data": {
      "text/plain": [
       "False"
      ]
     },
     "execution_count": 29,
     "metadata": {},
     "output_type": "execute_result"
    }
   ],
   "source": [
    "a = 0.1\n",
    "a3 = 0.3\n",
    "a * 3 == a3"
   ]
  },
  {
   "cell_type": "code",
   "execution_count": 30,
   "id": "040ab461-6bec-4fbf-8b9e-7b56d9725283",
   "metadata": {},
   "outputs": [
    {
     "data": {
      "text/plain": [
       "'0.29999999999999999'"
      ]
     },
     "execution_count": 30,
     "metadata": {},
     "output_type": "execute_result"
    }
   ],
   "source": [
    "f'{0.3:.17f}'  #shows that the 0.3 that is stored in the computer is not exactly 0.3\n",
    "                # this would lead to roundoff errors where comparing 2 values that\n",
    "                #have been computed in different manners will result in False"
   ]
  },
  {
   "attachments": {},
   "cell_type": "markdown",
   "id": "f25a1422",
   "metadata": {},
   "source": [
    "## A solution"
   ]
  },
  {
   "cell_type": "code",
   "execution_count": 35,
   "id": "f3793fbd-2a31-48cb-830c-7b5ba6554c34",
   "metadata": {},
   "outputs": [],
   "source": [
    "import numpy as np"
   ]
  },
  {
   "cell_type": "code",
   "execution_count": 33,
   "id": "ebd5c710-aede-4de6-8e62-c7cc3b796d18",
   "metadata": {},
   "outputs": [
    {
     "data": {
      "text/plain": [
       "True"
      ]
     },
     "execution_count": 33,
     "metadata": {},
     "output_type": "execute_result"
    }
   ],
   "source": [
    "eps = 1E-10    #create a very small number\n",
    "abs(a*3-a3) < eps    #make sure the difference is small and isnignificant"
   ]
  },
  {
   "cell_type": "code",
   "execution_count": 36,
   "id": "926b45cb-a50a-4f8c-b464-198cc22b69dd",
   "metadata": {},
   "outputs": [
    {
     "data": {
      "text/plain": [
       "True"
      ]
     },
     "execution_count": 36,
     "metadata": {},
     "output_type": "execute_result"
    }
   ],
   "source": [
    "np.isclose(a*3,a3)  #use numpy functions"
   ]
  },
  {
   "attachments": {},
   "cell_type": "markdown",
   "id": "6b75cb1f",
   "metadata": {},
   "source": [
    "# Combining English and variables"
   ]
  },
  {
   "cell_type": "markdown",
   "id": "124fb78f-fbe6-4642-9fb6-053ffc66804f",
   "metadata": {},
   "source": [
    "How to combine varbles values with strings using f-strings/string interpolation:\n",
    "\n",
    "The\"f\" is put before the start of the string to indicate it will be an f string. The variable name will be placed within {} brackets in order to indicate where its value will\n",
    "be displayed in the string output."
   ]
  },
  {
   "cell_type": "code",
   "execution_count": 37,
   "id": "e3fed64e-3e7c-4ea9-b08b-47d2d6a6398c",
   "metadata": {},
   "outputs": [
    {
     "name": "stdout",
     "output_type": "stream",
     "text": [
      "Hello Batman!\n"
     ]
    }
   ],
   "source": [
    "name = \"Batman\"  #\"Batman\" stored inside name\n",
    "print(f\"Hello {name}!\")  #f string will replace {name} with the value stored inside"
   ]
  },
  {
   "cell_type": "code",
   "execution_count": 40,
   "id": "c6ca886a-2569-4054-ac4b-1dfa089cee3e",
   "metadata": {},
   "outputs": [
    {
     "name": "stdout",
     "output_type": "stream",
     "text": [
      "Hello BATMAN!\n"
     ]
    }
   ],
   "source": [
    "name = \"Batman\"\n",
    "print(f\"Hello {name.upper()}!\")   #same situation but with .upper() to capitalise the \n",
    "                                    #letters of batman"
   ]
  },
  {
   "cell_type": "code",
   "execution_count": 41,
   "id": "c175bd04-480e-4b95-9dbd-7818f5f15be7",
   "metadata": {},
   "outputs": [
    {
     "name": "stdout",
     "output_type": "stream",
     "text": [
      "The value of 10 squared is 100!\n"
     ]
    }
   ],
   "source": [
    "x = 10\n",
    "print(f\"The value of {x} squared is {x**2}!\")   #outputing numbers within the f-string"
   ]
  },
  {
   "cell_type": "markdown",
   "id": "581183c8-4395-4666-a0df-98e6323d08e6",
   "metadata": {},
   "source": [
    "## Formatting text with f-strings:"
   ]
  },
  {
   "cell_type": "code",
   "execution_count": 44,
   "id": "08d54121-2782-47eb-82aa-83a1a4ac4b2b",
   "metadata": {},
   "outputs": [
    {
     "name": "stdout",
     "output_type": "stream",
     "text": [
      "Bruce Wayne is Batman.\n"
     ]
    }
   ],
   "source": [
    "text = 'Bruce Wayne is Batman.'\n",
    "print(f'{text}')"
   ]
  },
  {
   "cell_type": "code",
   "execution_count": 45,
   "id": "f59d74a5-df5c-40c5-afa6-c61aa9c6d9ca",
   "metadata": {},
   "outputs": [
    {
     "name": "stdout",
     "output_type": "stream",
     "text": [
      "        Bruce Wayne is Batman.\n"
     ]
    }
   ],
   "source": [
    "print(f'{text:>30}')      # A block of 30 characters;\n",
    "                          # aligned right\n"
   ]
  },
  {
   "cell_type": "code",
   "execution_count": 46,
   "id": "02c93614-e775-42c0-baa2-a13c0985220b",
   "metadata": {},
   "outputs": [
    {
     "name": "stdout",
     "output_type": "stream",
     "text": [
      "    Bruce Wayne is Batman.    \n"
     ]
    }
   ],
   "source": [
    "print(f'{text:^30}')      # A block of 30 characters;\n",
    "                          # aligned centre"
   ]
  },
  {
   "cell_type": "code",
   "execution_count": 47,
   "id": "65d56e90-fd14-4f59-95de-5ef033e14c97",
   "metadata": {},
   "outputs": [
    {
     "name": "stdout",
     "output_type": "stream",
     "text": [
      "Bruce Wayne is Batman.        \n"
     ]
    }
   ],
   "source": [
    "print(f'{text:<30}')      # A block of 30 characters;\n",
    "                          # aligned left"
   ]
  },
  {
   "cell_type": "code",
   "execution_count": 48,
   "id": "37469732-746e-487e-b39d-39f5728dc5fa",
   "metadata": {},
   "outputs": [
    {
     "name": "stdout",
     "output_type": "stream",
     "text": [
      "The cube of pi to 6 decimal places is 31.006277\n"
     ]
    }
   ],
   "source": [
    "print(f'The cube of pi to 6 decimal places is {np.pi**3:.6f}')"
   ]
  },
  {
   "cell_type": "markdown",
   "id": "48542f30-a183-4f2e-930d-d77f8062411e",
   "metadata": {},
   "source": [
    "The f in .6f is used to tell the f-string to output te numer in decimal notation"
   ]
  },
  {
   "cell_type": "code",
   "execution_count": 49,
   "id": "014d98b0-86bc-4637-bf8d-24fd7c150166",
   "metadata": {},
   "outputs": [
    {
     "name": "stdout",
     "output_type": "stream",
     "text": [
      "The cube of pi to 6 decimal places is 3.100628e+01\n"
     ]
    }
   ],
   "source": [
    "print(f'The cube of pi to 6 decimal places is {np.pi**3:.6e}')"
   ]
  },
  {
   "cell_type": "markdown",
   "id": "7dd1a6a6-690c-4def-92c6-e78f73ecde7a",
   "metadata": {},
   "source": [
    "the e in .6e is used to tell the f-string to output the number in scientific notation"
   ]
  },
  {
   "attachments": {},
   "cell_type": "markdown",
   "id": "39897a69",
   "metadata": {},
   "source": [
    "## Structure of f-strings"
   ]
  },
  {
   "cell_type": "markdown",
   "id": "0d2b6a3e-c5ed-4ba3-8d81-ca02a27b4144",
   "metadata": {},
   "source": [
    "f-string formatting is represented as shown :  ``` {X:>0Y.ZW} ```\n",
    "Each letter represents a part of the format that can be manipulated.\n",
    "How each component of the format can be changed is shown below."
   ]
  },
  {
   "cell_type": "markdown",
   "id": "5060f4ca-73cd-419b-87c3-fdd10c6617e7",
   "metadata": {},
   "source": [
    "| Letter | Action             | Possible Options                        |\n",
    "|--------|--------------------|-----------------------------------------|\n",
    "| X      | Variable to format | Can be a number or a string             |\n",
    "| >      | Alignment          | • < (Left justified)                    |\n",
    "|        |                    | • > (Right justified)                   |\n",
    "|        |                    | • ^ (Centre justified)                  |\n",
    "| 0      | Use 0’s to pad the spaces | You can use other characters like a space |\n",
    "| Y      | Total number of characters |                                       |\n",
    "| Z      | Number of decimal places    |                                       |\n",
    "| W      | Specifies the type of variable. | • f (float)                       |\n",
    "|        |                                | • d (integer)                      |\n",
    "|        |                                | • s (string)                       |\n",
    "|        |                                | • g (Asks Python to figure out)    |\n"
   ]
  },
  {
   "attachments": {},
   "cell_type": "markdown",
   "id": "c5f66554",
   "metadata": {},
   "source": [
    "# Escape sequences"
   ]
  },
  {
   "cell_type": "markdown",
   "id": "31d10c06-b596-49c0-9a1a-3964b6efed6c",
   "metadata": {},
   "source": [
    "These are special characters that can break a line or add a tab. An example is shown below"
   ]
  },
  {
   "cell_type": "code",
   "execution_count": 99,
   "id": "87455e33-7fee-486f-9e50-a44d9005efb8",
   "metadata": {},
   "outputs": [
    {
     "name": "stdout",
     "output_type": "stream",
     "text": [
      "Line 1\n",
      "\tLine 2\n",
      "\t\tLine 3\n"
     ]
    }
   ],
   "source": [
    "print('Line 1\\n\\tLine 2\\n\\t\\tLine 3')   #an example of the use of escape sequences"
   ]
  },
  {
   "cell_type": "markdown",
   "id": "19d31936-4eae-4101-aee4-f86ccc0e6829",
   "metadata": {},
   "source": [
    "The \\n is to break line and \\t represents adding a tab space. They will not be visible in the output but are present in the code>\n",
    "\n",
    "Additional useful escape sequences are shown below:"
   ]
  },
  {
   "cell_type": "markdown",
   "id": "0d0c3aa5-46ed-4008-bd60-3247eb5a111c",
   "metadata": {},
   "source": [
    "| Escape Sequence | Meaning        |\n",
    "|-----------------|----------------|\n",
    "| ```\\'```              | Single quote   |\n",
    "| ```\\\\```              | Backslash      |\n",
    "| ```\\n```              | Newline        |\n",
    "| ```\\t```              | Horizontal Tab |\n"
   ]
  },
  {
   "cell_type": "markdown",
   "id": "efb387f5-f0ef-4057-8ab4-76f5ca7860e1",
   "metadata": {},
   "source": [
    "Using escaped ```\\'``` makes things simpler as now we do not need to think about whether we should use ```'``` or ```\"``` in the string and instead can ecape the ```'``` in the string.\n",
    "An example is shown below:"
   ]
  },
  {
   "cell_type": "code",
   "execution_count": 57,
   "id": "b2d547ee-ef5e-4f5b-9737-b2675d1a9aaf",
   "metadata": {},
   "outputs": [
    {
     "name": "stdout",
     "output_type": "stream",
     "text": [
      "You're twenty years old.\n"
     ]
    }
   ],
   "source": [
    "print('You\\'re twenty years old.') #only using single inverted commas but escaped the one \n",
    "                                   #within the string\n",
    "\n"
   ]
  },
  {
   "cell_type": "markdown",
   "id": "307c9a55-9148-414a-8c91-25ed7042d464",
   "metadata": {},
   "source": [
    "printing ```\\```"
   ]
  },
  {
   "cell_type": "code",
   "execution_count": 67,
   "id": "edd2770d-2810-45b8-abd9-cf2c671ec7b4",
   "metadata": {},
   "outputs": [
    {
     "name": "stdout",
     "output_type": "stream",
     "text": [
      "A\\B\\C\n"
     ]
    }
   ],
   "source": [
    "print('A\\\\B\\\\C')"
   ]
  },
  {
   "cell_type": "code",
   "execution_count": 68,
   "id": "feeb5da3-8d5f-4549-9363-646a3ea4d97c",
   "metadata": {},
   "outputs": [
    {
     "name": "stdout",
     "output_type": "stream",
     "text": [
      "A\\B\\C\n"
     ]
    }
   ],
   "source": [
    "print('A\\B\\C')   #Wtithout escaping the backslashes."
   ]
  },
  {
   "cell_type": "markdown",
   "id": "15b4bba8-dd04-4666-b01a-710ebb139b8f",
   "metadata": {},
   "source": [
    "Since ```\\B``` and ```\\C``` are not valid escape sequences, they are still printed as is"
   ]
  },
  {
   "cell_type": "code",
   "execution_count": 70,
   "id": "032f51eb-0c36-4ee2-b7fa-06fd374774e5",
   "metadata": {},
   "outputs": [
    {
     "name": "stdout",
     "output_type": "stream",
     "text": [
      "A\n",
      "B\n",
      "C\n"
     ]
    }
   ],
   "source": [
    "print('A\\nB\\nC')  #\\n is a valid escape sequence and creates a linebreak"
   ]
  },
  {
   "cell_type": "code",
   "execution_count": 72,
   "id": "9847f14e-9978-49dc-8e7a-b9598ee4d26c",
   "metadata": {},
   "outputs": [
    {
     "name": "stdout",
     "output_type": "stream",
     "text": [
      "A\tB\tC\n"
     ]
    }
   ],
   "source": [
    "print('A\\tB\\tC')  #\\t is a valid escape sequence and creates a tab space"
   ]
  },
  {
   "attachments": {},
   "cell_type": "markdown",
   "id": "77100b57",
   "metadata": {},
   "source": [
    "# Computers read = from Right to Left!"
   ]
  },
  {
   "cell_type": "code",
   "execution_count": 75,
   "id": "0aec5b17-0124-4764-89fe-293a2e615d6e",
   "metadata": {},
   "outputs": [
    {
     "name": "stdout",
     "output_type": "stream",
     "text": [
      "42\n"
     ]
    }
   ],
   "source": [
    "x = 40\n",
    "y = x + 2\n",
    "print(y)"
   ]
  },
  {
   "cell_type": "markdown",
   "id": "3b9a97b0-c0df-407b-9d9c-a64df278fa97",
   "metadata": {},
   "source": [
    "1. the value  40 is first assigned to x\n",
    "2. the variable y is then assigned the sum of the value of x and 2\n",
    "3. The value of y is printed"
   ]
  },
  {
   "cell_type": "code",
   "execution_count": null,
   "id": "c7a9eadd-bc39-439c-8f8c-5d657eed982d",
   "metadata": {},
   "outputs": [],
   "source": [
    "x = y = 10  "
   ]
  },
  {
   "cell_type": "markdown",
   "id": "b3b01d21-0e27-41b0-b76f-dad8e43c440f",
   "metadata": {},
   "source": [
    "1. y will first be assigned the value 10\n",
    "2. x will then be assigned the value of y\n",
    "3. both x and y will be assigned with the value 10"
   ]
  },
  {
   "attachments": {},
   "cell_type": "markdown",
   "id": "7b029d7a",
   "metadata": {},
   "source": [
    "# Shorter and Cleaner Code"
   ]
  },
  {
   "cell_type": "markdown",
   "id": "74f7dd91-8038-4b72-8e2b-82b1bc775c4a",
   "metadata": {},
   "source": [
    "Two examples of a common type of code will be shown. The second example is simply shorthand of the the first example to make the code cleaner."
   ]
  },
  {
   "cell_type": "code",
   "execution_count": 100,
   "id": "da9b1a39-bd56-474b-9fe0-a0f3804471a8",
   "metadata": {},
   "outputs": [
    {
     "name": "stdout",
     "output_type": "stream",
     "text": [
      "42\n"
     ]
    }
   ],
   "source": [
    "#example 1\n",
    "y = 40\n",
    "y = y + 2\n",
    "print(y)  "
   ]
  },
  {
   "cell_type": "code",
   "execution_count": 101,
   "id": "3cd23651-0e81-4bd3-b984-1fe7394cbf8c",
   "metadata": {},
   "outputs": [
    {
     "name": "stdout",
     "output_type": "stream",
     "text": [
      "42\n"
     ]
    }
   ],
   "source": [
    "#example 2\n",
    "y = 40\n",
    "y+=2  #this is effectively y = y+2\n",
    "print(y)"
   ]
  },
  {
   "cell_type": "markdown",
   "id": "55a74538-a2d4-4c3e-87cb-ea7b579a1c3f",
   "metadata": {},
   "source": [
    "Similar kinds of shorthand are shown below:"
   ]
  },
  {
   "cell_type": "markdown",
   "id": "56cd5990-725a-4f7e-8809-4db20d043174",
   "metadata": {},
   "source": [
    "| Operation      | Long form  | Shorthand |\n",
    "|----------------|------------|-----------|\n",
    "| Addition       | y = y + 2  | y += 2    |\n",
    "| Subtraction    | y = y - 2  | y -= 2    |\n",
    "| Multiplication | y = y * 2  | y *= 2    |\n",
    "| Division       | y = y / 2  | y /= 2    |\n"
   ]
  },
  {
   "attachments": {},
   "cell_type": "markdown",
   "id": "9114bd08",
   "metadata": {},
   "source": [
    "# Python can be a prima-donna."
   ]
  },
  {
   "cell_type": "markdown",
   "id": "bf3f44e8-24e9-432a-a4b5-43991d0ac2a8",
   "metadata": {},
   "source": [
    "Python and most programming languages are very anal about their syntax. If there are even tiny errors, python will throw a 'tantrum' (not complie) and 'complain'(show an error message). The type of issue with the code will be indicated by python, e.g. syntaxerror for missing ```:``` in if statements or type errors for trying to add a string to an integer.\n",
    "\n",
    "Debugging is the practice of identifying the flaw and resolving the problem in the code. One good method is to use print statements to see the values or information that is being passed from variable to another. An example is shown below of how this can be done. However take the opportunity to debug as it allows one to practice this essential skill and even understand the nuances of the coding language that we are dealing with.\n",
    "\n"
   ]
  },
  {
   "cell_type": "code",
   "execution_count": 93,
   "id": "1b03bd27-069a-410f-b61f-7d8de0944d44",
   "metadata": {},
   "outputs": [
    {
     "name": "stdout",
     "output_type": "stream",
     "text": [
      "odd\n"
     ]
    }
   ],
   "source": [
    "#Debugging example using print statement:\n",
    "#flawed code that checks if number is even or odd:\n",
    "\n",
    "number = 2\n",
    "remainder = number/2\n",
    "\n",
    "if remainder == 0:   \n",
    "    print('even')\n",
    "else:\n",
    "    print('odd')\n",
    "\n"
   ]
  },
  {
   "cell_type": "markdown",
   "id": "1cc0aa82-f250-4bc7-9264-eb38b682ce81",
   "metadata": {},
   "source": [
    "in the above code it can be seen that it indicates 2 to be an odd number, which is clearly wrong. We will print the remainder variable to check what value is being assigned to it.\n",
    "We know that remainder should be 0 when the number is even and nonzero when the number is odd, we will check if this is being demonstrated in the code uning the print statement"
   ]
  },
  {
   "cell_type": "code",
   "execution_count": 95,
   "id": "3cea7104-8b5d-4b70-a1fe-f9b18444d250",
   "metadata": {},
   "outputs": [
    {
     "name": "stdout",
     "output_type": "stream",
     "text": [
      "1.0\n",
      "odd\n"
     ]
    }
   ],
   "source": [
    "number = 2\n",
    "remainder = number/2\n",
    "print(remainder)   #debug statement\n",
    "if remainder == 0:   \n",
    "    print('even')\n",
    "else:\n",
    "    print('odd')"
   ]
  },
  {
   "cell_type": "markdown",
   "id": "dbbc22ec-ad3e-4c6b-86a7-5d70e1092ae0",
   "metadata": {},
   "source": [
    "The output is 1 with an even number. Therefore we can tell that the remainder is being calculated incorrectly. Now we can shift our attention to ```number/2```. Now we have spotted the mistake. The ```/``` outputs the quotient when we want the remainder. Therfore we must use ```%``` instead to get the remainder"
   ]
  },
  {
   "cell_type": "code",
   "execution_count": 102,
   "id": "b9a0d03a-5ea5-43c7-b494-0bde691699a8",
   "metadata": {},
   "outputs": [
    {
     "name": "stdout",
     "output_type": "stream",
     "text": [
      "0\n",
      "even\n"
     ]
    }
   ],
   "source": [
    "\n",
    "number = 2\n",
    "remainder = number%2\n",
    "print(remainder) #remove after checking output\n",
    "if remainder == 0:   \n",
    "    print('even')\n",
    "else:\n",
    "    print('odd')"
   ]
  },
  {
   "cell_type": "markdown",
   "id": "8b3ea8a3-5b0a-4a66-bdd1-4c9df271fe31",
   "metadata": {},
   "source": [
    "The remainder is now being computed correctly and the code is indicating correctly whether the number is even or odd. We can now remove the print statement we used to debug to prevent any unwanted outputs from showing up."
   ]
  },
  {
   "attachments": {},
   "cell_type": "markdown",
   "id": "5da983db",
   "metadata": {},
   "source": [
    "# Best Practices for Scientific Computing"
   ]
  },
  {
   "cell_type": "markdown",
   "id": "53653351-666b-4ec8-a5fd-2abaa2b5233e",
   "metadata": {},
   "source": [
    "Some pointers that are relevant at this stage by Wilson et al. (2014)."
   ]
  },
  {
   "cell_type": "markdown",
   "id": "9faa16d9-3f3d-48b7-b64b-f3d9513686e2",
   "metadata": {},
   "source": [
    "1. Write programs for people, not computers.\n",
    "2. Optimise software only after it works correctly\n",
    "3. Document design and purpose, not mechanics.\n",
    "4. Collaborate"
   ]
  },
  {
   "cell_type": "markdown",
   "id": "4df78bf8-c176-48f6-9ce5-14ca41eecdd9",
   "metadata": {},
   "source": [
    "Refernceing point 1:\n",
    "If code is written in a haphazard way, it will become very unredable and make no sense to others or even your future self. This would prevent collaboration or even prevent you from being able to continue working on your code in the future. Always make sure to consciously create readable code for you and others to understand. \n",
    "\n",
    "Referencing point 4:\n",
    "By creating readable code we can open ourselve to collaboration so we can get feedback from others regarding our code. This allows us to further understand or optimize our code.\n",
    "\n",
    "Referencing point 2:\n",
    "Try to first get a working piece of code instead of writing the perfect code for the situation. Trying to get the perfect solution on the first try is extremely time consuming and rigorous. Instead think of optimising the code at a later stage after a solution has been found."
   ]
  },
  {
   "attachments": {},
   "cell_type": "markdown",
   "id": "72bfe5b4",
   "metadata": {},
   "source": [
    "# Looking for help"
   ]
  },
  {
   "cell_type": "code",
   "execution_count": 98,
   "id": "638a4768-4e56-44c0-b9f1-3aa5b64d87ff",
   "metadata": {},
   "outputs": [
    {
     "name": "stdout",
     "output_type": "stream",
     "text": [
      "Help on built-in function print in module builtins:\n",
      "\n",
      "print(*args, sep=' ', end='\\n', file=None, flush=False)\n",
      "    Prints the values to a stream, or to sys.stdout by default.\n",
      "    \n",
      "    sep\n",
      "      string inserted between values, default a space.\n",
      "    end\n",
      "      string appended after the last value, default a newline.\n",
      "    file\n",
      "      a file-like object (stream); defaults to the current sys.stdout.\n",
      "    flush\n",
      "      whether to forcibly flush the stream.\n",
      "\n"
     ]
    }
   ],
   "source": [
    "help(print)"
   ]
  },
  {
   "cell_type": "markdown",
   "id": "8d6fb567-be86-421f-bafb-5b55f4e2380f",
   "metadata": {},
   "source": [
    "one could use the ```help()``` function to understand how certain functions work in python although it is not recommended. However without experience, it can be tough to understand the documentation. Online resources like Stack overflow, google or Chatgpt can give more understandable answers."
   ]
  },
  {
   "attachments": {},
   "cell_type": "markdown",
   "id": "fa3c7230",
   "metadata": {},
   "source": [
    "## References"
   ]
  },
  {
   "cell_type": "markdown",
   "id": "81311fa1-9e6f-423e-9a0b-5fb59ba5cb9a",
   "metadata": {},
   "source": [
    "Wilson, Greg, D. A. Aruliah, C. Titus Brown, Neil P. Chue Hong, Matt Davis, Richard T. Guy, Steven H. D. Haddock, et al. 2014. “Best Practices for Scientific Computing.” PLOS Biology 12 (1): e1001745. https://doi.org/10.1371/journal.pbio.1001745."
   ]
  },
  {
   "attachments": {},
   "cell_type": "markdown",
   "id": "f21e4afa",
   "metadata": {},
   "source": [
    "## Footnotes"
   ]
  }
 ],
 "metadata": {
  "kernelspec": {
   "display_name": "Python 3 (ipykernel)",
   "language": "python",
   "name": "python3"
  },
  "language_info": {
   "codemirror_mode": {
    "name": "ipython",
    "version": 3
   },
   "file_extension": ".py",
   "mimetype": "text/x-python",
   "name": "python",
   "nbconvert_exporter": "python",
   "pygments_lexer": "ipython3",
   "version": "3.11.5"
  },
  "toc": {
   "base_numbering": 1,
   "nav_menu": {},
   "number_sections": true,
   "sideBar": true,
   "skip_h1_title": false,
   "title_cell": "Table of Contents",
   "title_sidebar": "Contents",
   "toc_cell": false,
   "toc_position": {},
   "toc_section_display": true,
   "toc_window_display": false
  },
  "vscode": {
   "interpreter": {
    "hash": "31f2aee4e71d21fbe5cf8b01ff0e069b9275f58929596ceb00d14d90e3e16cd6"
   }
  }
 },
 "nbformat": 4,
 "nbformat_minor": 5
}
